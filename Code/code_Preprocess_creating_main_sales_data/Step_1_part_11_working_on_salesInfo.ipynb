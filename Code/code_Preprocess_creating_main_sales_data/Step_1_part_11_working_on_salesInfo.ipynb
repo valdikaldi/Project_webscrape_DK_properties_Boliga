{
 "cells": [
  {
   "cell_type": "code",
   "execution_count": 1,
   "metadata": {},
   "outputs": [],
   "source": [
    "import pandas as pd \n",
    "import ast\n",
    "import json\n",
    "from pandas import json_normalize"
   ]
  },
  {
   "cell_type": "markdown",
   "metadata": {},
   "source": [
    ".\n",
    "## ==================================================\n",
    "# Boliga_propertySales_additionalFloorInfos.csv\n",
    "## ==================================================\n",
    "."
   ]
  },
  {
   "cell_type": "markdown",
   "metadata": {},
   "source": [
    "## ----- read in the file : "
   ]
  },
  {
   "cell_type": "code",
   "execution_count": 2,
   "metadata": {},
   "outputs": [
    {
     "name": "stdout",
     "output_type": "stream",
     "text": [
      "<class 'pandas.core.frame.DataFrame'>\n",
      "RangeIndex: 1031507 entries, 0 to 1031506\n",
      "Data columns (total 17 columns):\n",
      " #   Column                                  Non-Null Count    Dtype \n",
      "---  ------                                  --------------    ----- \n",
      " 0   RowID_MAIN_boliga_ROW_ID_unitID         1031507 non-null  object\n",
      " 1   RowID_propertyCode_bfeCode              1031507 non-null  int64 \n",
      " 2   RowID_municipalityCode                  1031507 non-null  int64 \n",
      " 3   RowID_propertyCode_esrCode              1031507 non-null  int64 \n",
      " 4   Address_info_addressString              1031507 non-null  object\n",
      " 5   Address_info_streetString               1031507 non-null  object\n",
      " 6   Address_info_houseNumber                1031507 non-null  object\n",
      " 7   Address_info_floorString                270077 non-null   object\n",
      " 8   Address_info_sideDoorNumber             215286 non-null   object\n",
      " 9   Address_info_zipString_code_and_name    1031507 non-null  object\n",
      " 10  Address_info_zipCode                    1031507 non-null  int64 \n",
      " 11  Feature_dummy_isApartment               1031507 non-null  bool  \n",
      " 12  Feature_categorical_propertyTypeNumber  1031507 non-null  int64 \n",
      " 13  Feature_Floor_level_of_property         270077 non-null   object\n",
      " 14  Feature_category_propertyTypeName       1031507 non-null  object\n",
      " 15  Feature_dummy_property_is_on_sale       1031507 non-null  bool  \n",
      " 16  RAW_dictionary_salesInfos               1031507 non-null  object\n",
      "dtypes: bool(2), int64(5), object(10)\n",
      "memory usage: 120.0+ MB\n"
     ]
    }
   ],
   "source": [
    "path = r'D:\\Thesis\\Properties\\Denmark\\RE_due_scraping_properties\\Boliga_dk\\Creating_main_dataset_for_sales_data\\Data_split\\11_salesInfos\\Boliga_propertySales_salesInfos.csv'\n",
    "data_salesInfo = pd.read_csv(path, encoding='utf-8',low_memory=False)\n",
    "data_salesInfo.info()"
   ]
  },
  {
   "cell_type": "markdown",
   "metadata": {},
   "source": [
    "### --------- Convert \"RAW_dictionary_salesInfos\" column to dictionary object                "
   ]
  },
  {
   "cell_type": "code",
   "execution_count": 3,
   "metadata": {},
   "outputs": [],
   "source": [
    "def decode_json(x):\n",
    "    try:\n",
    "        if isinstance(x, str) and x.strip() != \"\" and not pd.isna(x):\n",
    "            return ast.literal_eval(x)\n",
    "            # Alternatively, you can use json.loads as follows:\n",
    "            # return json.loads(x.replace(\"'\", '\"'))\n",
    "        else:\n",
    "            return x\n",
    "    except (ValueError, SyntaxError) as e:\n",
    "        print(f\"Error decoding JSON: {e}\")\n",
    "        return None\n",
    "\n",
    "# Apply the decoding function to the specified column\n",
    "data_salesInfo['RAW_dictionary_salesInfos'] = data_salesInfo['RAW_dictionary_salesInfos'].apply(decode_json)"
   ]
  },
  {
   "cell_type": "code",
   "execution_count": 6,
   "metadata": {},
   "outputs": [
    {
     "data": {
      "text/plain": [
       "[{'isSalesValid': True,\n",
       "  'handoverCode': '1',\n",
       "  'handoverName': 'Alm. frit salg',\n",
       "  'deedIssueDate': '2007-09-12T00:00:00',\n",
       "  'price': 14100000,\n",
       "  'recalculationDate': '2006-11-17T00:00:00',\n",
       "  'rebuildYear': 2008},\n",
       " {'isSalesValid': True,\n",
       "  'handoverCode': '1',\n",
       "  'handoverName': 'Alm. frit salg',\n",
       "  'deedIssueDate': '2023-01-18T00:00:00',\n",
       "  'price': 3050000,\n",
       "  'recalculationDate': '2023-11-08T00:00:00',\n",
       "  'rebuildYear': 2008},\n",
       " {'isSalesValid': True,\n",
       "  'handoverCode': '1',\n",
       "  'handoverName': 'Alm. frit salg',\n",
       "  'deedIssueDate': '2017-12-11T00:00:00',\n",
       "  'price': 2910000,\n",
       "  'recalculationDate': '2017-08-30T00:00:00',\n",
       "  'rebuildYear': 2008},\n",
       " {'isSalesValid': True,\n",
       "  'handoverCode': '1',\n",
       "  'handoverName': 'Alm. frit salg',\n",
       "  'deedIssueDate': '2007-09-27T00:00:00',\n",
       "  'price': 2600000,\n",
       "  'recalculationDate': '2007-06-14T00:00:00',\n",
       "  'rebuildYear': 2008}]"
      ]
     },
     "execution_count": 6,
     "metadata": {},
     "output_type": "execute_result"
    }
   ],
   "source": [
    "data_salesInfo['RAW_dictionary_salesInfos'][0]"
   ]
  },
  {
   "cell_type": "markdown",
   "metadata": {},
   "source": [
    "## --- Count number of TOTAL SALES"
   ]
  },
  {
   "cell_type": "code",
   "execution_count": 8,
   "metadata": {},
   "outputs": [
    {
     "data": {
      "text/plain": [
       "2623340"
      ]
     },
     "execution_count": 8,
     "metadata": {},
     "output_type": "execute_result"
    }
   ],
   "source": [
    "salescounter = 0 \n",
    "\n",
    "for list_item in data_salesInfo['RAW_dictionary_salesInfos']:\n",
    "\n",
    "    for salesrecord in list_item:\n",
    "        salescounter+=1\n",
    "\n",
    "salescounter"
   ]
  },
  {
   "cell_type": "code",
   "execution_count": 10,
   "metadata": {},
   "outputs": [
    {
     "data": {
      "text/plain": [
       "2.5432110494645213"
      ]
     },
     "execution_count": 10,
     "metadata": {},
     "output_type": "execute_result"
    }
   ],
   "source": [
    "2623340/1031507 "
   ]
  },
  {
   "cell_type": "markdown",
   "metadata": {},
   "source": [
    "# ------- Count number of sales by sales type"
   ]
  },
  {
   "cell_type": "code",
   "execution_count": 12,
   "metadata": {},
   "outputs": [
    {
     "name": "stdout",
     "output_type": "stream",
     "text": [
      "Alm. frit salg: 2404797 times\n",
      "Familieoverdragelse: 120039 times\n",
      "Salg i øvrigt: 57792 times\n",
      "Auktion: 40712 times\n"
     ]
    }
   ],
   "source": [
    "sales_category = [] \n",
    "\n",
    "for list_item in data_salesInfo['RAW_dictionary_salesInfos']:\n",
    "\n",
    "    if list_item !='' and list_item !=[] and isinstance(list_item,list):\n",
    "        for salesrecord in list_item:\n",
    "            sales_category.append(salesrecord['handoverName'])\n",
    "\n",
    "\n",
    "\n",
    "from collections import Counter\n",
    "\n",
    "# Use Counter to count the frequency of each item in the list\n",
    "item_frequency = Counter(sales_category)\n",
    "\n",
    "# Display the frequency of each item\n",
    "for item, count in item_frequency.items():\n",
    "    print(f\"{item}: {count} times\")"
   ]
  },
  {
   "cell_type": "markdown",
   "metadata": {},
   "source": [
    "# ------ Explode the columns : RAW_dictionary_salesInfos"
   ]
  },
  {
   "cell_type": "code",
   "execution_count": 5,
   "metadata": {},
   "outputs": [],
   "source": [
    "data_salesInfo = data_salesInfo.explode('RAW_dictionary_salesInfos').reset_index(drop=True)"
   ]
  },
  {
   "cell_type": "code",
   "execution_count": 6,
   "metadata": {},
   "outputs": [
    {
     "name": "stdout",
     "output_type": "stream",
     "text": [
      "<class 'pandas.core.frame.DataFrame'>\n",
      "RangeIndex: 2623800 entries, 0 to 2623799\n",
      "Data columns (total 17 columns):\n",
      " #   Column                                  Dtype \n",
      "---  ------                                  ----- \n",
      " 0   RowID_MAIN_boliga_ROW_ID_unitID         object\n",
      " 1   RowID_propertyCode_bfeCode              int64 \n",
      " 2   RowID_municipalityCode                  int64 \n",
      " 3   RowID_propertyCode_esrCode              int64 \n",
      " 4   Address_info_addressString              object\n",
      " 5   Address_info_streetString               object\n",
      " 6   Address_info_houseNumber                object\n",
      " 7   Address_info_floorString                object\n",
      " 8   Address_info_sideDoorNumber             object\n",
      " 9   Address_info_zipString_code_and_name    object\n",
      " 10  Address_info_zipCode                    int64 \n",
      " 11  Feature_dummy_isApartment               bool  \n",
      " 12  Feature_categorical_propertyTypeNumber  int64 \n",
      " 13  Feature_Floor_level_of_property         object\n",
      " 14  Feature_category_propertyTypeName       object\n",
      " 15  Feature_dummy_property_is_on_sale       bool  \n",
      " 16  RAW_dictionary_salesInfos               object\n",
      "dtypes: bool(2), int64(5), object(10)\n",
      "memory usage: 305.3+ MB\n"
     ]
    }
   ],
   "source": [
    "data_salesInfo.info()"
   ]
  },
  {
   "cell_type": "code",
   "execution_count": 7,
   "metadata": {},
   "outputs": [
    {
     "name": "stdout",
     "output_type": "stream",
     "text": [
      "<class 'pandas.core.frame.DataFrame'>\n",
      "RangeIndex: 2623800 entries, 0 to 2623799\n",
      "Data columns (total 23 columns):\n",
      " #   Column                                  Dtype  \n",
      "---  ------                                  -----  \n",
      " 0   RowID_MAIN_boliga_ROW_ID_unitID         object \n",
      " 1   RowID_propertyCode_bfeCode              int64  \n",
      " 2   RowID_municipalityCode                  int64  \n",
      " 3   RowID_propertyCode_esrCode              int64  \n",
      " 4   Address_info_addressString              object \n",
      " 5   Address_info_streetString               object \n",
      " 6   Address_info_houseNumber                object \n",
      " 7   Address_info_floorString                object \n",
      " 8   Address_info_sideDoorNumber             object \n",
      " 9   Address_info_zipString_code_and_name    object \n",
      " 10  Address_info_zipCode                    int64  \n",
      " 11  Feature_dummy_isApartment               bool   \n",
      " 12  Feature_categorical_propertyTypeNumber  int64  \n",
      " 13  Feature_Floor_level_of_property         object \n",
      " 14  Feature_category_propertyTypeName       object \n",
      " 15  Feature_dummy_property_is_on_sale       bool   \n",
      " 16  isSalesValid                            object \n",
      " 17  handoverCode                            object \n",
      " 18  handoverName                            object \n",
      " 19  deedIssueDate                           object \n",
      " 20  price                                   float64\n",
      " 21  recalculationDate                       object \n",
      " 22  rebuildYear                             float64\n",
      "dtypes: bool(2), float64(2), int64(5), object(14)\n",
      "memory usage: 425.4+ MB\n"
     ]
    }
   ],
   "source": [
    "data_salesInfo = data_salesInfo.join(json_normalize(data_salesInfo.pop('RAW_dictionary_salesInfos')))\n",
    "data_salesInfo.info()"
   ]
  },
  {
   "cell_type": "code",
   "execution_count": 17,
   "metadata": {},
   "outputs": [
    {
     "data": {
      "text/plain": [
       "460"
      ]
     },
     "execution_count": 17,
     "metadata": {},
     "output_type": "execute_result"
    }
   ],
   "source": [
    "len(data_salesInfo[data_salesInfo['isSalesValid'].isna()])"
   ]
  },
  {
   "cell_type": "code",
   "execution_count": 20,
   "metadata": {},
   "outputs": [
    {
     "data": {
      "text/plain": [
       "isSalesValid\n",
       "True     2623340\n",
       "False        460\n",
       "Name: count, dtype: int64"
      ]
     },
     "execution_count": 20,
     "metadata": {},
     "output_type": "execute_result"
    }
   ],
   "source": [
    "data_salesInfo['isSalesValid'] = data_salesInfo['isSalesValid'].replace(0,False)\n",
    "data_salesInfo['isSalesValid'].value_counts() "
   ]
  },
  {
   "cell_type": "code",
   "execution_count": 10,
   "metadata": {},
   "outputs": [
    {
     "data": {
      "text/plain": [
       "2812616.955758308"
      ]
     },
     "execution_count": 10,
     "metadata": {},
     "output_type": "execute_result"
    }
   ],
   "source": [
    "import numpy as np \n",
    "np.mean(data_salesInfo['price'])"
   ]
  },
  {
   "cell_type": "code",
   "execution_count": 11,
   "metadata": {},
   "outputs": [
    {
     "data": {
      "text/plain": [
       "1.0"
      ]
     },
     "execution_count": 11,
     "metadata": {},
     "output_type": "execute_result"
    }
   ],
   "source": [
    "np.min(data_salesInfo['price'])"
   ]
  },
  {
   "cell_type": "code",
   "execution_count": 12,
   "metadata": {},
   "outputs": [
    {
     "data": {
      "text/plain": [
       "1299000000.0"
      ]
     },
     "execution_count": 12,
     "metadata": {},
     "output_type": "execute_result"
    }
   ],
   "source": [
    "np.max(data_salesInfo['price'])"
   ]
  },
  {
   "cell_type": "code",
   "execution_count": null,
   "metadata": {},
   "outputs": [],
   "source": []
  },
  {
   "cell_type": "code",
   "execution_count": null,
   "metadata": {},
   "outputs": [],
   "source": []
  },
  {
   "cell_type": "markdown",
   "metadata": {},
   "source": [
    "# ----- Rename columns:"
   ]
  },
  {
   "cell_type": "code",
   "execution_count": null,
   "metadata": {},
   "outputs": [],
   "source": []
  },
  {
   "cell_type": "code",
   "execution_count": 22,
   "metadata": {},
   "outputs": [
    {
     "name": "stdout",
     "output_type": "stream",
     "text": [
      "<class 'pandas.core.frame.DataFrame'>\n",
      "RangeIndex: 2623800 entries, 0 to 2623799\n",
      "Data columns (total 23 columns):\n",
      " #   Column                                  Dtype  \n",
      "---  ------                                  -----  \n",
      " 0   RowID_MAIN_boliga_ROW_ID_unitID         object \n",
      " 1   RowID_propertyCode_bfeCode              int64  \n",
      " 2   RowID_municipalityCode                  int64  \n",
      " 3   RowID_propertyCode_esrCode              int64  \n",
      " 4   Address_info_addressString              object \n",
      " 5   Address_info_streetString               object \n",
      " 6   Address_info_houseNumber                object \n",
      " 7   Address_info_floorString                object \n",
      " 8   Address_info_sideDoorNumber             object \n",
      " 9   Address_info_zipString_code_and_name    object \n",
      " 10  Address_info_zipCode                    int64  \n",
      " 11  Feature_dummy_isApartment               bool   \n",
      " 12  Feature_categorical_propertyTypeNumber  int64  \n",
      " 13  Feature_Floor_level_of_property         object \n",
      " 14  Feature_category_propertyTypeName       object \n",
      " 15  Feature_dummy_property_is_on_sale       bool   \n",
      " 16  salesInfo_isSalesValid                  bool   \n",
      " 17  salesInfo_handoverCode                  object \n",
      " 18  salesInfo_handoverName                  object \n",
      " 19  salesInfo_deedIssueDate                 object \n",
      " 20  salesInfo_price                         float64\n",
      " 21  salesInfo_recalculationDate             object \n",
      " 22  salesInfo_rebuildYear                   float64\n",
      "dtypes: bool(3), float64(2), int64(5), object(13)\n",
      "memory usage: 407.9+ MB\n"
     ]
    }
   ],
   "source": [
    "change_column_names = {\n",
    "    'isSalesValid':'salesInfo_isSalesValid', \n",
    "    'handoverCode':'salesInfo_handoverCode', \n",
    "    'handoverName':'salesInfo_handoverName', \n",
    "    'deedIssueDate':'salesInfo_deedIssueDate', \n",
    "    'price':'salesInfo_price',\n",
    "    'recalculationDate':'salesInfo_recalculationDate', \n",
    "    'rebuildYear':'salesInfo_rebuildYear'    \n",
    "}\n",
    "\n",
    "data_salesInfo = data_salesInfo.rename(columns=change_column_names)\n",
    "data_salesInfo.info()"
   ]
  },
  {
   "cell_type": "markdown",
   "metadata": {},
   "source": [
    "## ------ Save the result "
   ]
  },
  {
   "cell_type": "code",
   "execution_count": 23,
   "metadata": {},
   "outputs": [],
   "source": [
    "sub_columns = [\n",
    "    'RowID_MAIN_boliga_ROW_ID_unitID', \n",
    "\n",
    "    'salesInfo_isSalesValid',   \n",
    "    'salesInfo_handoverCode', \n",
    "    'salesInfo_handoverName', \n",
    "    'salesInfo_deedIssueDate', \n",
    "    'salesInfo_price',\n",
    "    'salesInfo_recalculationDate', \n",
    "    'salesInfo_rebuildYear'\n",
    "]\n",
    "\n",
    "path=r'D:\\Thesis\\Properties\\Denmark\\RE_due_scraping_properties\\Boliga_dk\\Creating_main_dataset_for_sales_data\\Data_split\\11_salesInfos\\Ready\\Boliga_propertySales_salesInfos_Ready.csv'\n",
    "\n",
    "data_salesInfo[sub_columns].to_csv(path, encoding='utf-8', index=False)"
   ]
  },
  {
   "cell_type": "code",
   "execution_count": null,
   "metadata": {},
   "outputs": [],
   "source": [
    "data_additionarBuildingInfo.info()"
   ]
  }
 ],
 "metadata": {
  "kernelspec": {
   "display_name": "base",
   "language": "python",
   "name": "python3"
  },
  "language_info": {
   "codemirror_mode": {
    "name": "ipython",
    "version": 3
   },
   "file_extension": ".py",
   "mimetype": "text/x-python",
   "name": "python",
   "nbconvert_exporter": "python",
   "pygments_lexer": "ipython3",
   "version": "3.11.4"
  }
 },
 "nbformat": 4,
 "nbformat_minor": 2
}
