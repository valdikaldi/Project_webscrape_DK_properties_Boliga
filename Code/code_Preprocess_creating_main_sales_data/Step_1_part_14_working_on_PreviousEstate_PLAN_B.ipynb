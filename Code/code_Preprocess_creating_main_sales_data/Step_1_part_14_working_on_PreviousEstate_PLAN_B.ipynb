{
 "cells": [
  {
   "cell_type": "code",
   "execution_count": 2,
   "metadata": {},
   "outputs": [],
   "source": [
    "import pandas as pd \n",
    "import json\n",
    "import ast"
   ]
  },
  {
   "cell_type": "markdown",
   "metadata": {},
   "source": [
    "## ---- READ IN Boliga_propertySales_previousEstate.csv FILE \n",
    "\n",
    "# TAKE ONLY COLUMNS : MAIN id AND ESTATE DICTIONARY\n",
    "# SAVE AS Boliga_propertySales_previousEstate_READY_PLAN_B.csv"
   ]
  },
  {
   "cell_type": "code",
   "execution_count": 3,
   "metadata": {},
   "outputs": [
    {
     "name": "stdout",
     "output_type": "stream",
     "text": [
      "<class 'pandas.core.frame.DataFrame'>\n",
      "RangeIndex: 1031507 entries, 0 to 1031506\n",
      "Data columns (total 17 columns):\n",
      " #   Column                                  Non-Null Count    Dtype \n",
      "---  ------                                  --------------    ----- \n",
      " 0   RowID_MAIN_boliga_ROW_ID_unitID         1031507 non-null  object\n",
      " 1   RowID_propertyCode_bfeCode              1031507 non-null  int64 \n",
      " 2   RowID_municipalityCode                  1031507 non-null  int64 \n",
      " 3   RowID_propertyCode_esrCode              1031507 non-null  int64 \n",
      " 4   Address_info_addressString              1031507 non-null  object\n",
      " 5   Address_info_streetString               1031507 non-null  object\n",
      " 6   Address_info_houseNumber                1031507 non-null  object\n",
      " 7   Address_info_floorString                270077 non-null   object\n",
      " 8   Address_info_sideDoorNumber             215286 non-null   object\n",
      " 9   Address_info_zipString_code_and_name    1031507 non-null  object\n",
      " 10  Address_info_zipCode                    1031507 non-null  int64 \n",
      " 11  Feature_dummy_isApartment               1031507 non-null  bool  \n",
      " 12  Feature_categorical_propertyTypeNumber  1031507 non-null  int64 \n",
      " 13  Feature_Floor_level_of_property         270077 non-null   object\n",
      " 14  Feature_category_propertyTypeName       1031507 non-null  object\n",
      " 15  Feature_dummy_property_is_on_sale       1031507 non-null  bool  \n",
      " 16  RAW_dictionary_previousEstates          1031507 non-null  object\n",
      "dtypes: bool(2), int64(5), object(10)\n",
      "memory usage: 120.0+ MB\n"
     ]
    }
   ],
   "source": [
    "path_ESTATE = r'D:\\Thesis\\Properties\\Denmark\\RE_due_scraping_properties\\Boliga_dk\\Creating_main_dataset_for_sales_data\\Data_split\\14_PreviousEstate\\Boliga_propertySales_previousEstate.csv'\n",
    "data_ESTATE = pd.read_csv(path_ESTATE, encoding = 'utf-8', low_memory=False) #,nrows=1000)\n",
    "data_ESTATE.info(verbose=True, show_counts=True)"
   ]
  },
  {
   "cell_type": "markdown",
   "metadata": {},
   "source": [
    "# save file "
   ]
  },
  {
   "cell_type": "code",
   "execution_count": 4,
   "metadata": {},
   "outputs": [],
   "source": [
    "sub_columns = [\n",
    "    'RowID_MAIN_boliga_ROW_ID_unitID', \n",
    "    'RAW_dictionary_previousEstates'\n",
    "]\n",
    "\n",
    "path_ESTATE = r'D:\\Thesis\\Properties\\Denmark\\RE_due_scraping_properties\\Boliga_dk\\Creating_main_dataset_for_sales_data\\Data_split\\14_PreviousEstate\\Ready\\PLAN_B_Boliga_propertySales_previousEstate_READY.csv'\n",
    "\n",
    "data_ESTATE[sub_columns].to_csv(path_ESTATE, encoding='utf-8', index=False)"
   ]
  },
  {
   "cell_type": "code",
   "execution_count": 7,
   "metadata": {},
   "outputs": [
    {
     "data": {
      "text/plain": [
       "651136"
      ]
     },
     "execution_count": 7,
     "metadata": {},
     "output_type": "execute_result"
    }
   ],
   "source": [
    "len(data_ESTATE[data_ESTATE['RAW_dictionary_previousEstates']!='[]'])"
   ]
  },
  {
   "cell_type": "code",
   "execution_count": null,
   "metadata": {},
   "outputs": [],
   "source": []
  }
 ],
 "metadata": {
  "kernelspec": {
   "display_name": "base",
   "language": "python",
   "name": "python3"
  },
  "language_info": {
   "codemirror_mode": {
    "name": "ipython",
    "version": 3
   },
   "file_extension": ".py",
   "mimetype": "text/x-python",
   "name": "python",
   "nbconvert_exporter": "python",
   "pygments_lexer": "ipython3",
   "version": "3.11.4"
  }
 },
 "nbformat": 4,
 "nbformat_minor": 2
}
