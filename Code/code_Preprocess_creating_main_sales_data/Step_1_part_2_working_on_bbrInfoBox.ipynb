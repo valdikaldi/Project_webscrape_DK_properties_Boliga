{
 "cells": [
  {
   "cell_type": "code",
   "execution_count": 23,
   "metadata": {},
   "outputs": [],
   "source": [
    "import pandas as pd \n",
    "import ast\n",
    "import json\n",
    "from pandas import json_normalize\n"
   ]
  },
  {
   "cell_type": "markdown",
   "metadata": {},
   "source": [
    ".\n",
    "## ==================================================\n",
    "# Boliga_propertySales_bbrInfoBox.csv\n",
    "## ==================================================\n",
    "."
   ]
  },
  {
   "cell_type": "markdown",
   "metadata": {},
   "source": [
    "#### ------ READ IN THE FILE : "
   ]
  },
  {
   "cell_type": "code",
   "execution_count": 18,
   "metadata": {},
   "outputs": [
    {
     "name": "stdout",
     "output_type": "stream",
     "text": [
      "<class 'pandas.core.frame.DataFrame'>\n",
      "RangeIndex: 1031507 entries, 0 to 1031506\n",
      "Data columns (total 17 columns):\n",
      " #   Column                                  Non-Null Count    Dtype \n",
      "---  ------                                  --------------    ----- \n",
      " 0   RowID_MAIN_boliga_ROW_ID_unitID         1031507 non-null  object\n",
      " 1   RowID_propertyCode_bfeCode              1031507 non-null  int64 \n",
      " 2   RowID_municipalityCode                  1031507 non-null  int64 \n",
      " 3   RowID_propertyCode_esrCode              1031507 non-null  int64 \n",
      " 4   Address_info_addressString              1031507 non-null  object\n",
      " 5   Address_info_streetString               1031507 non-null  object\n",
      " 6   Address_info_houseNumber                1031507 non-null  object\n",
      " 7   Address_info_floorString                270077 non-null   object\n",
      " 8   Address_info_sideDoorNumber             215286 non-null   object\n",
      " 9   Address_info_zipString_code_and_name    1031507 non-null  object\n",
      " 10  Address_info_zipCode                    1031507 non-null  int64 \n",
      " 11  Feature_dummy_isApartment               1031507 non-null  bool  \n",
      " 12  Feature_categorical_propertyTypeNumber  1031507 non-null  int64 \n",
      " 13  Feature_Floor_level_of_property         270077 non-null   object\n",
      " 14  Feature_category_propertyTypeName       1031507 non-null  object\n",
      " 15  Feature_dummy_property_is_on_sale       1031507 non-null  bool  \n",
      " 16  RAW_dictionary_bbrInfoBox               1031507 non-null  object\n",
      "dtypes: bool(2), int64(5), object(10)\n",
      "memory usage: 120.0+ MB\n"
     ]
    }
   ],
   "source": [
    "path = r'D:\\Thesis\\Properties\\Denmark\\RE_due_scraping_properties\\Boliga_dk\\Creating_main_dataset_for_sales_data\\Data_split\\2_bbrInfoBox\\Boliga_propertySales_bbrInfoBox.csv'\n",
    "bbrinfobox = pd.read_csv(path, encoding='utf-8',low_memory=False)\n",
    "bbrinfobox.info()"
   ]
  },
  {
   "cell_type": "markdown",
   "metadata": {},
   "source": [
    "### --------- Convert \"RAW_dictionary_bbrInfoBox\" column to dictionary object                m"
   ]
  },
  {
   "cell_type": "code",
   "execution_count": 19,
   "metadata": {},
   "outputs": [],
   "source": [
    "# error_indexes = []\n",
    "# for index, row in bbrinfobox.iterrows():\n",
    "#     x = row['RAW_dictionary_bbrInfoBox']\n",
    "\n",
    "#     if isinstance(x, str) and x.strip() != \"\" and not pd.isna(x):\n",
    "#         try:\n",
    "#             # convert to dictionary\n",
    "#             decoded_value = ast.literal_eval(x)\n",
    "#             # decoded_value = json.loads(x.replace(\"'\", '\"'))\n",
    "\n",
    "#             bbrinfobox.at[index, 'RAW_dictionary_bbrInfoBox'] = decoded_value\n",
    "        \n",
    "#         except (json.JSONDecodeError, SyntaxError) as e:\n",
    "#             # Handle the error (e.g., print a message or set a default value)\n",
    "#             error_indexes.append(index)\n",
    "#             print(f\"Error decoding JSON at index {index}: {e}\")\n",
    "\n",
    "\n",
    "def decode_json(x):\n",
    "    try:\n",
    "        if isinstance(x, str) and x.strip() != \"\" and not pd.isna(x):\n",
    "            return ast.literal_eval(x)\n",
    "            # Alternatively, you can use json.loads as follows:\n",
    "            # return json.loads(x.replace(\"'\", '\"'))\n",
    "        else:\n",
    "            return x\n",
    "    except (ValueError, SyntaxError) as e:\n",
    "        print(f\"Error decoding JSON: {e}\")\n",
    "        return None\n",
    "\n",
    "# Apply the decoding function to the specified column\n",
    "bbrinfobox['RAW_dictionary_bbrInfoBox'] = bbrinfobox['RAW_dictionary_bbrInfoBox'].apply(decode_json)\n",
    "\n"
   ]
  },
  {
   "cell_type": "code",
   "execution_count": 20,
   "metadata": {},
   "outputs": [
    {
     "data": {
      "text/plain": [
       "{'monthlyPropertyTax': 1604.0,\n",
       " 'lotSize': 0,\n",
       " 'roomsQuantity': 5,\n",
       " 'area': 141,\n",
       " 'areaRecorded': 0,\n",
       " 'evaluationPrice': 2250000,\n",
       " 'basementSize': 0}"
      ]
     },
     "execution_count": 20,
     "metadata": {},
     "output_type": "execute_result"
    }
   ],
   "source": [
    "bbrinfobox['RAW_dictionary_bbrInfoBox'][0]"
   ]
  },
  {
   "cell_type": "code",
   "execution_count": 21,
   "metadata": {},
   "outputs": [
    {
     "data": {
      "text/plain": [
       "7"
      ]
     },
     "execution_count": 21,
     "metadata": {},
     "output_type": "execute_result"
    }
   ],
   "source": [
    "len(bbrinfobox['RAW_dictionary_bbrInfoBox'][0])"
   ]
  },
  {
   "cell_type": "markdown",
   "metadata": {},
   "source": [
    "## --- Count number of items in the dictionary - to make sure they are all balance "
   ]
  },
  {
   "cell_type": "code",
   "execution_count": 22,
   "metadata": {},
   "outputs": [
    {
     "data": {
      "text/plain": [
       "{7}"
      ]
     },
     "execution_count": 22,
     "metadata": {},
     "output_type": "execute_result"
    }
   ],
   "source": [
    "def count_objects(x):\n",
    "\n",
    "    if isinstance(x,dict) and x!='':\n",
    "        return countlist.append(len(x))\n",
    "\n",
    "countlist = []\n",
    "\n",
    "# Apply the decoding function to the specified column\n",
    "bbrinfobox['RAW_dictionary_bbrInfoBox'].apply(count_objects)\n",
    "\n",
    "set(countlist)"
   ]
  },
  {
   "cell_type": "markdown",
   "metadata": {},
   "source": [
    "### --------- NORMALIZE COLUMN \"RAW_dictionary_bbrInfoBox\" column"
   ]
  },
  {
   "cell_type": "code",
   "execution_count": 24,
   "metadata": {},
   "outputs": [
    {
     "name": "stdout",
     "output_type": "stream",
     "text": [
      "<class 'pandas.core.frame.DataFrame'>\n",
      "RangeIndex: 1031507 entries, 0 to 1031506\n",
      "Data columns (total 24 columns):\n",
      " #   Column                                  Non-Null Count    Dtype  \n",
      "---  ------                                  --------------    -----  \n",
      " 0   RowID_MAIN_boliga_ROW_ID_unitID         1031507 non-null  object \n",
      " 1   RowID_propertyCode_bfeCode              1031507 non-null  int64  \n",
      " 2   RowID_municipalityCode                  1031507 non-null  int64  \n",
      " 3   RowID_propertyCode_esrCode              1031507 non-null  int64  \n",
      " 4   Address_info_addressString              1031507 non-null  object \n",
      " 5   Address_info_streetString               1031507 non-null  object \n",
      " 6   Address_info_houseNumber                1031507 non-null  object \n",
      " 7   Address_info_floorString                270077 non-null   object \n",
      " 8   Address_info_sideDoorNumber             215286 non-null   object \n",
      " 9   Address_info_zipString_code_and_name    1031507 non-null  object \n",
      " 10  Address_info_zipCode                    1031507 non-null  int64  \n",
      " 11  Feature_dummy_isApartment               1031507 non-null  bool   \n",
      " 12  Feature_categorical_propertyTypeNumber  1031507 non-null  int64  \n",
      " 13  Feature_Floor_level_of_property         270077 non-null   object \n",
      " 14  Feature_category_propertyTypeName       1031507 non-null  object \n",
      " 15  Feature_dummy_property_is_on_sale       1031507 non-null  bool   \n",
      " 16  RAW_dictionary_bbrInfoBox               1031507 non-null  object \n",
      " 17  monthlyPropertyTax                      1031507 non-null  float64\n",
      " 18  lotSize                                 1031507 non-null  int64  \n",
      " 19  roomsQuantity                           1031507 non-null  int64  \n",
      " 20  area                                    1031507 non-null  int64  \n",
      " 21  areaRecorded                            1031507 non-null  int64  \n",
      " 22  evaluationPrice                         1031507 non-null  int64  \n",
      " 23  basementSize                            1031507 non-null  int64  \n",
      "dtypes: bool(2), float64(1), int64(11), object(10)\n",
      "memory usage: 175.1+ MB\n"
     ]
    }
   ],
   "source": [
    "# normalize the column \n",
    "normalized_data = json_normalize(bbrinfobox['RAW_dictionary_bbrInfoBox'])\n",
    "\n",
    "# concatenate the normalized data and the original dataset\n",
    "bbrinfobox = pd.concat([bbrinfobox, normalized_data], axis=1)\n",
    "\n",
    "bbrinfobox.info()"
   ]
  },
  {
   "cell_type": "markdown",
   "metadata": {},
   "source": [
    "# ---- change column names :"
   ]
  },
  {
   "cell_type": "code",
   "execution_count": 25,
   "metadata": {},
   "outputs": [
    {
     "name": "stdout",
     "output_type": "stream",
     "text": [
      "<class 'pandas.core.frame.DataFrame'>\n",
      "RangeIndex: 1031507 entries, 0 to 1031506\n",
      "Data columns (total 24 columns):\n",
      " #   Column                                  Non-Null Count    Dtype  \n",
      "---  ------                                  --------------    -----  \n",
      " 0   RowID_MAIN_boliga_ROW_ID_unitID         1031507 non-null  object \n",
      " 1   RowID_propertyCode_bfeCode              1031507 non-null  int64  \n",
      " 2   RowID_municipalityCode                  1031507 non-null  int64  \n",
      " 3   RowID_propertyCode_esrCode              1031507 non-null  int64  \n",
      " 4   Address_info_addressString              1031507 non-null  object \n",
      " 5   Address_info_streetString               1031507 non-null  object \n",
      " 6   Address_info_houseNumber                1031507 non-null  object \n",
      " 7   Address_info_floorString                270077 non-null   object \n",
      " 8   Address_info_sideDoorNumber             215286 non-null   object \n",
      " 9   Address_info_zipString_code_and_name    1031507 non-null  object \n",
      " 10  Address_info_zipCode                    1031507 non-null  int64  \n",
      " 11  Feature_dummy_isApartment               1031507 non-null  bool   \n",
      " 12  Feature_categorical_propertyTypeNumber  1031507 non-null  int64  \n",
      " 13  Feature_Floor_level_of_property         270077 non-null   object \n",
      " 14  Feature_category_propertyTypeName       1031507 non-null  object \n",
      " 15  Feature_dummy_property_is_on_sale       1031507 non-null  bool   \n",
      " 16  RAW_dictionary_bbrInfoBox               1031507 non-null  object \n",
      " 17  bbrInfoBox_monthlyPropertyTax           1031507 non-null  float64\n",
      " 18  bbrInfoBox_lotSize                      1031507 non-null  int64  \n",
      " 19  bbrInfoBox_roomsQuantity                1031507 non-null  int64  \n",
      " 20  bbrInfoBox_area                         1031507 non-null  int64  \n",
      " 21  bbrInfoBox_areaRecorded                 1031507 non-null  int64  \n",
      " 22  bbrInfoBox_evaluationPrice              1031507 non-null  int64  \n",
      " 23  bbrInfoBox_basementSize                 1031507 non-null  int64  \n",
      "dtypes: bool(2), float64(1), int64(11), object(10)\n",
      "memory usage: 175.1+ MB\n"
     ]
    }
   ],
   "source": [
    "change_column_names = {\n",
    "    'monthlyPropertyTax': 'bbrInfoBox_monthlyPropertyTax',\n",
    "    'lotSize': 'bbrInfoBox_lotSize',  \n",
    "    'roomsQuantity': 'bbrInfoBox_roomsQuantity',  \n",
    "    'area': 'bbrInfoBox_area',  \n",
    "    'areaRecorded': 'bbrInfoBox_areaRecorded',  \n",
    "    'evaluationPrice': 'bbrInfoBox_evaluationPrice',  \n",
    "    'basementSize': 'bbrInfoBox_basementSize'\n",
    "}\n",
    "\n",
    "bbrinfobox = bbrinfobox.rename(columns=change_column_names)\n",
    "bbrinfobox.info()"
   ]
  },
  {
   "cell_type": "code",
   "execution_count": 27,
   "metadata": {},
   "outputs": [],
   "source": [
    "selected_columns = [\n",
    "    'RowID_MAIN_boliga_ROW_ID_unitID',\n",
    "    'bbrInfoBox_monthlyPropertyTax',\n",
    "    'bbrInfoBox_lotSize',\n",
    "    'bbrInfoBox_roomsQuantity',\n",
    "    'bbrInfoBox_area',\n",
    "    'bbrInfoBox_areaRecorded',\n",
    "    'bbrInfoBox_evaluationPrice',\n",
    "    'bbrInfoBox_basementSize'\n",
    "]\n",
    "\n",
    "path=r'D:\\Thesis\\Properties\\Denmark\\RE_due_scraping_properties\\Boliga_dk\\Creating_main_dataset_for_sales_data\\Data_split\\2_bbrInfoBox\\Ready\\Boliga_propertySales_bbrInfoBox_READY.csv'\n",
    "bbrinfobox[selected_columns].to_csv(path, encoding='utf-8', index=False)"
   ]
  },
  {
   "cell_type": "code",
   "execution_count": null,
   "metadata": {},
   "outputs": [],
   "source": []
  },
  {
   "cell_type": "code",
   "execution_count": null,
   "metadata": {},
   "outputs": [],
   "source": []
  },
  {
   "cell_type": "code",
   "execution_count": null,
   "metadata": {},
   "outputs": [],
   "source": []
  },
  {
   "cell_type": "code",
   "execution_count": null,
   "metadata": {},
   "outputs": [],
   "source": []
  }
 ],
 "metadata": {
  "kernelspec": {
   "display_name": "Python 3",
   "language": "python",
   "name": "python3"
  },
  "language_info": {
   "codemirror_mode": {
    "name": "ipython",
    "version": 3
   },
   "file_extension": ".py",
   "mimetype": "text/x-python",
   "name": "python",
   "nbconvert_exporter": "python",
   "pygments_lexer": "ipython3",
   "version": "3.11.4"
  }
 },
 "nbformat": 4,
 "nbformat_minor": 2
}
