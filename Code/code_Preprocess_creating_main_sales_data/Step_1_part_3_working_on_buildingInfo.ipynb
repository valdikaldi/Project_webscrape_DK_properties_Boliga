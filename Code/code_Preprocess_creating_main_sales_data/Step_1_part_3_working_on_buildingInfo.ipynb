{
 "cells": [
  {
   "cell_type": "code",
   "execution_count": 1,
   "metadata": {},
   "outputs": [],
   "source": [
    "import pandas as pd \n",
    "import ast\n",
    "import json\n",
    "from pandas import json_normalize\n"
   ]
  },
  {
   "cell_type": "markdown",
   "metadata": {},
   "source": [
    ".\n",
    "## ==================================================\n",
    "# Boliga_propertySales_buildingInfo.csv\n",
    "## ==================================================\n",
    "."
   ]
  },
  {
   "cell_type": "markdown",
   "metadata": {},
   "source": [
    "## ----- read in the file : "
   ]
  },
  {
   "cell_type": "code",
   "execution_count": 2,
   "metadata": {},
   "outputs": [
    {
     "name": "stdout",
     "output_type": "stream",
     "text": [
      "<class 'pandas.core.frame.DataFrame'>\n",
      "RangeIndex: 1031507 entries, 0 to 1031506\n",
      "Data columns (total 17 columns):\n",
      " #   Column                                  Non-Null Count    Dtype \n",
      "---  ------                                  --------------    ----- \n",
      " 0   RowID_MAIN_boliga_ROW_ID_unitID         1031507 non-null  object\n",
      " 1   RowID_propertyCode_bfeCode              1031507 non-null  int64 \n",
      " 2   RowID_municipalityCode                  1031507 non-null  int64 \n",
      " 3   RowID_propertyCode_esrCode              1031507 non-null  int64 \n",
      " 4   Address_info_addressString              1031507 non-null  object\n",
      " 5   Address_info_streetString               1031507 non-null  object\n",
      " 6   Address_info_houseNumber                1031507 non-null  object\n",
      " 7   Address_info_floorString                270077 non-null   object\n",
      " 8   Address_info_sideDoorNumber             215286 non-null   object\n",
      " 9   Address_info_zipString_code_and_name    1031507 non-null  object\n",
      " 10  Address_info_zipCode                    1031507 non-null  int64 \n",
      " 11  Feature_dummy_isApartment               1031507 non-null  bool  \n",
      " 12  Feature_categorical_propertyTypeNumber  1031507 non-null  int64 \n",
      " 13  Feature_Floor_level_of_property         270077 non-null   object\n",
      " 14  Feature_category_propertyTypeName       1031507 non-null  object\n",
      " 15  Feature_dummy_property_is_on_sale       1031507 non-null  bool  \n",
      " 16  RAW_dictionary_buildingInfo             1031507 non-null  object\n",
      "dtypes: bool(2), int64(5), object(10)\n",
      "memory usage: 120.0+ MB\n"
     ]
    }
   ],
   "source": [
    "path = r'D:\\Thesis\\Properties\\Denmark\\RE_due_scraping_properties\\Boliga_dk\\Creating_main_dataset_for_sales_data\\Data_split\\3_buildingInfo\\Boliga_propertySales_buildingInfo.csv'\n",
    "data = pd.read_csv(path, encoding='utf-8',low_memory=False)\n",
    "data.info()"
   ]
  },
  {
   "cell_type": "markdown",
   "metadata": {},
   "source": [
    "### --------- Convert \"RAW_dictionary_buildingInfo\" column to dictionary object                "
   ]
  },
  {
   "cell_type": "code",
   "execution_count": 5,
   "metadata": {},
   "outputs": [],
   "source": [
    "def decode_json(x):\n",
    "    try:\n",
    "        if isinstance(x, str) and x.strip() != \"\" and not pd.isna(x):\n",
    "            return ast.literal_eval(x)\n",
    "            # Alternatively, you can use json.loads as follows:\n",
    "            # return json.loads(x.replace(\"'\", '\"'))\n",
    "        else:\n",
    "            return x\n",
    "    except (ValueError, SyntaxError) as e:\n",
    "        print(f\"Error decoding JSON: {e}\")\n",
    "        return None\n",
    "\n",
    "# Apply the decoding function to the specified column\n",
    "data['RAW_dictionary_buildingInfo'] = data['RAW_dictionary_buildingInfo'].apply(decode_json)\n"
   ]
  },
  {
   "cell_type": "markdown",
   "metadata": {},
   "source": [
    "## --- Count number of items in the dictionary - to make sure they are all balance "
   ]
  },
  {
   "cell_type": "code",
   "execution_count": 12,
   "metadata": {},
   "outputs": [
    {
     "data": {
      "text/plain": [
       "{37}"
      ]
     },
     "execution_count": 12,
     "metadata": {},
     "output_type": "execute_result"
    }
   ],
   "source": [
    "def count_objects(x):\n",
    "    if isinstance(x,dict) and x!='':\n",
    "        return countlist.append(len(x))\n",
    "\n",
    "countlist = []\n",
    "\n",
    "# Apply the decoding function to the specified column\n",
    "data['RAW_dictionary_buildingInfo'].apply(count_objects)\n",
    "\n",
    "set(countlist)"
   ]
  },
  {
   "cell_type": "markdown",
   "metadata": {},
   "source": [
    "# ------ NORMALIZE THE COLUMN "
   ]
  },
  {
   "cell_type": "code",
   "execution_count": null,
   "metadata": {},
   "outputs": [],
   "source": [
    "# normalize the column \n",
    "normalized_data = json_normalize(data['RAW_dictionary_buildingInfo'])\n",
    "\n",
    "# concatenate the normalized data and the original dataset\n",
    "data = pd.concat([data, normalized_data], axis=1)\n",
    "\n",
    "data.info()"
   ]
  },
  {
   "cell_type": "markdown",
   "metadata": {},
   "source": [
    "## ------------- CHECK VARIABLE: NOTES \n",
    "\n",
    "not much to look at - this is the last digit in the BBR code of proerty i.e. municipality code - property code- buildingnumber "
   ]
  },
  {
   "cell_type": "markdown",
   "metadata": {},
   "source": [
    "#### -------------- get most frequent words from the notes column"
   ]
  },
  {
   "cell_type": "code",
   "execution_count": 11,
   "metadata": {},
   "outputs": [],
   "source": [
    "word_thelist = []\n",
    "for row in data['notes']:\n",
    "    for item in row:\n",
    "        words = item.split()\n",
    "        for word in words:\n",
    "            word_cleaned = word.strip()\n",
    "            word_thelist.append(word_cleaned)\n",
    "\n",
    "\n",
    "from collections import Counter\n",
    "\n",
    "# Use Counter to count the frequency of each item in the list\n",
    "item_frequency = Counter(word_thelist)\n",
    "\n",
    "most_frequent_words_NOTES = []\n",
    "# Display the frequency of each item\n",
    "for item, count in item_frequency.most_common():\n",
    "    most_frequent_words_NOTES.append(item)"
   ]
  },
  {
   "cell_type": "code",
   "execution_count": null,
   "metadata": {},
   "outputs": [],
   "source": [
    "most_frequent_words_NOTES"
   ]
  },
  {
   "cell_type": "markdown",
   "metadata": {},
   "source": [
    "#### ------ convert danish_word_list  to lowercase : "
   ]
  },
  {
   "cell_type": "code",
   "execution_count": null,
   "metadata": {},
   "outputs": [],
   "source": [
    "most_frequent_words_NOTES_lowercase=[]\n",
    "for item in most_frequent_words_NOTES:\n",
    "    if item !='' and isinstance(item,str):\n",
    "        most_frequent_words_NOTES_lowercase.append(item.lower())\n",
    "most_frequent_words_NOTES_lowercase"
   ]
  },
  {
   "cell_type": "code",
   "execution_count": null,
   "metadata": {},
   "outputs": [],
   "source": [
    "swimmingpool_count=0\n",
    "for string_item in thelist:\n",
    "    string = string_item.lower()\n",
    "    if 'vinkælder' in string:\n",
    "        swimmingpool_count+=1\n",
    "        print(string)\n",
    "swimmingpool_count"
   ]
  },
  {
   "cell_type": "code",
   "execution_count": null,
   "metadata": {},
   "outputs": [],
   "source": [
    "freq_buildingusage =  data['buildingUsage'].value_counts()\n",
    "\n",
    "for category, count in freq_buildingusage.items():\n",
    "    print(f\"Count: {count},---- Category: {category}\")"
   ]
  },
  {
   "cell_type": "markdown",
   "metadata": {},
   "source": [
    "#### ------------- spacy "
   ]
  },
  {
   "cell_type": "code",
   "execution_count": 1,
   "metadata": {},
   "outputs": [],
   "source": [
    "import spacy"
   ]
  },
  {
   "cell_type": "code",
   "execution_count": 2,
   "metadata": {},
   "outputs": [],
   "source": [
    "nlp = spacy.load('da_core_news_trf')"
   ]
  },
  {
   "cell_type": "markdown",
   "metadata": {},
   "source": [
    "#### ---- get all the nouns from most_frequent_words_NOTES\n"
   ]
  },
  {
   "cell_type": "code",
   "execution_count": 16,
   "metadata": {},
   "outputs": [
    {
     "data": {
      "text/plain": [
       "90680"
      ]
     },
     "execution_count": 16,
     "metadata": {},
     "output_type": "execute_result"
    }
   ],
   "source": [
    "len(most_frequent_words_NOTES)"
   ]
  },
  {
   "cell_type": "code",
   "execution_count": null,
   "metadata": {},
   "outputs": [],
   "source": [
    "\n",
    "# Create an empty list to store nouns\n",
    "noun_list = []\n",
    "\n",
    "# Process each word in the list and extract nouns\n",
    "counter=0\n",
    "for word in most_frequent_words_NOTES_lowercase:\n",
    "    counter+=1\n",
    "    if(counter%1000)==0:\n",
    "        print(f'-------words done: {counter} out of 90680')\n",
    "    doc = nlp(word)\n",
    "    for token in doc:\n",
    "        if token.pos_ == \"NOUN\":\n",
    "            noun_list.append(token.text)\n",
    "\n",
    "# Print the list of nouns\n",
    "print(\"List of Nouns:\", noun_list)"
   ]
  },
  {
   "cell_type": "code",
   "execution_count": null,
   "metadata": {},
   "outputs": [],
   "source": [
    "unique_nouns = set(noun_list)\n",
    "for i in unique_nouns:\n",
    "    print(i)"
   ]
  },
  {
   "cell_type": "code",
   "execution_count": 47,
   "metadata": {},
   "outputs": [
    {
     "name": "stdout",
     "output_type": "stream",
     "text": [
      "----- index: 75274\n",
      "UDESTUE HERUNDER UDSIGTSTÅRN!\n",
      "----- index: 376959\n",
      "Uopvarmet udsigtsrum på 20 m²\n",
      "----- index: 709984\n",
      "HÆVET UDSIGTSTERRASSE PÅ 35 M2\n",
      "----- index: 925182\n",
      "17 m2 tårnværelse/udsigtsværelse er inkluderet i tagetagearealet.\n",
      "=> total frequency: 4\n"
     ]
    }
   ],
   "source": [
    "word_thelist = []\n",
    "index_counter = -1\n",
    "freq_counter = 0\n",
    "for row in data['notes']:\n",
    "    index_counter+=1\n",
    "    for item_string in row:\n",
    "        if 'udsigt' in item_string.lower():\n",
    "            freq_counter+=1\n",
    "            print(f'----- index: {index_counter}')\n",
    "            print(item_string)\n",
    "\n",
    "print(f'=> total frequency: {freq_counter}')"
   ]
  },
  {
   "cell_type": "code",
   "execution_count": null,
   "metadata": {},
   "outputs": [],
   "source": [
    "data.loc[604933]"
   ]
  },
  {
   "cell_type": "markdown",
   "metadata": {},
   "source": [
    "## ------------- CHECK VARIABLE: constructionYear \n"
   ]
  },
  {
   "cell_type": "code",
   "execution_count": null,
   "metadata": {},
   "outputs": [],
   "source": [
    "data['constructionYear'].unique()"
   ]
  },
  {
   "cell_type": "markdown",
   "metadata": {},
   "source": [
    "## ------------- CHECK VARIABLEs draft place  \n"
   ]
  },
  {
   "cell_type": "code",
   "execution_count": 65,
   "metadata": {},
   "outputs": [
    {
     "data": {
      "text/plain": [
       "'-'"
      ]
     },
     "execution_count": 65,
     "metadata": {},
     "output_type": "execute_result"
    }
   ],
   "source": [
    "data['conservationCode']==''"
   ]
  },
  {
   "cell_type": "code",
   "execution_count": 64,
   "metadata": {},
   "outputs": [
    {
     "data": {
      "text/plain": [
       "conservationCode\n",
       "-                                                                                   1023501\n",
       "Som 1, men med tinglyste bevaringsbestemmelser jf. lovens §15                          2261\n",
       "Bygningen medtaget i registrant, bevaringsplan mm.                                     2056\n",
       "Tinglyst bevaringsdeklaration, men bygningen ikke fredet                               1093\n",
       "Bygningen fredet iht. bygningsfredningsloven                                           1053\n",
       "Bygningen bevaringsværdig                                                               798\n",
       "Som 6, men med tinglyst bevaringsdeklaration                                            506\n",
       "Bygningen og dens umiddelbare omgivelser fredet iht. bygningsfredningsloven             195\n",
       "På bygningens middelalderlige bygningsdele er der tinglyst fredningsbestemmelser         28\n",
       "Bygningen indeholder middelalderlige bygningsdele                                        16\n",
       "Name: count, dtype: int64"
      ]
     },
     "execution_count": 64,
     "metadata": {},
     "output_type": "execute_result"
    }
   ],
   "source": [
    "data['conservationCode'].value_counts()"
   ]
  },
  {
   "cell_type": "code",
   "execution_count": 72,
   "metadata": {},
   "outputs": [
    {
     "data": {
      "text/html": [
       "<div>\n",
       "<style scoped>\n",
       "    .dataframe tbody tr th:only-of-type {\n",
       "        vertical-align: middle;\n",
       "    }\n",
       "\n",
       "    .dataframe tbody tr th {\n",
       "        vertical-align: top;\n",
       "    }\n",
       "\n",
       "    .dataframe thead th {\n",
       "        text-align: right;\n",
       "    }\n",
       "</style>\n",
       "<table border=\"1\" class=\"dataframe\">\n",
       "  <thead>\n",
       "    <tr style=\"text-align: right;\">\n",
       "      <th></th>\n",
       "      <th>RowID_MAIN_boliga_ROW_ID_unitID</th>\n",
       "      <th>RowID_propertyCode_bfeCode</th>\n",
       "      <th>RowID_municipalityCode</th>\n",
       "      <th>RowID_propertyCode_esrCode</th>\n",
       "      <th>Address_info_addressString</th>\n",
       "      <th>Address_info_streetString</th>\n",
       "      <th>Address_info_houseNumber</th>\n",
       "      <th>Address_info_floorString</th>\n",
       "      <th>Address_info_sideDoorNumber</th>\n",
       "      <th>Address_info_zipString_code_and_name</th>\n",
       "      <th>...</th>\n",
       "      <th>additionalHeatingSupplyCode</th>\n",
       "      <th>additionalOuterWallMaterial</th>\n",
       "      <th>additionalRoofMaterial</th>\n",
       "      <th>asbestosMaterial</th>\n",
       "      <th>objectStatus</th>\n",
       "      <th>floorDeviation</th>\n",
       "      <th>appartmentsWithKitchensQuantity</th>\n",
       "      <th>appartmentsWithoutKitchensQuantity</th>\n",
       "      <th>secureRoomArea</th>\n",
       "      <th>notes</th>\n",
       "    </tr>\n",
       "  </thead>\n",
       "  <tbody>\n",
       "    <tr>\n",
       "      <th>18</th>\n",
       "      <td>f77130c4-3a8e-45c0-bd99-b7806adba45b</td>\n",
       "      <td>2062758</td>\n",
       "      <td>173</td>\n",
       "      <td>33699</td>\n",
       "      <td>Elmevang 24</td>\n",
       "      <td>Elmevang</td>\n",
       "      <td>24</td>\n",
       "      <td>NaN</td>\n",
       "      <td>NaN</td>\n",
       "      <td>2830 Virum</td>\n",
       "      <td>...</td>\n",
       "      <td>Brændeovne og lignende med skorsten</td>\n",
       "      <td>-</td>\n",
       "      <td>-</td>\n",
       "      <td>-</td>\n",
       "      <td>Bygning - stamdata</td>\n",
       "      <td>Bygningen har ikke afvigende etager</td>\n",
       "      <td>1</td>\n",
       "      <td>0</td>\n",
       "      <td>0</td>\n",
       "      <td>[TOILET I KÆLDER 2 M²]</td>\n",
       "    </tr>\n",
       "    <tr>\n",
       "      <th>55</th>\n",
       "      <td>d77692e4-bf1a-45ed-baaf-196e8ddcf49b</td>\n",
       "      <td>2017774</td>\n",
       "      <td>159</td>\n",
       "      <td>124096</td>\n",
       "      <td>Stengårds Alle 115</td>\n",
       "      <td>Stengårds Alle</td>\n",
       "      <td>115</td>\n",
       "      <td>NaN</td>\n",
       "      <td>NaN</td>\n",
       "      <td>2800 Kongens Lyngby</td>\n",
       "      <td>...</td>\n",
       "      <td>-</td>\n",
       "      <td>-</td>\n",
       "      <td>-</td>\n",
       "      <td>-</td>\n",
       "      <td>Bygning - stamdata</td>\n",
       "      <td>Bygningen har ikke afvigende etager</td>\n",
       "      <td>1</td>\n",
       "      <td>0</td>\n",
       "      <td>0</td>\n",
       "      <td>[]</td>\n",
       "    </tr>\n",
       "    <tr>\n",
       "      <th>76</th>\n",
       "      <td>45d7f2d2-0b8b-432c-9490-3c919a8f38c6</td>\n",
       "      <td>5474043</td>\n",
       "      <td>461</td>\n",
       "      <td>437303</td>\n",
       "      <td>Vinkældervej 22C</td>\n",
       "      <td>Vinkældervej</td>\n",
       "      <td>22C</td>\n",
       "      <td>NaN</td>\n",
       "      <td>NaN</td>\n",
       "      <td>5000 Odense C</td>\n",
       "      <td>...</td>\n",
       "      <td>(UDFASES) Bygningen har ingen supplerende varme</td>\n",
       "      <td>-</td>\n",
       "      <td>-</td>\n",
       "      <td>Asbestholdigt tagdækningsmateriale</td>\n",
       "      <td>Bygning - stamdata</td>\n",
       "      <td>Bygningen har afvigende etager</td>\n",
       "      <td>1</td>\n",
       "      <td>0</td>\n",
       "      <td>0</td>\n",
       "      <td>[]</td>\n",
       "    </tr>\n",
       "    <tr>\n",
       "      <th>78</th>\n",
       "      <td>8f533911-8ab4-4f91-9771-98ede0753d53</td>\n",
       "      <td>100595478</td>\n",
       "      <td>101</td>\n",
       "      <td>54345</td>\n",
       "      <td>Papirøen 33, 5. 4</td>\n",
       "      <td>Papirøen</td>\n",
       "      <td>33</td>\n",
       "      <td>5</td>\n",
       "      <td>4</td>\n",
       "      <td>1436 København K</td>\n",
       "      <td>...</td>\n",
       "      <td>-</td>\n",
       "      <td>Glas</td>\n",
       "      <td>-</td>\n",
       "      <td>-</td>\n",
       "      <td>Byggesag</td>\n",
       "      <td>Bygningen indeholder etagegennembrydende rum</td>\n",
       "      <td>34</td>\n",
       "      <td>0</td>\n",
       "      <td>0</td>\n",
       "      <td>[Hal B]</td>\n",
       "    </tr>\n",
       "    <tr>\n",
       "      <th>79</th>\n",
       "      <td>13bb31f7-5c5e-4c8d-98de-64bcf264c082</td>\n",
       "      <td>100595491</td>\n",
       "      <td>101</td>\n",
       "      <td>54360</td>\n",
       "      <td>Papirøen 33, 9.</td>\n",
       "      <td>Papirøen</td>\n",
       "      <td>33</td>\n",
       "      <td>9</td>\n",
       "      <td>NaN</td>\n",
       "      <td>1436 København K</td>\n",
       "      <td>...</td>\n",
       "      <td>-</td>\n",
       "      <td>Glas</td>\n",
       "      <td>-</td>\n",
       "      <td>-</td>\n",
       "      <td>Byggesag</td>\n",
       "      <td>Bygningen indeholder etagegennembrydende rum</td>\n",
       "      <td>34</td>\n",
       "      <td>0</td>\n",
       "      <td>0</td>\n",
       "      <td>[Hal B]</td>\n",
       "    </tr>\n",
       "    <tr>\n",
       "      <th>...</th>\n",
       "      <td>...</td>\n",
       "      <td>...</td>\n",
       "      <td>...</td>\n",
       "      <td>...</td>\n",
       "      <td>...</td>\n",
       "      <td>...</td>\n",
       "      <td>...</td>\n",
       "      <td>...</td>\n",
       "      <td>...</td>\n",
       "      <td>...</td>\n",
       "      <td>...</td>\n",
       "      <td>...</td>\n",
       "      <td>...</td>\n",
       "      <td>...</td>\n",
       "      <td>...</td>\n",
       "      <td>...</td>\n",
       "      <td>...</td>\n",
       "      <td>...</td>\n",
       "      <td>...</td>\n",
       "      <td>...</td>\n",
       "      <td>...</td>\n",
       "    </tr>\n",
       "    <tr>\n",
       "      <th>1031420</th>\n",
       "      <td>812315ba-1ed0-4e86-9036-bcd2ba746f32</td>\n",
       "      <td>2294178</td>\n",
       "      <td>260</td>\n",
       "      <td>18129</td>\n",
       "      <td>Jasminvej 8</td>\n",
       "      <td>Jasminvej</td>\n",
       "      <td>8</td>\n",
       "      <td>NaN</td>\n",
       "      <td>NaN</td>\n",
       "      <td>3390 Hundested</td>\n",
       "      <td>...</td>\n",
       "      <td>(UDFASES) Bygningen har ingen supplerende varme</td>\n",
       "      <td>-</td>\n",
       "      <td>-</td>\n",
       "      <td>-</td>\n",
       "      <td>Bygning - stamdata</td>\n",
       "      <td>Bygningen har ikke afvigende etager</td>\n",
       "      <td>1</td>\n",
       "      <td>0</td>\n",
       "      <td>0</td>\n",
       "      <td>[]</td>\n",
       "    </tr>\n",
       "    <tr>\n",
       "      <th>1031440</th>\n",
       "      <td>c53893f2-1077-490b-ae14-92fb2e3ecbc9</td>\n",
       "      <td>5660683</td>\n",
       "      <td>746</td>\n",
       "      <td>14746</td>\n",
       "      <td>Krøyer Kielbergs Vej 38</td>\n",
       "      <td>Krøyer Kielbergs Vej</td>\n",
       "      <td>38</td>\n",
       "      <td>NaN</td>\n",
       "      <td>NaN</td>\n",
       "      <td>8660 Skanderborg</td>\n",
       "      <td>...</td>\n",
       "      <td>(UDFASES) Bygningen har ingen supplerende varme</td>\n",
       "      <td>Træ</td>\n",
       "      <td>Tagpap med lille hældning</td>\n",
       "      <td>-</td>\n",
       "      <td>Bygning - stamdata</td>\n",
       "      <td>Bygningen har ikke afvigende etager</td>\n",
       "      <td>1</td>\n",
       "      <td>0</td>\n",
       "      <td>0</td>\n",
       "      <td>[]</td>\n",
       "    </tr>\n",
       "    <tr>\n",
       "      <th>1031472</th>\n",
       "      <td>d68e85e7-0fb6-4193-a67e-7158c025795a</td>\n",
       "      <td>2117154</td>\n",
       "      <td>161</td>\n",
       "      <td>3786</td>\n",
       "      <td>Ejby Mosevej 159</td>\n",
       "      <td>Ejby Mosevej</td>\n",
       "      <td>159</td>\n",
       "      <td>NaN</td>\n",
       "      <td>NaN</td>\n",
       "      <td>2600 Glostrup</td>\n",
       "      <td>...</td>\n",
       "      <td>-</td>\n",
       "      <td>-</td>\n",
       "      <td>-</td>\n",
       "      <td>-</td>\n",
       "      <td>Bygning - stamdata</td>\n",
       "      <td>Bygningen har ikke afvigende etager</td>\n",
       "      <td>1</td>\n",
       "      <td>0</td>\n",
       "      <td>0</td>\n",
       "      <td>[]</td>\n",
       "    </tr>\n",
       "    <tr>\n",
       "      <th>1031474</th>\n",
       "      <td>f45c41c0-dc56-443f-948b-1cebc4852013</td>\n",
       "      <td>9815502</td>\n",
       "      <td>270</td>\n",
       "      <td>16595</td>\n",
       "      <td>Vibehusvej 8A</td>\n",
       "      <td>Vibehusvej</td>\n",
       "      <td>8A</td>\n",
       "      <td>NaN</td>\n",
       "      <td>NaN</td>\n",
       "      <td>3250 Gilleleje</td>\n",
       "      <td>...</td>\n",
       "      <td>-</td>\n",
       "      <td>-</td>\n",
       "      <td>-</td>\n",
       "      <td>-</td>\n",
       "      <td>Bygning - stamdata</td>\n",
       "      <td>Bygningen har ikke afvigende etager</td>\n",
       "      <td>1</td>\n",
       "      <td>0</td>\n",
       "      <td>0</td>\n",
       "      <td>[Byggeriet er ikke afsluttet i Bygningsmyndigh...</td>\n",
       "    </tr>\n",
       "    <tr>\n",
       "      <th>1031475</th>\n",
       "      <td>3c117c25-7e0e-4479-bc4d-e64a297c92b3</td>\n",
       "      <td>2022918</td>\n",
       "      <td>163</td>\n",
       "      <td>466</td>\n",
       "      <td>Agerledet 3</td>\n",
       "      <td>Agerledet</td>\n",
       "      <td>3</td>\n",
       "      <td>NaN</td>\n",
       "      <td>NaN</td>\n",
       "      <td>2730 Herlev</td>\n",
       "      <td>...</td>\n",
       "      <td>Andet</td>\n",
       "      <td>-</td>\n",
       "      <td>-</td>\n",
       "      <td>-</td>\n",
       "      <td>Bygning - stamdata</td>\n",
       "      <td>Bygningen har ikke afvigende etager</td>\n",
       "      <td>1</td>\n",
       "      <td>0</td>\n",
       "      <td>0</td>\n",
       "      <td>[]</td>\n",
       "    </tr>\n",
       "  </tbody>\n",
       "</table>\n",
       "<p>135448 rows × 54 columns</p>\n",
       "</div>"
      ],
      "text/plain": [
       "              RowID_MAIN_boliga_ROW_ID_unitID  RowID_propertyCode_bfeCode  \\\n",
       "18       f77130c4-3a8e-45c0-bd99-b7806adba45b                     2062758   \n",
       "55       d77692e4-bf1a-45ed-baaf-196e8ddcf49b                     2017774   \n",
       "76       45d7f2d2-0b8b-432c-9490-3c919a8f38c6                     5474043   \n",
       "78       8f533911-8ab4-4f91-9771-98ede0753d53                   100595478   \n",
       "79       13bb31f7-5c5e-4c8d-98de-64bcf264c082                   100595491   \n",
       "...                                       ...                         ...   \n",
       "1031420  812315ba-1ed0-4e86-9036-bcd2ba746f32                     2294178   \n",
       "1031440  c53893f2-1077-490b-ae14-92fb2e3ecbc9                     5660683   \n",
       "1031472  d68e85e7-0fb6-4193-a67e-7158c025795a                     2117154   \n",
       "1031474  f45c41c0-dc56-443f-948b-1cebc4852013                     9815502   \n",
       "1031475  3c117c25-7e0e-4479-bc4d-e64a297c92b3                     2022918   \n",
       "\n",
       "         RowID_municipalityCode  RowID_propertyCode_esrCode  \\\n",
       "18                          173                       33699   \n",
       "55                          159                      124096   \n",
       "76                          461                      437303   \n",
       "78                          101                       54345   \n",
       "79                          101                       54360   \n",
       "...                         ...                         ...   \n",
       "1031420                     260                       18129   \n",
       "1031440                     746                       14746   \n",
       "1031472                     161                        3786   \n",
       "1031474                     270                       16595   \n",
       "1031475                     163                         466   \n",
       "\n",
       "        Address_info_addressString Address_info_streetString  \\\n",
       "18                     Elmevang 24                  Elmevang   \n",
       "55              Stengårds Alle 115            Stengårds Alle   \n",
       "76                Vinkældervej 22C              Vinkældervej   \n",
       "78               Papirøen 33, 5. 4                  Papirøen   \n",
       "79                 Papirøen 33, 9.                  Papirøen   \n",
       "...                            ...                       ...   \n",
       "1031420                Jasminvej 8                 Jasminvej   \n",
       "1031440    Krøyer Kielbergs Vej 38      Krøyer Kielbergs Vej   \n",
       "1031472           Ejby Mosevej 159              Ejby Mosevej   \n",
       "1031474              Vibehusvej 8A                Vibehusvej   \n",
       "1031475                Agerledet 3                 Agerledet   \n",
       "\n",
       "        Address_info_houseNumber Address_info_floorString  \\\n",
       "18                            24                      NaN   \n",
       "55                           115                      NaN   \n",
       "76                           22C                      NaN   \n",
       "78                            33                        5   \n",
       "79                            33                        9   \n",
       "...                          ...                      ...   \n",
       "1031420                        8                      NaN   \n",
       "1031440                       38                      NaN   \n",
       "1031472                      159                      NaN   \n",
       "1031474                       8A                      NaN   \n",
       "1031475                        3                      NaN   \n",
       "\n",
       "        Address_info_sideDoorNumber Address_info_zipString_code_and_name  ...  \\\n",
       "18                              NaN                           2830 Virum  ...   \n",
       "55                              NaN                  2800 Kongens Lyngby  ...   \n",
       "76                              NaN                        5000 Odense C  ...   \n",
       "78                                4                     1436 København K  ...   \n",
       "79                              NaN                     1436 København K  ...   \n",
       "...                             ...                                  ...  ...   \n",
       "1031420                         NaN                       3390 Hundested  ...   \n",
       "1031440                         NaN                     8660 Skanderborg  ...   \n",
       "1031472                         NaN                        2600 Glostrup  ...   \n",
       "1031474                         NaN                       3250 Gilleleje  ...   \n",
       "1031475                         NaN                          2730 Herlev  ...   \n",
       "\n",
       "                             additionalHeatingSupplyCode  \\\n",
       "18                   Brændeovne og lignende med skorsten   \n",
       "55                                                     -   \n",
       "76       (UDFASES) Bygningen har ingen supplerende varme   \n",
       "78                                                     -   \n",
       "79                                                     -   \n",
       "...                                                  ...   \n",
       "1031420  (UDFASES) Bygningen har ingen supplerende varme   \n",
       "1031440  (UDFASES) Bygningen har ingen supplerende varme   \n",
       "1031472                                                -   \n",
       "1031474                                                -   \n",
       "1031475                                            Andet   \n",
       "\n",
       "         additionalOuterWallMaterial     additionalRoofMaterial  \\\n",
       "18                                 -                          -   \n",
       "55                                 -                          -   \n",
       "76                                 -                          -   \n",
       "78                              Glas                          -   \n",
       "79                              Glas                          -   \n",
       "...                              ...                        ...   \n",
       "1031420                            -                          -   \n",
       "1031440                          Træ  Tagpap med lille hældning   \n",
       "1031472                            -                          -   \n",
       "1031474                            -                          -   \n",
       "1031475                            -                          -   \n",
       "\n",
       "                           asbestosMaterial        objectStatus  \\\n",
       "18                                        -  Bygning - stamdata   \n",
       "55                                        -  Bygning - stamdata   \n",
       "76       Asbestholdigt tagdækningsmateriale  Bygning - stamdata   \n",
       "78                                        -            Byggesag   \n",
       "79                                        -            Byggesag   \n",
       "...                                     ...                 ...   \n",
       "1031420                                   -  Bygning - stamdata   \n",
       "1031440                                   -  Bygning - stamdata   \n",
       "1031472                                   -  Bygning - stamdata   \n",
       "1031474                                   -  Bygning - stamdata   \n",
       "1031475                                   -  Bygning - stamdata   \n",
       "\n",
       "                                       floorDeviation  \\\n",
       "18                Bygningen har ikke afvigende etager   \n",
       "55                Bygningen har ikke afvigende etager   \n",
       "76                     Bygningen har afvigende etager   \n",
       "78       Bygningen indeholder etagegennembrydende rum   \n",
       "79       Bygningen indeholder etagegennembrydende rum   \n",
       "...                                               ...   \n",
       "1031420           Bygningen har ikke afvigende etager   \n",
       "1031440           Bygningen har ikke afvigende etager   \n",
       "1031472           Bygningen har ikke afvigende etager   \n",
       "1031474           Bygningen har ikke afvigende etager   \n",
       "1031475           Bygningen har ikke afvigende etager   \n",
       "\n",
       "        appartmentsWithKitchensQuantity  appartmentsWithoutKitchensQuantity  \\\n",
       "18                                    1                                   0   \n",
       "55                                    1                                   0   \n",
       "76                                    1                                   0   \n",
       "78                                   34                                   0   \n",
       "79                                   34                                   0   \n",
       "...                                 ...                                 ...   \n",
       "1031420                               1                                   0   \n",
       "1031440                               1                                   0   \n",
       "1031472                               1                                   0   \n",
       "1031474                               1                                   0   \n",
       "1031475                               1                                   0   \n",
       "\n",
       "        secureRoomArea                                              notes  \n",
       "18                   0                             [TOILET I KÆLDER 2 M²]  \n",
       "55                   0                                                 []  \n",
       "76                   0                                                 []  \n",
       "78                   0                                            [Hal B]  \n",
       "79                   0                                            [Hal B]  \n",
       "...                ...                                                ...  \n",
       "1031420              0                                                 []  \n",
       "1031440              0                                                 []  \n",
       "1031472              0                                                 []  \n",
       "1031474              0  [Byggeriet er ikke afsluttet i Bygningsmyndigh...  \n",
       "1031475              0                                                 []  \n",
       "\n",
       "[135448 rows x 54 columns]"
      ]
     },
     "execution_count": 72,
     "metadata": {},
     "output_type": "execute_result"
    }
   ],
   "source": [
    "data[data['coveredArea']!=0]"
   ]
  },
  {
   "cell_type": "code",
   "execution_count": 73,
   "metadata": {},
   "outputs": [
    {
     "data": {
      "text/plain": [
       "'f77130c4-3a8e-45c0-bd99-b7806adba45b'"
      ]
     },
     "execution_count": 73,
     "metadata": {},
     "output_type": "execute_result"
    }
   ],
   "source": [
    "data['RowID_MAIN_boliga_ROW_ID_unitID'][18]"
   ]
  },
  {
   "cell_type": "code",
   "execution_count": 74,
   "metadata": {},
   "outputs": [
    {
     "data": {
      "text/plain": [
       "8"
      ]
     },
     "execution_count": 74,
     "metadata": {},
     "output_type": "execute_result"
    }
   ],
   "source": [
    "data['coveredArea'][18]"
   ]
  },
  {
   "cell_type": "markdown",
   "metadata": {},
   "source": [
    "# -------- Change Column names for the NEW COLUMNS :"
   ]
  },
  {
   "cell_type": "code",
   "execution_count": null,
   "metadata": {},
   "outputs": [],
   "source": [
    "change_column_names = {\n",
    "    'buildingNumber': 'buildingInfo_buildingNumber_BBR_lastdigit',\n",
    "    'buildingUsage': 'buildingInfo_BBR_buildingUsage_category',\n",
    "    'constructionYear': 'buildingInfo_Year_built',\n",
    "    'floorQuantity': 'buildingInfo_floorQuantity_in_building',\n",
    "    'latesstRebuildYear': 'buildingInfo_latesstRebuildYear',\n",
    "    'buildingArea': 'buildingInfo_total_buildingArea', \n",
    "    'businessArea': 'buildingInfo_total_businessArea_in_building', \n",
    "    'livingArea': 'buildingInfo_total_livingArea_in_building', \n",
    "    'conservationCode': 'buildingInfo_conservationCode',\n",
    "    'conservationWorthy': 'conservationWorthy', ### <------- drop this\n",
    "    'heatingSupplyCode': 'buildingInfo_heatingSupplyCode',\n",
    "    'outerWalls': 'buildingInfo_outerWalls_material',\n",
    "    'roof': 'buildingInfo_roof_material',\n",
    "    'buildInGarageArea': 'buildingInfo_buildInGarageArea', \n",
    "    'buildInCarportArea': 'buildingInfo_buildInCarportArea', \n",
    "    'buildInOuthouseArea': 'buildingInfo_buildInOuthouseArea', \n",
    "    'conservatoryArea': 'buildingInfo_conservatoryArea', \n",
    "    'coveredArea': 'buildingInfo_coveredArea', \n",
    "    'openCoveredArea': 'buildingInfo_openCoveredArea', \n",
    "    'closedCoveredArea': 'buildingInfo_closedCoveredArea', \n",
    "    'carbageRoomArea': 'buildingInfo_carbageRoomArea', \n",
    "    'otherArea': 'buildingInfo_otherArea', \n",
    "    'accessAreaArea': 'buildingInfo_accessAreaArea', \n",
    "    'waterSupplyCode': 'buildingInfo_waterSupplyCode',\n",
    "    'drainCode': 'buildingInfo_drainCode',\n",
    "    'drainPermission': 'buildingInfo_drainPermission', ### ----- DROP THIS \n",
    "    'heatingCode': 'buildingInfo_heatingCode',\n",
    "    'additionalHeatingSupplyCode': 'buildingInfo_additionalHeatingSupplyCode',\n",
    "    'additionalOuterWallMaterial': 'buildingInfo_additionalOuterWallMaterial',\n",
    "    'additionalRoofMaterial': 'buildingInfo_additionalRoofMaterial',\n",
    "    'asbestosMaterial': 'buildingInfo_asbestosMaterial',\n",
    "    'objectStatus': 'buildingInfo_objectStatus',\n",
    "    'floorDeviation': 'buildingInfo_floorDeviation',\n",
    "    'appartmentsWithKitchensQuantity': 'buildingInfo_appartmentsWithKitchensQuantity', \n",
    "    'appartmentsWithoutKitchensQuantity': 'buildingInfo_appartmentsWithoutKitchensQuantity', \n",
    "    'secureRoomArea': 'buildingInfo_secureRoomArea', \n",
    "    'notes': 'notes'### ----- DROP THIS \n",
    "}\n",
    "\n",
    "data = data.rename(columns=change_column_names)\n",
    "data.info()"
   ]
  },
  {
   "cell_type": "markdown",
   "metadata": {},
   "source": [
    "### ----- Create dummy : Swimming pool exists ?"
   ]
  },
  {
   "cell_type": "code",
   "execution_count": 8,
   "metadata": {},
   "outputs": [],
   "source": [
    "data['buildingInfo_swimmingPool_dummy'] = 0"
   ]
  },
  {
   "cell_type": "code",
   "execution_count": 9,
   "metadata": {},
   "outputs": [],
   "source": [
    "swimming_keyWord = ['swimmingpool','svømmepool','svømmebassin']\n",
    "def swimming_dummy(x):\n",
    "    swimming = False\n",
    "    try:\n",
    "        if isinstance(x, list):\n",
    "            for list_item in x:\n",
    "                list_string = list_item.lower()\n",
    "\n",
    "                if any(keyword in list_string for keyword in swimming_keyWord):\n",
    "                    swimming = True\n",
    "                    break\n",
    "                \n",
    "            if swimming:\n",
    "                return 1\n",
    "            else:\n",
    "                return 0\n",
    "\n",
    "        else:\n",
    "            return 0\n",
    "    except (ValueError, SyntaxError) as e:\n",
    "        print(f\"Error decoding JSON: {e}\")\n",
    "        return None\n",
    "\n",
    "# Apply the decoding function to the specified column\n",
    "data['buildingInfo_swimmingPool_dummy'] = data['notes'].apply(swimming_dummy)"
   ]
  },
  {
   "cell_type": "code",
   "execution_count": 10,
   "metadata": {},
   "outputs": [
    {
     "data": {
      "text/plain": [
       "buildingInfo_swimmingPool_dummy\n",
       "0    1031046\n",
       "1        461\n",
       "Name: count, dtype: int64"
      ]
     },
     "execution_count": 10,
     "metadata": {},
     "output_type": "execute_result"
    }
   ],
   "source": [
    "data['buildingInfo_swimmingPool_dummy'].value_counts()"
   ]
  },
  {
   "cell_type": "markdown",
   "metadata": {},
   "source": [
    "### ----- Create dummy : Green house exists ? "
   ]
  },
  {
   "cell_type": "code",
   "execution_count": 11,
   "metadata": {},
   "outputs": [],
   "source": [
    "data['buildingInfo_greenhouse_dummy'] = 0  "
   ]
  },
  {
   "cell_type": "code",
   "execution_count": 12,
   "metadata": {},
   "outputs": [],
   "source": [
    "def swimming_dummy(x):\n",
    "    swimming = False\n",
    "    try:\n",
    "        if isinstance(x, list):\n",
    "            for list_item in x:\n",
    "                list_string = list_item.lower()\n",
    "\n",
    "                if 'drivhus' in list_string:\n",
    "                    swimming = True\n",
    "                    break\n",
    "                \n",
    "            if swimming:\n",
    "                return 1\n",
    "            else:\n",
    "                return 0\n",
    "\n",
    "        else:\n",
    "            return 0\n",
    "    except (ValueError, SyntaxError) as e:\n",
    "        print(f\"Error decoding JSON: {e}\")\n",
    "        return None\n",
    "\n",
    "# Apply the decoding function to the specified column\n",
    "data['buildingInfo_greenhouse_dummy'] = data['notes'].apply(swimming_dummy)"
   ]
  },
  {
   "cell_type": "code",
   "execution_count": 14,
   "metadata": {},
   "outputs": [
    {
     "data": {
      "text/plain": [
       "buildingInfo_greenhouse_dummy\n",
       "0    1030517\n",
       "1        990\n",
       "Name: count, dtype: int64"
      ]
     },
     "execution_count": 14,
     "metadata": {},
     "output_type": "execute_result"
    }
   ],
   "source": [
    "data['buildingInfo_greenhouse_dummy'].value_counts()"
   ]
  },
  {
   "cell_type": "markdown",
   "metadata": {},
   "source": [
    "## --- drop useless features: \n",
    "\n"
   ]
  },
  {
   "cell_type": "code",
   "execution_count": 59,
   "metadata": {},
   "outputs": [],
   "source": [
    "drop_columns = [\n",
    "    'conservationWorthy',\n",
    "    'buildingInfo_drainPermission',\n",
    "    'notes',\n",
    "]\n",
    "\n",
    "data.drop(columns=drop_columns, inplace=True)"
   ]
  },
  {
   "cell_type": "code",
   "execution_count": null,
   "metadata": {},
   "outputs": [],
   "source": [
    "data.info()"
   ]
  },
  {
   "cell_type": "markdown",
   "metadata": {},
   "source": [
    "## ------ Save the result "
   ]
  },
  {
   "cell_type": "code",
   "execution_count": 15,
   "metadata": {},
   "outputs": [],
   "source": [
    "sub_columns = [\n",
    "    'RowID_MAIN_boliga_ROW_ID_unitID',\n",
    "    'buildingInfo_buildingNumber_BBR_lastdigit', \n",
    "    'buildingInfo_BBR_buildingUsage_category',\n",
    "    'buildingInfo_Year_built', \n",
    "    'buildingInfo_floorQuantity_in_building', \n",
    "    'buildingInfo_latesstRebuildYear', \n",
    "    'buildingInfo_total_buildingArea', \n",
    "    'buildingInfo_total_businessArea_in_building', \n",
    "    'buildingInfo_total_livingArea_in_building', \n",
    "    'buildingInfo_conservationCode',\n",
    "    'buildingInfo_heatingSupplyCode',\n",
    "    'buildingInfo_outerWalls_material',\n",
    "    'buildingInfo_roof_material',\n",
    "    'buildingInfo_buildInGarageArea', \n",
    "    'buildingInfo_buildInCarportArea', \n",
    "    'buildingInfo_buildInOuthouseArea', \n",
    "    'buildingInfo_conservatoryArea', \n",
    "    'buildingInfo_coveredArea', \n",
    "    'buildingInfo_openCoveredArea', \n",
    "    'buildingInfo_closedCoveredArea', \n",
    "    'buildingInfo_carbageRoomArea', \n",
    "    'buildingInfo_otherArea', \n",
    "    'buildingInfo_accessAreaArea', \n",
    "    'buildingInfo_waterSupplyCode',\n",
    "    'buildingInfo_drainCode',\n",
    "    'buildingInfo_heatingCode',\n",
    "    'buildingInfo_additionalHeatingSupplyCode',\n",
    "    'buildingInfo_additionalOuterWallMaterial',\n",
    "    'buildingInfo_additionalRoofMaterial',\n",
    "    'buildingInfo_asbestosMaterial',\n",
    "    'buildingInfo_objectStatus',\n",
    "    'buildingInfo_floorDeviation',\n",
    "    'buildingInfo_appartmentsWithKitchensQuantity', \n",
    "    'buildingInfo_appartmentsWithoutKitchensQuantity', \n",
    "    'buildingInfo_secureRoomArea',\n",
    "    'buildingInfo_swimmingPool_dummy',\n",
    "    'buildingInfo_greenhouse_dummy'\n",
    "]\n",
    "\n",
    "path=r'D:\\Thesis\\Properties\\Denmark\\RE_due_scraping_properties\\Boliga_dk\\Creating_main_dataset_for_sales_data\\Data_split\\3_buildingInfo\\Ready\\Boliga_propertySales_buildingInfo_READY.csv'\n",
    "\n",
    "data[sub_columns].to_csv(path, encoding='utf-8', index=False)"
   ]
  }
 ],
 "metadata": {
  "kernelspec": {
   "display_name": "base",
   "language": "python",
   "name": "python3"
  },
  "language_info": {
   "codemirror_mode": {
    "name": "ipython",
    "version": 3
   },
   "file_extension": ".py",
   "mimetype": "text/x-python",
   "name": "python",
   "nbconvert_exporter": "python",
   "pygments_lexer": "ipython3",
   "version": "3.11.4"
  }
 },
 "nbformat": 4,
 "nbformat_minor": 2
}
