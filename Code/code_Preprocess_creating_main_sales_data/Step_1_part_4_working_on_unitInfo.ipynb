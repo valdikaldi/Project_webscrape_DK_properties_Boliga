{
 "cells": [
  {
   "cell_type": "code",
   "execution_count": 1,
   "metadata": {},
   "outputs": [],
   "source": [
    "import pandas as pd \n",
    "import ast\n",
    "import json\n",
    "from pandas import json_normalize"
   ]
  },
  {
   "cell_type": "markdown",
   "metadata": {},
   "source": [
    ".\n",
    "## ==================================================\n",
    "# Boliga_propertySales_unitInfo.csv\n",
    "## ==================================================\n",
    "."
   ]
  },
  {
   "cell_type": "markdown",
   "metadata": {},
   "source": [
    "## ----- read in the file : "
   ]
  },
  {
   "cell_type": "code",
   "execution_count": 2,
   "metadata": {},
   "outputs": [
    {
     "name": "stdout",
     "output_type": "stream",
     "text": [
      "<class 'pandas.core.frame.DataFrame'>\n",
      "RangeIndex: 1031507 entries, 0 to 1031506\n",
      "Data columns (total 17 columns):\n",
      " #   Column                                  Non-Null Count    Dtype \n",
      "---  ------                                  --------------    ----- \n",
      " 0   RowID_MAIN_boliga_ROW_ID_unitID         1031507 non-null  object\n",
      " 1   RowID_propertyCode_bfeCode              1031507 non-null  int64 \n",
      " 2   RowID_municipalityCode                  1031507 non-null  int64 \n",
      " 3   RowID_propertyCode_esrCode              1031507 non-null  int64 \n",
      " 4   Address_info_addressString              1031507 non-null  object\n",
      " 5   Address_info_streetString               1031507 non-null  object\n",
      " 6   Address_info_houseNumber                1031507 non-null  object\n",
      " 7   Address_info_floorString                270077 non-null   object\n",
      " 8   Address_info_sideDoorNumber             215286 non-null   object\n",
      " 9   Address_info_zipString_code_and_name    1031507 non-null  object\n",
      " 10  Address_info_zipCode                    1031507 non-null  int64 \n",
      " 11  Feature_dummy_isApartment               1031507 non-null  bool  \n",
      " 12  Feature_categorical_propertyTypeNumber  1031507 non-null  int64 \n",
      " 13  Feature_Floor_level_of_property         270077 non-null   object\n",
      " 14  Feature_category_propertyTypeName       1031507 non-null  object\n",
      " 15  Feature_dummy_property_is_on_sale       1031507 non-null  bool  \n",
      " 16  RAW_dictionary_unitInfo                 1031507 non-null  object\n",
      "dtypes: bool(2), int64(5), object(10)\n",
      "memory usage: 120.0+ MB\n"
     ]
    }
   ],
   "source": [
    "path = r'D:\\Thesis\\Properties\\Denmark\\RE_due_scraping_properties\\Boliga_dk\\Creating_main_dataset_for_sales_data\\Data_split\\4_unitInfo\\Boliga_propertySales_unitInfo.csv'\n",
    "data_unitInfo = pd.read_csv(path, encoding='utf-8',low_memory=False)\n",
    "data_unitInfo.info()"
   ]
  },
  {
   "cell_type": "code",
   "execution_count": null,
   "metadata": {},
   "outputs": [],
   "source": [
    "data_unitInfo['RAW_dictionary_unitInfo']"
   ]
  },
  {
   "cell_type": "markdown",
   "metadata": {},
   "source": [
    "### --------- Convert \"RAW_dictionary_bbrInfoBox\" column to dictionary object                "
   ]
  },
  {
   "cell_type": "code",
   "execution_count": 3,
   "metadata": {},
   "outputs": [],
   "source": [
    "def decode_json(x):\n",
    "    try:\n",
    "        if isinstance(x, str) and x.strip() != \"\" and not pd.isna(x):\n",
    "            return ast.literal_eval(x)\n",
    "            # Alternatively, you can use json.loads as follows:\n",
    "            # return json.loads(x.replace(\"'\", '\"'))\n",
    "        else:\n",
    "            return x\n",
    "    except (ValueError, SyntaxError) as e:\n",
    "        print(f\"Error decoding JSON: {e}\")\n",
    "        return None\n",
    "\n",
    "# Apply the decoding function to the specified column\n",
    "data_unitInfo['RAW_dictionary_unitInfo'] = data_unitInfo['RAW_dictionary_unitInfo'].apply(decode_json)\n"
   ]
  },
  {
   "cell_type": "markdown",
   "metadata": {},
   "source": [
    "## --- Count number of items in the dictionary - to make sure they are all balance "
   ]
  },
  {
   "cell_type": "code",
   "execution_count": 4,
   "metadata": {},
   "outputs": [
    {
     "data": {
      "text/plain": [
       "{23}"
      ]
     },
     "execution_count": 4,
     "metadata": {},
     "output_type": "execute_result"
    }
   ],
   "source": [
    "def count_objects(x):\n",
    "    if isinstance(x,dict) and x!='':\n",
    "        return countlist.append(len(x))\n",
    "\n",
    "countlist = []\n",
    "\n",
    "# Apply the decoding function to the specified column\n",
    "data_unitInfo['RAW_dictionary_unitInfo'].apply(count_objects)\n",
    "\n",
    "set(countlist)"
   ]
  },
  {
   "cell_type": "markdown",
   "metadata": {},
   "source": [
    "# ------ NORMALIZE THE COLUMN "
   ]
  },
  {
   "cell_type": "code",
   "execution_count": 4,
   "metadata": {},
   "outputs": [
    {
     "name": "stdout",
     "output_type": "stream",
     "text": [
      "<class 'pandas.core.frame.DataFrame'>\n",
      "RangeIndex: 1031507 entries, 0 to 1031506\n",
      "Data columns (total 40 columns):\n",
      " #   Column                                  Non-Null Count    Dtype \n",
      "---  ------                                  --------------    ----- \n",
      " 0   RowID_MAIN_boliga_ROW_ID_unitID         1031507 non-null  object\n",
      " 1   RowID_propertyCode_bfeCode              1031507 non-null  int64 \n",
      " 2   RowID_municipalityCode                  1031507 non-null  int64 \n",
      " 3   RowID_propertyCode_esrCode              1031507 non-null  int64 \n",
      " 4   Address_info_addressString              1031507 non-null  object\n",
      " 5   Address_info_streetString               1031507 non-null  object\n",
      " 6   Address_info_houseNumber                1031507 non-null  object\n",
      " 7   Address_info_floorString                270077 non-null   object\n",
      " 8   Address_info_sideDoorNumber             215286 non-null   object\n",
      " 9   Address_info_zipString_code_and_name    1031507 non-null  object\n",
      " 10  Address_info_zipCode                    1031507 non-null  int64 \n",
      " 11  Feature_dummy_isApartment               1031507 non-null  bool  \n",
      " 12  Feature_categorical_propertyTypeNumber  1031507 non-null  int64 \n",
      " 13  Feature_Floor_level_of_property         270077 non-null   object\n",
      " 14  Feature_category_propertyTypeName       1031507 non-null  object\n",
      " 15  Feature_dummy_property_is_on_sale       1031507 non-null  bool  \n",
      " 16  RAW_dictionary_unitInfo                 1031507 non-null  object\n",
      " 17  appliance                               1031507 non-null  object\n",
      " 18  propertyUnitType                        1031507 non-null  object\n",
      " 19  propertyCondemned                       1031507 non-null  object\n",
      " 20  areaUnit                                1031507 non-null  int64 \n",
      " 21  areaLiving                              1031507 non-null  int64 \n",
      " 22  areaBusiness                            1031507 non-null  int64 \n",
      " 23  areaOther                               1031507 non-null  int64 \n",
      " 24  areaSocial                              1031507 non-null  int64 \n",
      " 25  areaOpenCovered                         1031507 non-null  int64 \n",
      " 26  roomsQuantity                           1031507 non-null  int64 \n",
      " 27  areaClosedCovered                       1031507 non-null  int64 \n",
      " 28  roomsBusinessQuantity                   1031507 non-null  int64 \n",
      " 29  toiletCode                              1031507 non-null  object\n",
      " 30  toiletQuantity                          1031507 non-null  int64 \n",
      " 31  bathroomCode                            1031507 non-null  object\n",
      " 32  bathroomQuantity                        1031507 non-null  int64 \n",
      " 33  kitchenCode                             1031507 non-null  object\n",
      " 34  energyCode                              1031507 non-null  object\n",
      " 35  heatingInstallationCode                 1031507 non-null  object\n",
      " 36  heatingCode                             1031507 non-null  object\n",
      " 37  heatingSecondaryCode                    1031507 non-null  object\n",
      " 38  usageCode                               1031507 non-null  object\n",
      " 39  notes                                   1031507 non-null  object\n",
      "dtypes: bool(2), int64(16), object(22)\n",
      "memory usage: 301.0+ MB\n"
     ]
    }
   ],
   "source": [
    "# normalize the column \n",
    "normalized_data = json_normalize(data_unitInfo['RAW_dictionary_unitInfo'])\n",
    "\n",
    "# concatenate the normalized data and the original dataset\n",
    "data_unitInfo = pd.concat([data_unitInfo, normalized_data], axis=1)\n",
    "\n",
    "data_unitInfo.info()"
   ]
  },
  {
   "cell_type": "code",
   "execution_count": 59,
   "metadata": {},
   "outputs": [
    {
     "name": "stdout",
     "output_type": "stream",
     "text": [
      "<class 'pandas.core.frame.DataFrame'>\n",
      "RangeIndex: 1031507 entries, 0 to 1031506\n",
      "Data columns (total 40 columns):\n",
      " #   Column                                  Non-Null Count    Dtype \n",
      "---  ------                                  --------------    ----- \n",
      " 0   RowID_MAIN_boliga_ROW_ID_unitID         1031507 non-null  object\n",
      " 1   RowID_propertyCode_bfeCode              1031507 non-null  int64 \n",
      " 2   RowID_municipalityCode                  1031507 non-null  int64 \n",
      " 3   RowID_propertyCode_esrCode              1031507 non-null  int64 \n",
      " 4   Address_info_addressString              1031507 non-null  object\n",
      " 5   Address_info_streetString               1031507 non-null  object\n",
      " 6   Address_info_houseNumber                1031507 non-null  object\n",
      " 7   Address_info_floorString                270077 non-null   object\n",
      " 8   Address_info_sideDoorNumber             215286 non-null   object\n",
      " 9   Address_info_zipString_code_and_name    1031507 non-null  object\n",
      " 10  Address_info_zipCode                    1031507 non-null  int64 \n",
      " 11  Feature_dummy_isApartment               1031507 non-null  bool  \n",
      " 12  Feature_categorical_propertyTypeNumber  1031507 non-null  int64 \n",
      " 13  Feature_Floor_level_of_property         270077 non-null   object\n",
      " 14  Feature_category_propertyTypeName       1031507 non-null  object\n",
      " 15  Feature_dummy_property_is_on_sale       1031507 non-null  bool  \n",
      " 16  RAW_dictionary_unitInfo                 1031507 non-null  object\n",
      " 17  appliance                               1031507 non-null  object\n",
      " 18  propertyUnitType                        1031507 non-null  object\n",
      " 19  propertyCondemned                       1031507 non-null  object\n",
      " 20  areaUnit                                1031507 non-null  int64 \n",
      " 21  areaLiving                              1031507 non-null  int64 \n",
      " 22  areaBusiness                            1031507 non-null  int64 \n",
      " 23  areaOther                               1031507 non-null  int64 \n",
      " 24  areaSocial                              1031507 non-null  int64 \n",
      " 25  areaOpenCovered                         1031507 non-null  int64 \n",
      " 26  roomsQuantity                           1031507 non-null  int64 \n",
      " 27  areaClosedCovered                       1031507 non-null  int64 \n",
      " 28  roomsBusinessQuantity                   1031507 non-null  int64 \n",
      " 29  toiletCode                              1031507 non-null  object\n",
      " 30  toiletQuantity                          1031507 non-null  int64 \n",
      " 31  bathroomCode                            1031507 non-null  object\n",
      " 32  bathroomQuantity                        1031507 non-null  int64 \n",
      " 33  kitchenCode                             1031507 non-null  object\n",
      " 34  energyCode                              1031507 non-null  object\n",
      " 35  heatingInstallationCode                 1031507 non-null  object\n",
      " 36  heatingCode                             1031507 non-null  object\n",
      " 37  heatingSecondaryCode                    1031507 non-null  object\n",
      " 38  usageCode                               1031507 non-null  object\n",
      " 39  notes                                   1031507 non-null  object\n",
      "dtypes: bool(2), int64(16), object(22)\n",
      "memory usage: 301.0+ MB\n"
     ]
    }
   ],
   "source": [
    "data_unitInfo.info()"
   ]
  },
  {
   "cell_type": "markdown",
   "metadata": {},
   "source": [
    "## ------------- CHECK VARIABLEs draft place  \n"
   ]
  },
  {
   "cell_type": "code",
   "execution_count": 7,
   "metadata": {},
   "outputs": [
    {
     "data": {
      "text/html": [
       "<div>\n",
       "<style scoped>\n",
       "    .dataframe tbody tr th:only-of-type {\n",
       "        vertical-align: middle;\n",
       "    }\n",
       "\n",
       "    .dataframe tbody tr th {\n",
       "        vertical-align: top;\n",
       "    }\n",
       "\n",
       "    .dataframe thead th {\n",
       "        text-align: right;\n",
       "    }\n",
       "</style>\n",
       "<table border=\"1\" class=\"dataframe\">\n",
       "  <thead>\n",
       "    <tr style=\"text-align: right;\">\n",
       "      <th></th>\n",
       "      <th>areaUnit</th>\n",
       "      <th>areaLiving</th>\n",
       "      <th>areaBusiness</th>\n",
       "      <th>areaOther</th>\n",
       "      <th>areaSocial</th>\n",
       "      <th>areaOpenCovered</th>\n",
       "      <th>roomsQuantity</th>\n",
       "      <th>areaClosedCovered</th>\n",
       "      <th>roomsBusinessQuantity</th>\n",
       "    </tr>\n",
       "  </thead>\n",
       "  <tbody>\n",
       "    <tr>\n",
       "      <th>21</th>\n",
       "      <td>258</td>\n",
       "      <td>222</td>\n",
       "      <td>36</td>\n",
       "      <td>0</td>\n",
       "      <td>0</td>\n",
       "      <td>0</td>\n",
       "      <td>7</td>\n",
       "      <td>0</td>\n",
       "      <td>0</td>\n",
       "    </tr>\n",
       "    <tr>\n",
       "      <th>71</th>\n",
       "      <td>1043</td>\n",
       "      <td>1003</td>\n",
       "      <td>40</td>\n",
       "      <td>0</td>\n",
       "      <td>0</td>\n",
       "      <td>0</td>\n",
       "      <td>13</td>\n",
       "      <td>0</td>\n",
       "      <td>1</td>\n",
       "    </tr>\n",
       "    <tr>\n",
       "      <th>166</th>\n",
       "      <td>230</td>\n",
       "      <td>219</td>\n",
       "      <td>11</td>\n",
       "      <td>0</td>\n",
       "      <td>0</td>\n",
       "      <td>0</td>\n",
       "      <td>5</td>\n",
       "      <td>0</td>\n",
       "      <td>1</td>\n",
       "    </tr>\n",
       "    <tr>\n",
       "      <th>206</th>\n",
       "      <td>213</td>\n",
       "      <td>163</td>\n",
       "      <td>50</td>\n",
       "      <td>0</td>\n",
       "      <td>0</td>\n",
       "      <td>0</td>\n",
       "      <td>6</td>\n",
       "      <td>0</td>\n",
       "      <td>2</td>\n",
       "    </tr>\n",
       "    <tr>\n",
       "      <th>211</th>\n",
       "      <td>218</td>\n",
       "      <td>148</td>\n",
       "      <td>70</td>\n",
       "      <td>0</td>\n",
       "      <td>0</td>\n",
       "      <td>0</td>\n",
       "      <td>6</td>\n",
       "      <td>0</td>\n",
       "      <td>2</td>\n",
       "    </tr>\n",
       "    <tr>\n",
       "      <th>...</th>\n",
       "      <td>...</td>\n",
       "      <td>...</td>\n",
       "      <td>...</td>\n",
       "      <td>...</td>\n",
       "      <td>...</td>\n",
       "      <td>...</td>\n",
       "      <td>...</td>\n",
       "      <td>...</td>\n",
       "      <td>...</td>\n",
       "    </tr>\n",
       "    <tr>\n",
       "      <th>1030871</th>\n",
       "      <td>313</td>\n",
       "      <td>293</td>\n",
       "      <td>20</td>\n",
       "      <td>0</td>\n",
       "      <td>0</td>\n",
       "      <td>0</td>\n",
       "      <td>7</td>\n",
       "      <td>0</td>\n",
       "      <td>1</td>\n",
       "    </tr>\n",
       "    <tr>\n",
       "      <th>1030954</th>\n",
       "      <td>108</td>\n",
       "      <td>55</td>\n",
       "      <td>53</td>\n",
       "      <td>0</td>\n",
       "      <td>0</td>\n",
       "      <td>0</td>\n",
       "      <td>5</td>\n",
       "      <td>0</td>\n",
       "      <td>3</td>\n",
       "    </tr>\n",
       "    <tr>\n",
       "      <th>1031146</th>\n",
       "      <td>225</td>\n",
       "      <td>190</td>\n",
       "      <td>35</td>\n",
       "      <td>0</td>\n",
       "      <td>0</td>\n",
       "      <td>0</td>\n",
       "      <td>9</td>\n",
       "      <td>0</td>\n",
       "      <td>2</td>\n",
       "    </tr>\n",
       "    <tr>\n",
       "      <th>1031343</th>\n",
       "      <td>271</td>\n",
       "      <td>259</td>\n",
       "      <td>12</td>\n",
       "      <td>0</td>\n",
       "      <td>0</td>\n",
       "      <td>0</td>\n",
       "      <td>7</td>\n",
       "      <td>0</td>\n",
       "      <td>1</td>\n",
       "    </tr>\n",
       "    <tr>\n",
       "      <th>1031444</th>\n",
       "      <td>178</td>\n",
       "      <td>150</td>\n",
       "      <td>28</td>\n",
       "      <td>0</td>\n",
       "      <td>0</td>\n",
       "      <td>0</td>\n",
       "      <td>4</td>\n",
       "      <td>0</td>\n",
       "      <td>1</td>\n",
       "    </tr>\n",
       "  </tbody>\n",
       "</table>\n",
       "<p>8696 rows × 9 columns</p>\n",
       "</div>"
      ],
      "text/plain": [
       "         areaUnit  areaLiving  areaBusiness  areaOther  areaSocial  \\\n",
       "21            258         222            36          0           0   \n",
       "71           1043        1003            40          0           0   \n",
       "166           230         219            11          0           0   \n",
       "206           213         163            50          0           0   \n",
       "211           218         148            70          0           0   \n",
       "...           ...         ...           ...        ...         ...   \n",
       "1030871       313         293            20          0           0   \n",
       "1030954       108          55            53          0           0   \n",
       "1031146       225         190            35          0           0   \n",
       "1031343       271         259            12          0           0   \n",
       "1031444       178         150            28          0           0   \n",
       "\n",
       "         areaOpenCovered  roomsQuantity  areaClosedCovered  \\\n",
       "21                     0              7                  0   \n",
       "71                     0             13                  0   \n",
       "166                    0              5                  0   \n",
       "206                    0              6                  0   \n",
       "211                    0              6                  0   \n",
       "...                  ...            ...                ...   \n",
       "1030871                0              7                  0   \n",
       "1030954                0              5                  0   \n",
       "1031146                0              9                  0   \n",
       "1031343                0              7                  0   \n",
       "1031444                0              4                  0   \n",
       "\n",
       "         roomsBusinessQuantity  \n",
       "21                           0  \n",
       "71                           1  \n",
       "166                          1  \n",
       "206                          2  \n",
       "211                          2  \n",
       "...                        ...  \n",
       "1030871                      1  \n",
       "1030954                      3  \n",
       "1031146                      2  \n",
       "1031343                      1  \n",
       "1031444                      1  \n",
       "\n",
       "[8696 rows x 9 columns]"
      ]
     },
     "execution_count": 7,
     "metadata": {},
     "output_type": "execute_result"
    }
   ],
   "source": [
    "data_unitInfo[(data_unitInfo['areaLiving']>0) & (data_unitInfo['areaBusiness']>0)].iloc[:,20:29]"
   ]
  },
  {
   "cell_type": "code",
   "execution_count": 63,
   "metadata": {},
   "outputs": [
    {
     "data": {
      "text/html": [
       "<div>\n",
       "<style scoped>\n",
       "    .dataframe tbody tr th:only-of-type {\n",
       "        vertical-align: middle;\n",
       "    }\n",
       "\n",
       "    .dataframe tbody tr th {\n",
       "        vertical-align: top;\n",
       "    }\n",
       "\n",
       "    .dataframe thead th {\n",
       "        text-align: right;\n",
       "    }\n",
       "</style>\n",
       "<table border=\"1\" class=\"dataframe\">\n",
       "  <thead>\n",
       "    <tr style=\"text-align: right;\">\n",
       "      <th></th>\n",
       "      <th>areaUnit</th>\n",
       "      <th>areaLiving</th>\n",
       "      <th>areaBusiness</th>\n",
       "      <th>areaOther</th>\n",
       "      <th>areaSocial</th>\n",
       "      <th>areaOpenCovered</th>\n",
       "      <th>roomsQuantity</th>\n",
       "      <th>areaClosedCovered</th>\n",
       "      <th>roomsBusinessQuantity</th>\n",
       "    </tr>\n",
       "  </thead>\n",
       "  <tbody>\n",
       "    <tr>\n",
       "      <th>80</th>\n",
       "      <td>101</td>\n",
       "      <td>101</td>\n",
       "      <td>0</td>\n",
       "      <td>0</td>\n",
       "      <td>0</td>\n",
       "      <td>0</td>\n",
       "      <td>4</td>\n",
       "      <td>5</td>\n",
       "      <td>0</td>\n",
       "    </tr>\n",
       "    <tr>\n",
       "      <th>225</th>\n",
       "      <td>116</td>\n",
       "      <td>116</td>\n",
       "      <td>0</td>\n",
       "      <td>0</td>\n",
       "      <td>0</td>\n",
       "      <td>0</td>\n",
       "      <td>4</td>\n",
       "      <td>8</td>\n",
       "      <td>0</td>\n",
       "    </tr>\n",
       "    <tr>\n",
       "      <th>300</th>\n",
       "      <td>111</td>\n",
       "      <td>111</td>\n",
       "      <td>0</td>\n",
       "      <td>0</td>\n",
       "      <td>5</td>\n",
       "      <td>0</td>\n",
       "      <td>4</td>\n",
       "      <td>11</td>\n",
       "      <td>0</td>\n",
       "    </tr>\n",
       "    <tr>\n",
       "      <th>346</th>\n",
       "      <td>57</td>\n",
       "      <td>57</td>\n",
       "      <td>0</td>\n",
       "      <td>0</td>\n",
       "      <td>6</td>\n",
       "      <td>0</td>\n",
       "      <td>2</td>\n",
       "      <td>6</td>\n",
       "      <td>0</td>\n",
       "    </tr>\n",
       "    <tr>\n",
       "      <th>403</th>\n",
       "      <td>43</td>\n",
       "      <td>43</td>\n",
       "      <td>0</td>\n",
       "      <td>0</td>\n",
       "      <td>0</td>\n",
       "      <td>0</td>\n",
       "      <td>1</td>\n",
       "      <td>12</td>\n",
       "      <td>0</td>\n",
       "    </tr>\n",
       "    <tr>\n",
       "      <th>...</th>\n",
       "      <td>...</td>\n",
       "      <td>...</td>\n",
       "      <td>...</td>\n",
       "      <td>...</td>\n",
       "      <td>...</td>\n",
       "      <td>...</td>\n",
       "      <td>...</td>\n",
       "      <td>...</td>\n",
       "      <td>...</td>\n",
       "    </tr>\n",
       "    <tr>\n",
       "      <th>1030629</th>\n",
       "      <td>187</td>\n",
       "      <td>187</td>\n",
       "      <td>0</td>\n",
       "      <td>0</td>\n",
       "      <td>0</td>\n",
       "      <td>0</td>\n",
       "      <td>5</td>\n",
       "      <td>13</td>\n",
       "      <td>0</td>\n",
       "    </tr>\n",
       "    <tr>\n",
       "      <th>1030681</th>\n",
       "      <td>147</td>\n",
       "      <td>147</td>\n",
       "      <td>0</td>\n",
       "      <td>0</td>\n",
       "      <td>0</td>\n",
       "      <td>0</td>\n",
       "      <td>6</td>\n",
       "      <td>16</td>\n",
       "      <td>0</td>\n",
       "    </tr>\n",
       "    <tr>\n",
       "      <th>1030781</th>\n",
       "      <td>145</td>\n",
       "      <td>145</td>\n",
       "      <td>0</td>\n",
       "      <td>0</td>\n",
       "      <td>0</td>\n",
       "      <td>0</td>\n",
       "      <td>4</td>\n",
       "      <td>11</td>\n",
       "      <td>0</td>\n",
       "    </tr>\n",
       "    <tr>\n",
       "      <th>1031394</th>\n",
       "      <td>84</td>\n",
       "      <td>84</td>\n",
       "      <td>0</td>\n",
       "      <td>0</td>\n",
       "      <td>4</td>\n",
       "      <td>0</td>\n",
       "      <td>4</td>\n",
       "      <td>5</td>\n",
       "      <td>0</td>\n",
       "    </tr>\n",
       "    <tr>\n",
       "      <th>1031470</th>\n",
       "      <td>132</td>\n",
       "      <td>132</td>\n",
       "      <td>0</td>\n",
       "      <td>0</td>\n",
       "      <td>0</td>\n",
       "      <td>0</td>\n",
       "      <td>6</td>\n",
       "      <td>8</td>\n",
       "      <td>0</td>\n",
       "    </tr>\n",
       "  </tbody>\n",
       "</table>\n",
       "<p>3663 rows × 9 columns</p>\n",
       "</div>"
      ],
      "text/plain": [
       "         areaUnit  areaLiving  areaBusiness  areaOther  areaSocial  \\\n",
       "80            101         101             0          0           0   \n",
       "225           116         116             0          0           0   \n",
       "300           111         111             0          0           5   \n",
       "346            57          57             0          0           6   \n",
       "403            43          43             0          0           0   \n",
       "...           ...         ...           ...        ...         ...   \n",
       "1030629       187         187             0          0           0   \n",
       "1030681       147         147             0          0           0   \n",
       "1030781       145         145             0          0           0   \n",
       "1031394        84          84             0          0           4   \n",
       "1031470       132         132             0          0           0   \n",
       "\n",
       "         areaOpenCovered  roomsQuantity  areaClosedCovered  \\\n",
       "80                     0              4                  5   \n",
       "225                    0              4                  8   \n",
       "300                    0              4                 11   \n",
       "346                    0              2                  6   \n",
       "403                    0              1                 12   \n",
       "...                  ...            ...                ...   \n",
       "1030629                0              5                 13   \n",
       "1030681                0              6                 16   \n",
       "1030781                0              4                 11   \n",
       "1031394                0              4                  5   \n",
       "1031470                0              6                  8   \n",
       "\n",
       "         roomsBusinessQuantity  \n",
       "80                           0  \n",
       "225                          0  \n",
       "300                          0  \n",
       "346                          0  \n",
       "403                          0  \n",
       "...                        ...  \n",
       "1030629                      0  \n",
       "1030681                      0  \n",
       "1030781                      0  \n",
       "1031394                      0  \n",
       "1031470                      0  \n",
       "\n",
       "[3663 rows x 9 columns]"
      ]
     },
     "execution_count": 63,
     "metadata": {},
     "output_type": "execute_result"
    }
   ],
   "source": [
    "data_unitInfo[(data_unitInfo['areaLiving']>0) & (data_unitInfo['areaClosedCovered']>0)].iloc[:,20:29]"
   ]
  },
  {
   "cell_type": "code",
   "execution_count": 62,
   "metadata": {},
   "outputs": [
    {
     "data": {
      "text/plain": [
       "areaClosedCovered\n",
       "0     1027844\n",
       "9         568\n",
       "5         334\n",
       "6         321\n",
       "12        242\n",
       "       ...   \n",
       "61          1\n",
       "73          1\n",
       "48          1\n",
       "60          1\n",
       "91          1\n",
       "Name: count, Length: 65, dtype: int64"
      ]
     },
     "execution_count": 62,
     "metadata": {},
     "output_type": "execute_result"
    }
   ],
   "source": [
    "data_unitInfo['areaClosedCovered'].value_counts()"
   ]
  },
  {
   "cell_type": "code",
   "execution_count": null,
   "metadata": {},
   "outputs": [],
   "source": [
    "data_unitInfo[(data_unitInfo['areaClosedCovered']>0)]['RowID_MAIN_boliga_ROW_ID_unitID']"
   ]
  },
  {
   "cell_type": "code",
   "execution_count": 49,
   "metadata": {},
   "outputs": [
    {
     "data": {
      "text/plain": [
       "propertyCondemned\n",
       "Ikke kondemneret boligenhed    1031081\n",
       "Kondemneret boligenhed             426\n",
       "Name: count, dtype: int64"
      ]
     },
     "execution_count": 49,
     "metadata": {},
     "output_type": "execute_result"
    }
   ],
   "source": [
    "data_unitInfo['propertyCondemned'].value_counts()"
   ]
  },
  {
   "cell_type": "code",
   "execution_count": null,
   "metadata": {},
   "outputs": [],
   "source": [
    "data_unitInfo[data_unitInfo['roomsBusinessQuantity']>0]['RowID_MAIN_boliga_ROW_ID_unitID']"
   ]
  },
  {
   "cell_type": "code",
   "execution_count": 13,
   "metadata": {},
   "outputs": [],
   "source": [
    "thelist = []\n",
    "for row in data_unitInfo['notes']:\n",
    "    for item in row:\n",
    "        thelist.append(item)"
   ]
  },
  {
   "cell_type": "code",
   "execution_count": null,
   "metadata": {},
   "outputs": [],
   "source": [
    "thelist"
   ]
  },
  {
   "cell_type": "code",
   "execution_count": 22,
   "metadata": {},
   "outputs": [
    {
     "data": {
      "text/html": [
       "<div>\n",
       "<style scoped>\n",
       "    .dataframe tbody tr th:only-of-type {\n",
       "        vertical-align: middle;\n",
       "    }\n",
       "\n",
       "    .dataframe tbody tr th {\n",
       "        vertical-align: top;\n",
       "    }\n",
       "\n",
       "    .dataframe thead th {\n",
       "        text-align: right;\n",
       "    }\n",
       "</style>\n",
       "<table border=\"1\" class=\"dataframe\">\n",
       "  <thead>\n",
       "    <tr style=\"text-align: right;\">\n",
       "      <th></th>\n",
       "      <th>areaUnit</th>\n",
       "      <th>areaLiving</th>\n",
       "      <th>areaBusiness</th>\n",
       "      <th>areaOther</th>\n",
       "      <th>areaSocial</th>\n",
       "      <th>areaOpenCovered</th>\n",
       "      <th>roomsQuantity</th>\n",
       "      <th>areaClosedCovered</th>\n",
       "      <th>roomsBusinessQuantity</th>\n",
       "    </tr>\n",
       "  </thead>\n",
       "  <tbody>\n",
       "    <tr>\n",
       "      <th>563778</th>\n",
       "      <td>83</td>\n",
       "      <td>83</td>\n",
       "      <td>0</td>\n",
       "      <td>0</td>\n",
       "      <td>0</td>\n",
       "      <td>0</td>\n",
       "      <td>3</td>\n",
       "      <td>0</td>\n",
       "      <td>0</td>\n",
       "    </tr>\n",
       "  </tbody>\n",
       "</table>\n",
       "</div>"
      ],
      "text/plain": [
       "        areaUnit  areaLiving  areaBusiness  areaOther  areaSocial  \\\n",
       "563778        83          83             0          0           0   \n",
       "\n",
       "        areaOpenCovered  roomsQuantity  areaClosedCovered  \\\n",
       "563778                0              3                  0   \n",
       "\n",
       "        roomsBusinessQuantity  \n",
       "563778                      0  "
      ]
     },
     "execution_count": 22,
     "metadata": {},
     "output_type": "execute_result"
    }
   ],
   "source": [
    "filtered_data = data_unitInfo[data_unitInfo['notes'].apply(lambda x: 'pulterrum' in x)].iloc[:,20:29]\n",
    "filtered_data"
   ]
  },
  {
   "cell_type": "markdown",
   "metadata": {},
   "source": [
    "# -------- Change Column names for the NEW COLUMNS :"
   ]
  },
  {
   "cell_type": "code",
   "execution_count": 27,
   "metadata": {},
   "outputs": [
    {
     "data": {
      "text/plain": [
       "heatingCode\n",
       "-                    1021077\n",
       "Elektricitet            7290\n",
       "Naturgas                2163\n",
       "Flydende brændsel        442\n",
       "Fast brændsel            293\n",
       "Andet                    134\n",
       "Gasværksgas              101\n",
       "Halm                       7\n",
       "Name: count, dtype: int64"
      ]
     },
     "execution_count": 27,
     "metadata": {},
     "output_type": "execute_result"
    }
   ],
   "source": [
    "data_unitInfo['heatingCode'].value_counts()"
   ]
  },
  {
   "cell_type": "code",
   "execution_count": 5,
   "metadata": {},
   "outputs": [
    {
     "name": "stdout",
     "output_type": "stream",
     "text": [
      "<class 'pandas.core.frame.DataFrame'>\n",
      "RangeIndex: 1031507 entries, 0 to 1031506\n",
      "Data columns (total 40 columns):\n",
      " #   Column                                    Non-Null Count    Dtype \n",
      "---  ------                                    --------------    ----- \n",
      " 0   RowID_MAIN_boliga_ROW_ID_unitID           1031507 non-null  object\n",
      " 1   RowID_propertyCode_bfeCode                1031507 non-null  int64 \n",
      " 2   RowID_municipalityCode                    1031507 non-null  int64 \n",
      " 3   RowID_propertyCode_esrCode                1031507 non-null  int64 \n",
      " 4   Address_info_addressString                1031507 non-null  object\n",
      " 5   Address_info_streetString                 1031507 non-null  object\n",
      " 6   Address_info_houseNumber                  1031507 non-null  object\n",
      " 7   Address_info_floorString                  270077 non-null   object\n",
      " 8   Address_info_sideDoorNumber               215286 non-null   object\n",
      " 9   Address_info_zipString_code_and_name      1031507 non-null  object\n",
      " 10  Address_info_zipCode                      1031507 non-null  int64 \n",
      " 11  Feature_dummy_isApartment                 1031507 non-null  bool  \n",
      " 12  Feature_categorical_propertyTypeNumber    1031507 non-null  int64 \n",
      " 13  Feature_Floor_level_of_property           270077 non-null   object\n",
      " 14  Feature_category_propertyTypeName         1031507 non-null  object\n",
      " 15  Feature_dummy_property_is_on_sale         1031507 non-null  bool  \n",
      " 16  RAW_dictionary_unitInfo                   1031507 non-null  object\n",
      " 17  unitInfo_appliance_usage                  1031507 non-null  object\n",
      " 18  unitInfo_propertyUnitType                 1031507 non-null  object\n",
      " 19  unitInfo_propertyCondemned                1031507 non-null  object\n",
      " 20  unitInfo_Total_areaUnit                   1031507 non-null  int64 \n",
      " 21  unitInfo_areaLiving                       1031507 non-null  int64 \n",
      " 22  unitInfo_areaBusiness                     1031507 non-null  int64 \n",
      " 23  unitInfo_areaOther                        1031507 non-null  int64 \n",
      " 24  unitInfo_areaSocial_unitSharedCommonArea  1031507 non-null  int64 \n",
      " 25  unitInfo_areaOpenCovered                  1031507 non-null  int64 \n",
      " 26  unitInfo_roomsQuantity                    1031507 non-null  int64 \n",
      " 27  unitInfo_areaClosedCovered                1031507 non-null  int64 \n",
      " 28  unitInfo_roomsBusinessQuantity            1031507 non-null  int64 \n",
      " 29  unitInfo_toiletCode                       1031507 non-null  object\n",
      " 30  unitInfo_toiletQuantity                   1031507 non-null  int64 \n",
      " 31  unitInfo_bathroomCode                     1031507 non-null  object\n",
      " 32  unitInfo_bathroomQuantity                 1031507 non-null  int64 \n",
      " 33  unitInfo_kitchenCode                      1031507 non-null  object\n",
      " 34  unitInfo_energyCode                       1031507 non-null  object\n",
      " 35  unitInfo_heatingInstallationCode          1031507 non-null  object\n",
      " 36  unitInfo_heatingCode                      1031507 non-null  object\n",
      " 37  unitInfo_heatingSecondaryCode             1031507 non-null  object\n",
      " 38  unitInfo_usageCode                        1031507 non-null  object\n",
      " 39  notes                                     1031507 non-null  object\n",
      "dtypes: bool(2), int64(16), object(22)\n",
      "memory usage: 301.0+ MB\n"
     ]
    }
   ],
   "source": [
    "change_column_names = {\n",
    "    'appliance':'unitInfo_appliance_usage',\n",
    "    'propertyUnitType': 'unitInfo_propertyUnitType',\n",
    "    'propertyCondemned': 'unitInfo_propertyCondemned',\n",
    "    'areaUnit' :  'unitInfo_Total_areaUnit',\n",
    "    'areaLiving' :  'unitInfo_areaLiving',\n",
    "    'areaBusiness' :  'unitInfo_areaBusiness',\n",
    "    'areaOther' :  'unitInfo_areaOther',\n",
    "    'areaSocial' :  'unitInfo_areaSocial_unitSharedCommonArea',\n",
    "    'areaOpenCovered' :  'unitInfo_areaOpenCovered',#### ---- DROP !\n",
    "    'roomsQuantity' :  'unitInfo_roomsQuantity',\n",
    "    'areaClosedCovered' :  'unitInfo_areaClosedCovered',\n",
    "    'roomsBusinessQuantity' :  'unitInfo_roomsBusinessQuantity',\n",
    "    'toiletCode' : 'unitInfo_toiletCode',\n",
    "    'toiletQuantity'  : 'unitInfo_toiletQuantity',\n",
    "    'bathroomCode' : 'unitInfo_bathroomCode',\n",
    "    'bathroomQuantity'  : 'unitInfo_bathroomQuantity',\n",
    "    'kitchenCode' : 'unitInfo_kitchenCode',\n",
    "    'energyCode' : 'unitInfo_energyCode',\n",
    "    'heatingInstallationCode' : 'unitInfo_heatingInstallationCode',\n",
    "    'heatingCode' : 'unitInfo_heatingCode',\n",
    "    'heatingSecondaryCode' : 'unitInfo_heatingSecondaryCode',\n",
    "    'usageCode' : 'unitInfo_usageCode',\n",
    "    'notes' : 'notes', #### ---- DROP !\n",
    "    \n",
    "}\n",
    "\n",
    "data_unitInfo = data_unitInfo.rename(columns=change_column_names)\n",
    "data_unitInfo.info()"
   ]
  },
  {
   "cell_type": "code",
   "execution_count": 9,
   "metadata": {},
   "outputs": [
    {
     "name": "stdout",
     "output_type": "stream",
     "text": [
      "<class 'pandas.core.frame.DataFrame'>\n",
      "RangeIndex: 1031507 entries, 0 to 1031506\n",
      "Data columns (total 41 columns):\n",
      " #   Column                                    Non-Null Count    Dtype \n",
      "---  ------                                    --------------    ----- \n",
      " 0   RowID_MAIN_boliga_ROW_ID_unitID           1031507 non-null  object\n",
      " 1   RowID_propertyCode_bfeCode                1031507 non-null  int64 \n",
      " 2   RowID_municipalityCode                    1031507 non-null  int64 \n",
      " 3   RowID_propertyCode_esrCode                1031507 non-null  int64 \n",
      " 4   Address_info_addressString                1031507 non-null  object\n",
      " 5   Address_info_streetString                 1031507 non-null  object\n",
      " 6   Address_info_houseNumber                  1031507 non-null  object\n",
      " 7   Address_info_floorString                  270077 non-null   object\n",
      " 8   Address_info_sideDoorNumber               215286 non-null   object\n",
      " 9   Address_info_zipString_code_and_name      1031507 non-null  object\n",
      " 10  Address_info_zipCode                      1031507 non-null  int64 \n",
      " 11  Feature_dummy_isApartment                 1031507 non-null  bool  \n",
      " 12  Feature_categorical_propertyTypeNumber    1031507 non-null  int64 \n",
      " 13  Feature_Floor_level_of_property           270077 non-null   object\n",
      " 14  Feature_category_propertyTypeName         1031507 non-null  object\n",
      " 15  Feature_dummy_property_is_on_sale         1031507 non-null  bool  \n",
      " 16  RAW_dictionary_unitInfo                   1031507 non-null  object\n",
      " 17  unitInfo_appliance_usage                  1031507 non-null  object\n",
      " 18  unitInfo_propertyUnitType                 1031507 non-null  object\n",
      " 19  unitInfo_propertyCondemned                1031507 non-null  object\n",
      " 20  unitInfo_Total_areaUnit                   1031507 non-null  int64 \n",
      " 21  unitInfo_areaLiving                       1031507 non-null  int64 \n",
      " 22  unitInfo_areaBusiness                     1031507 non-null  int64 \n",
      " 23  unitInfo_areaOther                        1031507 non-null  int64 \n",
      " 24  unitInfo_areaSocial_unitSharedCommonArea  1031507 non-null  int64 \n",
      " 25  unitInfo_areaOpenCovered                  1031507 non-null  int64 \n",
      " 26  unitInfo_roomsQuantity                    1031507 non-null  int64 \n",
      " 27  unitInfo_areaClosedCovered                1031507 non-null  int64 \n",
      " 28  unitInfo_roomsBusinessQuantity            1031507 non-null  int64 \n",
      " 29  unitInfo_toiletCode                       1031507 non-null  object\n",
      " 30  unitInfo_toiletQuantity                   1031507 non-null  int64 \n",
      " 31  unitInfo_bathroomCode                     1031507 non-null  object\n",
      " 32  unitInfo_bathroomQuantity                 1031507 non-null  int64 \n",
      " 33  unitInfo_kitchenCode                      1031507 non-null  object\n",
      " 34  unitInfo_energyCode                       1031507 non-null  object\n",
      " 35  unitInfo_heatingInstallationCode          1031507 non-null  object\n",
      " 36  unitInfo_heatingCode                      1031507 non-null  object\n",
      " 37  unitInfo_heatingSecondaryCode             1031507 non-null  object\n",
      " 38  unitInfo_usageCode                        1031507 non-null  object\n",
      " 39  notes                                     1031507 non-null  object\n",
      " 40  unitinfo_swimmingPool_dummy_variable      1031507 non-null  int64 \n",
      "dtypes: bool(2), int64(17), object(22)\n",
      "memory usage: 308.9+ MB\n"
     ]
    }
   ],
   "source": [
    "data_unitInfo.info()"
   ]
  },
  {
   "cell_type": "markdown",
   "metadata": {},
   "source": [
    "#### ------- create variable: swimming pool Dummy"
   ]
  },
  {
   "cell_type": "code",
   "execution_count": 6,
   "metadata": {},
   "outputs": [],
   "source": [
    "data_unitInfo['unitinfo_swimmingPool_dummy_variable'] = 0"
   ]
  },
  {
   "cell_type": "code",
   "execution_count": 7,
   "metadata": {},
   "outputs": [],
   "source": [
    "def swimming_dummy(x):\n",
    "    swimming = False\n",
    "    try:\n",
    "        if isinstance(x, list):\n",
    "            for list_item in x:\n",
    "                list_string = list_item.lower()\n",
    "\n",
    "                if 'swimmingpool' in list_string or 'svømmepool' in list_string:\n",
    "                    swimming = True\n",
    "                    break\n",
    "                \n",
    "            if swimming:\n",
    "                return 1\n",
    "            else:\n",
    "                return 0\n",
    "\n",
    "        else:\n",
    "            return 0\n",
    "    except (ValueError, SyntaxError) as e:\n",
    "        print(f\"Error decoding JSON: {e}\")\n",
    "        return None\n",
    "\n",
    "# Apply the decoding function to the specified column\n",
    "data_unitInfo['unitinfo_swimmingPool_dummy_variable'] = data_unitInfo['notes'].apply(swimming_dummy)"
   ]
  },
  {
   "cell_type": "code",
   "execution_count": 8,
   "metadata": {},
   "outputs": [
    {
     "data": {
      "text/plain": [
       "unitinfo_swimmingPool_dummy_variable\n",
       "0    1031488\n",
       "1         19\n",
       "Name: count, dtype: int64"
      ]
     },
     "execution_count": 8,
     "metadata": {},
     "output_type": "execute_result"
    }
   ],
   "source": [
    "data_unitInfo['unitinfo_swimmingPool_dummy_variable'].value_counts()"
   ]
  },
  {
   "cell_type": "markdown",
   "metadata": {},
   "source": [
    "#### ------- create variable: greenhouse Dummy"
   ]
  },
  {
   "cell_type": "code",
   "execution_count": 10,
   "metadata": {},
   "outputs": [],
   "source": [
    "data_unitInfo['unitinfo_greehouse_dummy_variable'] = 0  "
   ]
  },
  {
   "cell_type": "code",
   "execution_count": 11,
   "metadata": {},
   "outputs": [],
   "source": [
    "def swimming_dummy(x):\n",
    "    swimming = False\n",
    "    try:\n",
    "        if isinstance(x, list):\n",
    "            for list_item in x:\n",
    "                list_string = list_item.lower()\n",
    "\n",
    "                if 'drivhus' in list_string:\n",
    "                    swimming = True\n",
    "                    break\n",
    "                \n",
    "            if swimming:\n",
    "                return 1\n",
    "            else:\n",
    "                return 0\n",
    "\n",
    "        else:\n",
    "            return 0\n",
    "    except (ValueError, SyntaxError) as e:\n",
    "        print(f\"Error decoding JSON: {e}\")\n",
    "        return None\n",
    "\n",
    "# Apply the decoding function to the specified column\n",
    "data_unitInfo['unitinfo_greehouse_dummy_variable'] = data_unitInfo['notes'].apply(swimming_dummy)"
   ]
  },
  {
   "cell_type": "code",
   "execution_count": 12,
   "metadata": {},
   "outputs": [
    {
     "data": {
      "text/plain": [
       "unitinfo_greehouse_dummy_variable\n",
       "0    1031447\n",
       "1         60\n",
       "Name: count, dtype: int64"
      ]
     },
     "execution_count": 12,
     "metadata": {},
     "output_type": "execute_result"
    }
   ],
   "source": [
    "data_unitInfo['unitinfo_greehouse_dummy_variable'].value_counts()"
   ]
  },
  {
   "cell_type": "code",
   "execution_count": null,
   "metadata": {},
   "outputs": [],
   "source": []
  },
  {
   "cell_type": "markdown",
   "metadata": {},
   "source": [
    "## --- drop useless features: \n",
    "\n"
   ]
  },
  {
   "cell_type": "code",
   "execution_count": null,
   "metadata": {},
   "outputs": [],
   "source": [
    "drop_columns = [\n",
    "    'unitInfo_areaOpenCovered',\n",
    "    '',\n",
    "]\n",
    "\n",
    "data_unitInfo.drop(columns=drop_columns, inplace=True)"
   ]
  },
  {
   "cell_type": "code",
   "execution_count": 17,
   "metadata": {},
   "outputs": [
    {
     "name": "stdout",
     "output_type": "stream",
     "text": [
      "<class 'pandas.core.frame.DataFrame'>\n",
      "RangeIndex: 1031507 entries, 0 to 1031506\n",
      "Data columns (total 42 columns):\n",
      " #   Column                                    Non-Null Count    Dtype \n",
      "---  ------                                    --------------    ----- \n",
      " 0   RowID_MAIN_boliga_ROW_ID_unitID           1031507 non-null  object\n",
      " 1   RowID_propertyCode_bfeCode                1031507 non-null  int64 \n",
      " 2   RowID_municipalityCode                    1031507 non-null  int64 \n",
      " 3   RowID_propertyCode_esrCode                1031507 non-null  int64 \n",
      " 4   Address_info_addressString                1031507 non-null  object\n",
      " 5   Address_info_streetString                 1031507 non-null  object\n",
      " 6   Address_info_houseNumber                  1031507 non-null  object\n",
      " 7   Address_info_floorString                  270077 non-null   object\n",
      " 8   Address_info_sideDoorNumber               215286 non-null   object\n",
      " 9   Address_info_zipString_code_and_name      1031507 non-null  object\n",
      " 10  Address_info_zipCode                      1031507 non-null  int64 \n",
      " 11  Feature_dummy_isApartment                 1031507 non-null  bool  \n",
      " 12  Feature_categorical_propertyTypeNumber    1031507 non-null  int64 \n",
      " 13  Feature_Floor_level_of_property           270077 non-null   object\n",
      " 14  Feature_category_propertyTypeName         1031507 non-null  object\n",
      " 15  Feature_dummy_property_is_on_sale         1031507 non-null  bool  \n",
      " 16  RAW_dictionary_unitInfo                   1031507 non-null  object\n",
      " 17  unitInfo_appliance_usage                  1031507 non-null  object\n",
      " 18  unitInfo_propertyUnitType                 1031507 non-null  object\n",
      " 19  unitInfo_propertyCondemned                1031507 non-null  object\n",
      " 20  unitInfo_Total_areaUnit                   1031507 non-null  int64 \n",
      " 21  unitInfo_areaLiving                       1031507 non-null  int64 \n",
      " 22  unitInfo_areaBusiness                     1031507 non-null  int64 \n",
      " 23  unitInfo_areaOther                        1031507 non-null  int64 \n",
      " 24  unitInfo_areaSocial_unitSharedCommonArea  1031507 non-null  int64 \n",
      " 25  unitInfo_areaOpenCovered                  1031507 non-null  int64 \n",
      " 26  unitInfo_roomsQuantity                    1031507 non-null  int64 \n",
      " 27  unitInfo_areaClosedCovered                1031507 non-null  int64 \n",
      " 28  unitInfo_roomsBusinessQuantity            1031507 non-null  int64 \n",
      " 29  unitInfo_toiletCode                       1031507 non-null  object\n",
      " 30  unitInfo_toiletQuantity                   1031507 non-null  int64 \n",
      " 31  unitInfo_bathroomCode                     1031507 non-null  object\n",
      " 32  unitInfo_bathroomQuantity                 1031507 non-null  int64 \n",
      " 33  unitInfo_kitchenCode                      1031507 non-null  object\n",
      " 34  unitInfo_energyCode                       1031507 non-null  object\n",
      " 35  unitInfo_heatingInstallationCode          1031507 non-null  object\n",
      " 36  unitInfo_heatingCode                      1031507 non-null  object\n",
      " 37  unitInfo_heatingSecondaryCode             1031507 non-null  object\n",
      " 38  unitInfo_usageCode                        1031507 non-null  object\n",
      " 39  notes                                     1031507 non-null  object\n",
      " 40  swimmingPool_dummy_variable               1031507 non-null  int64 \n",
      " 41  greehouse_dummy_variable                  1031507 non-null  int64 \n",
      "dtypes: bool(2), int64(18), object(22)\n",
      "memory usage: 316.8+ MB\n"
     ]
    }
   ],
   "source": [
    "data_unitInfo.info()"
   ]
  },
  {
   "cell_type": "markdown",
   "metadata": {},
   "source": [
    "## ------ Save the result "
   ]
  },
  {
   "cell_type": "code",
   "execution_count": 13,
   "metadata": {},
   "outputs": [],
   "source": [
    "sub_columns = [\n",
    "    'RowID_MAIN_boliga_ROW_ID_unitID',\n",
    "    'unitInfo_appliance_usage',\n",
    "    'unitInfo_propertyUnitType',\n",
    "    'unitInfo_propertyCondemned',\n",
    "    'unitInfo_Total_areaUnit', \n",
    "    'unitInfo_areaLiving', \n",
    "    'unitInfo_areaBusiness', \n",
    "    'unitInfo_areaOther', \n",
    "    'unitInfo_areaSocial_unitSharedCommonArea', \n",
    "    'unitInfo_roomsQuantity', \n",
    "    'unitInfo_areaClosedCovered', \n",
    "    'unitInfo_roomsBusinessQuantity', \n",
    "    'unitInfo_toiletCode',\n",
    "    'unitInfo_toiletQuantity', \n",
    "    'unitInfo_bathroomCode',\n",
    "    'unitInfo_bathroomQuantity', \n",
    "    'unitInfo_kitchenCode',\n",
    "    'unitInfo_energyCode',\n",
    "    'unitInfo_heatingInstallationCode',\n",
    "    'unitInfo_heatingCode',\n",
    "    'unitInfo_heatingSecondaryCode',\n",
    "    'unitInfo_usageCode',\n",
    "    'unitinfo_swimmingPool_dummy_variable',\n",
    "    'unitinfo_greehouse_dummy_variable'\n",
    "\n",
    "]\n",
    "\n",
    "path=r'D:\\Thesis\\Properties\\Denmark\\RE_due_scraping_properties\\Boliga_dk\\Creating_main_dataset_for_sales_data\\Data_split\\4_unitInfo\\Ready\\Boliga_propertySales_unitInfo_READY.csv'\n",
    "\n",
    "data_unitInfo[sub_columns].to_csv(path, encoding='utf-8', index=False)"
   ]
  }
 ],
 "metadata": {
  "kernelspec": {
   "display_name": "base",
   "language": "python",
   "name": "python3"
  },
  "language_info": {
   "codemirror_mode": {
    "name": "ipython",
    "version": 3
   },
   "file_extension": ".py",
   "mimetype": "text/x-python",
   "name": "python",
   "nbconvert_exporter": "python",
   "pygments_lexer": "ipython3",
   "version": "3.11.4"
  }
 },
 "nbformat": 4,
 "nbformat_minor": 2
}
