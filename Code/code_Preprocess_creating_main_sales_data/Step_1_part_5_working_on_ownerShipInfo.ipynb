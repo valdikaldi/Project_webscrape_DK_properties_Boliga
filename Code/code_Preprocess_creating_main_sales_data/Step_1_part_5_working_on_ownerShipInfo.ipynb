{
 "cells": [
  {
   "cell_type": "code",
   "execution_count": 1,
   "metadata": {},
   "outputs": [],
   "source": [
    "import pandas as pd \n",
    "import ast\n",
    "import json\n",
    "from pandas import json_normalize\n"
   ]
  },
  {
   "cell_type": "markdown",
   "metadata": {},
   "source": [
    ".\n",
    "## ==================================================\n",
    "# Boliga_propertySales_ownerShipInfo.csv\n",
    "## ==================================================\n",
    "."
   ]
  },
  {
   "cell_type": "markdown",
   "metadata": {},
   "source": [
    "## ----- read in the file : "
   ]
  },
  {
   "cell_type": "code",
   "execution_count": 2,
   "metadata": {},
   "outputs": [
    {
     "name": "stdout",
     "output_type": "stream",
     "text": [
      "<class 'pandas.core.frame.DataFrame'>\n",
      "RangeIndex: 1031507 entries, 0 to 1031506\n",
      "Data columns (total 17 columns):\n",
      " #   Column                                  Non-Null Count    Dtype \n",
      "---  ------                                  --------------    ----- \n",
      " 0   RowID_MAIN_boliga_ROW_ID_unitID         1031507 non-null  object\n",
      " 1   RowID_propertyCode_bfeCode              1031507 non-null  int64 \n",
      " 2   RowID_municipalityCode                  1031507 non-null  int64 \n",
      " 3   RowID_propertyCode_esrCode              1031507 non-null  int64 \n",
      " 4   Address_info_addressString              1031507 non-null  object\n",
      " 5   Address_info_streetString               1031507 non-null  object\n",
      " 6   Address_info_houseNumber                1031507 non-null  object\n",
      " 7   Address_info_floorString                270077 non-null   object\n",
      " 8   Address_info_sideDoorNumber             215286 non-null   object\n",
      " 9   Address_info_zipString_code_and_name    1031507 non-null  object\n",
      " 10  Address_info_zipCode                    1031507 non-null  int64 \n",
      " 11  Feature_dummy_isApartment               1031507 non-null  bool  \n",
      " 12  Feature_categorical_propertyTypeNumber  1031507 non-null  int64 \n",
      " 13  Feature_Floor_level_of_property         270077 non-null   object\n",
      " 14  Feature_category_propertyTypeName       1031507 non-null  object\n",
      " 15  Feature_dummy_property_is_on_sale       1031507 non-null  bool  \n",
      " 16  RAW_dictionary_ownerShipInfo            1031507 non-null  object\n",
      "dtypes: bool(2), int64(5), object(10)\n",
      "memory usage: 120.0+ MB\n"
     ]
    }
   ],
   "source": [
    "path = r'D:\\Thesis\\Properties\\Denmark\\RE_due_scraping_properties\\Boliga_dk\\Creating_main_dataset_for_sales_data\\Data_split\\5_ownerShipInfo\\Boliga_propertySales_ownerShipInfo.csv'\n",
    "data_ownershipInfo = pd.read_csv(path, encoding='utf-8',low_memory=False)\n",
    "data_ownershipInfo.info()"
   ]
  },
  {
   "cell_type": "code",
   "execution_count": 4,
   "metadata": {},
   "outputs": [
    {
     "data": {
      "text/plain": [
       "0          {'recordedArea': 0, 'esrPropertyNumber': 98149...\n",
       "1          {'recordedArea': 0, 'esrPropertyNumber': 13499...\n",
       "2          {'recordedArea': 0, 'esrPropertyNumber': 4216,...\n",
       "3          {'recordedArea': 64, 'esrPropertyNumber': 4961...\n",
       "4          {'recordedArea': 0, 'esrPropertyNumber': 15312...\n",
       "                                 ...                        \n",
       "1031502    {'recordedArea': 0, 'esrPropertyNumber': 13570...\n",
       "1031503    {'recordedArea': 0, 'esrPropertyNumber': 14128...\n",
       "1031504    {'recordedArea': 0, 'esrPropertyNumber': 4809,...\n",
       "1031505    {'recordedArea': 0, 'esrPropertyNumber': 12860...\n",
       "1031506    {'recordedArea': 0, 'esrPropertyNumber': 45145...\n",
       "Name: RAW_dictionary_ownerShipInfo, Length: 1031507, dtype: object"
      ]
     },
     "execution_count": 4,
     "metadata": {},
     "output_type": "execute_result"
    }
   ],
   "source": [
    "data_ownershipInfo['RAW_dictionary_ownerShipInfo']"
   ]
  },
  {
   "cell_type": "markdown",
   "metadata": {},
   "source": [
    "### --------- Convert \"RAW_dictionary_bbrInfoBox\" column to dictionary object                "
   ]
  },
  {
   "cell_type": "code",
   "execution_count": 4,
   "metadata": {},
   "outputs": [],
   "source": [
    "def decode_json(x):\n",
    "    try:\n",
    "        if isinstance(x, str) and x.strip() != \"\" and not pd.isna(x):\n",
    "            return ast.literal_eval(x)\n",
    "            # Alternatively, you can use json.loads as follows:\n",
    "            # return json.loads(x.replace(\"'\", '\"'))\n",
    "        else:\n",
    "            return x\n",
    "    except (ValueError, SyntaxError) as e:\n",
    "        print(f\"Error decoding JSON: {e}\")\n",
    "        return None\n",
    "\n",
    "# Apply the decoding function to the specified column\n",
    "data_ownershipInfo['RAW_dictionary_ownerShipInfo'] = data_ownershipInfo['RAW_dictionary_ownerShipInfo'].apply(decode_json)\n"
   ]
  },
  {
   "cell_type": "markdown",
   "metadata": {},
   "source": [
    "## --- Count number of items in the dictionary - to make sure they are all balance "
   ]
  },
  {
   "cell_type": "code",
   "execution_count": 8,
   "metadata": {},
   "outputs": [
    {
     "data": {
      "text/plain": [
       "{8}"
      ]
     },
     "execution_count": 8,
     "metadata": {},
     "output_type": "execute_result"
    }
   ],
   "source": [
    "def count_objects(x):\n",
    "    if isinstance(x,dict) and x!='':\n",
    "        return countlist.append(len(x))\n",
    "\n",
    "countlist = []\n",
    "\n",
    "# Apply the decoding function to the specified column\n",
    "data_ownershipInfo['RAW_dictionary_ownerShipInfo'].apply(count_objects)\n",
    "\n",
    "set(countlist)"
   ]
  },
  {
   "cell_type": "markdown",
   "metadata": {},
   "source": [
    "# ------ NORMALIZE THE COLUMN "
   ]
  },
  {
   "cell_type": "code",
   "execution_count": 5,
   "metadata": {},
   "outputs": [
    {
     "name": "stdout",
     "output_type": "stream",
     "text": [
      "<class 'pandas.core.frame.DataFrame'>\n",
      "RangeIndex: 1031507 entries, 0 to 1031506\n",
      "Data columns (total 25 columns):\n",
      " #   Column                                  Non-Null Count    Dtype \n",
      "---  ------                                  --------------    ----- \n",
      " 0   RowID_MAIN_boliga_ROW_ID_unitID         1031507 non-null  object\n",
      " 1   RowID_propertyCode_bfeCode              1031507 non-null  int64 \n",
      " 2   RowID_municipalityCode                  1031507 non-null  int64 \n",
      " 3   RowID_propertyCode_esrCode              1031507 non-null  int64 \n",
      " 4   Address_info_addressString              1031507 non-null  object\n",
      " 5   Address_info_streetString               1031507 non-null  object\n",
      " 6   Address_info_houseNumber                1031507 non-null  object\n",
      " 7   Address_info_floorString                270077 non-null   object\n",
      " 8   Address_info_sideDoorNumber             215286 non-null   object\n",
      " 9   Address_info_zipString_code_and_name    1031507 non-null  object\n",
      " 10  Address_info_zipCode                    1031507 non-null  int64 \n",
      " 11  Feature_dummy_isApartment               1031507 non-null  bool  \n",
      " 12  Feature_categorical_propertyTypeNumber  1031507 non-null  int64 \n",
      " 13  Feature_Floor_level_of_property         270077 non-null   object\n",
      " 14  Feature_category_propertyTypeName       1031507 non-null  object\n",
      " 15  Feature_dummy_property_is_on_sale       1031507 non-null  bool  \n",
      " 16  RAW_dictionary_ownerShipInfo            1031507 non-null  object\n",
      " 17  recordedArea                            1031507 non-null  int64 \n",
      " 18  esrPropertyNumber                       1031507 non-null  int64 \n",
      " 19  municipalityCode                        1031507 non-null  int64 \n",
      " 20  appertmentNumber                        1031507 non-null  object\n",
      " 21  multipleAppartmentNumber                1031507 non-null  object\n",
      " 22  esrArticleCode                          1031507 non-null  object\n",
      " 23  ownerShipCode                           1031507 non-null  object\n",
      " 24  notes                                   1031507 non-null  object\n",
      "dtypes: bool(2), int64(8), object(15)\n",
      "memory usage: 183.0+ MB\n"
     ]
    }
   ],
   "source": [
    "# normalize the column \n",
    "normalized_data = json_normalize(data_ownershipInfo['RAW_dictionary_ownerShipInfo'])\n",
    "\n",
    "# concatenate the normalized data and the original dataset\n",
    "data_ownershipInfo = pd.concat([data_ownershipInfo, normalized_data], axis=1)\n",
    "\n",
    "data_ownershipInfo.info()"
   ]
  },
  {
   "cell_type": "code",
   "execution_count": null,
   "metadata": {},
   "outputs": [],
   "source": [
    "data_unitInfo.info()"
   ]
  },
  {
   "cell_type": "markdown",
   "metadata": {},
   "source": [
    "## ------------- CHECK VARIABLEs draft place  \n"
   ]
  },
  {
   "cell_type": "code",
   "execution_count": 17,
   "metadata": {},
   "outputs": [
    {
     "data": {
      "text/plain": [
       "ownerShipCode\n",
       "Privatpersoner eller interessentskab                                                                                                     862969\n",
       "Aktie-, anpart- eller andet selskab (undtagen interessent­skab)                                                                          164381\n",
       "Forening, legat eller selvejende institution                                                                                               1370\n",
       "Den kommune, hvori ejendommen er beliggende                                                                                                 965\n",
       "0                                                                                                                                           849\n",
       "Andet, herunder moderejendomme for bebyggelser, der er opdelt i ejerlejligheder samt ejendomme, der ejes af flere kategorier af ejere       316\n",
       "99                                                                                                                                          285\n",
       "Staten                                                                                                                                      250\n",
       "Alment boligselskab                                                                                                                         105\n",
       "Region                                                                                                                                       17\n",
       "Name: count, dtype: int64"
      ]
     },
     "execution_count": 17,
     "metadata": {},
     "output_type": "execute_result"
    }
   ],
   "source": [
    "data_ownershipInfo['ownerShipCode'].value_counts()"
   ]
  },
  {
   "cell_type": "code",
   "execution_count": 19,
   "metadata": {},
   "outputs": [],
   "source": [
    "thelist = []\n",
    "for row in data_ownershipInfo['notes']:\n",
    "    for item in row:\n",
    "        thelist.append(item)"
   ]
  },
  {
   "cell_type": "code",
   "execution_count": 44,
   "metadata": {},
   "outputs": [
    {
     "data": {
      "text/plain": [
       "403"
      ]
     },
     "execution_count": 44,
     "metadata": {},
     "output_type": "execute_result"
    }
   ],
   "source": [
    "swimmingpool_count=0\n",
    "for string_item in thelist:\n",
    "    string = string_item.lower()\n",
    "    if 'swimmingpool' in string or 'svømmepool' in string:\n",
    "        swimmingpool_count+=1\n",
    "swimmingpool_count"
   ]
  },
  {
   "cell_type": "code",
   "execution_count": 49,
   "metadata": {},
   "outputs": [
    {
     "data": {
      "text/plain": [
       "0"
      ]
     },
     "execution_count": 49,
     "metadata": {},
     "output_type": "execute_result"
    }
   ],
   "source": [
    "swimmingpool_count=0\n",
    "for string_item in thelist:\n",
    "    string = string_item.lower()\n",
    "    if 'hot tub' in string:\n",
    "        swimmingpool_count+=1\n",
    "swimmingpool_count"
   ]
  },
  {
   "cell_type": "code",
   "execution_count": null,
   "metadata": {},
   "outputs": [],
   "source": [
    "filtered_data = data_unitInfo[data_unitInfo['notes'].apply(lambda x: 'pulterrum' in x)].iloc[:,17:29]\n",
    "filtered_data"
   ]
  },
  {
   "cell_type": "code",
   "execution_count": 57,
   "metadata": {},
   "outputs": [
    {
     "data": {
      "text/html": [
       "<div>\n",
       "<style scoped>\n",
       "    .dataframe tbody tr th:only-of-type {\n",
       "        vertical-align: middle;\n",
       "    }\n",
       "\n",
       "    .dataframe tbody tr th {\n",
       "        vertical-align: top;\n",
       "    }\n",
       "\n",
       "    .dataframe thead th {\n",
       "        text-align: right;\n",
       "    }\n",
       "</style>\n",
       "<table border=\"1\" class=\"dataframe\">\n",
       "  <thead>\n",
       "    <tr style=\"text-align: right;\">\n",
       "      <th></th>\n",
       "      <th>recordedArea</th>\n",
       "      <th>esrPropertyNumber</th>\n",
       "      <th>municipalityCode</th>\n",
       "      <th>appertmentNumber</th>\n",
       "      <th>multipleAppartmentNumber</th>\n",
       "      <th>esrArticleCode</th>\n",
       "      <th>ownerShipCode</th>\n",
       "      <th>notes</th>\n",
       "      <th>swimmingPool_dummy_variable</th>\n",
       "    </tr>\n",
       "  </thead>\n",
       "  <tbody>\n",
       "    <tr>\n",
       "      <th>0</th>\n",
       "      <td>0</td>\n",
       "      <td>981498</td>\n",
       "      <td>751</td>\n",
       "      <td></td>\n",
       "      <td>-</td>\n",
       "      <td>0</td>\n",
       "      <td>Privatpersoner eller interessentskab</td>\n",
       "      <td>[]</td>\n",
       "      <td>0</td>\n",
       "    </tr>\n",
       "    <tr>\n",
       "      <th>1</th>\n",
       "      <td>0</td>\n",
       "      <td>134998</td>\n",
       "      <td>265</td>\n",
       "      <td></td>\n",
       "      <td>-</td>\n",
       "      <td>0</td>\n",
       "      <td>Privatpersoner eller interessentskab</td>\n",
       "      <td>[]</td>\n",
       "      <td>0</td>\n",
       "    </tr>\n",
       "    <tr>\n",
       "      <th>2</th>\n",
       "      <td>0</td>\n",
       "      <td>4216</td>\n",
       "      <td>376</td>\n",
       "      <td></td>\n",
       "      <td>-</td>\n",
       "      <td>0</td>\n",
       "      <td>Privatpersoner eller interessentskab</td>\n",
       "      <td>[]</td>\n",
       "      <td>0</td>\n",
       "    </tr>\n",
       "    <tr>\n",
       "      <th>3</th>\n",
       "      <td>64</td>\n",
       "      <td>496120</td>\n",
       "      <td>101</td>\n",
       "      <td>83</td>\n",
       "      <td>-</td>\n",
       "      <td>2</td>\n",
       "      <td>Privatpersoner eller interessentskab</td>\n",
       "      <td>[]</td>\n",
       "      <td>0</td>\n",
       "    </tr>\n",
       "    <tr>\n",
       "      <th>4</th>\n",
       "      <td>0</td>\n",
       "      <td>153129</td>\n",
       "      <td>219</td>\n",
       "      <td></td>\n",
       "      <td>-</td>\n",
       "      <td>0</td>\n",
       "      <td>Privatpersoner eller interessentskab</td>\n",
       "      <td>[SKÆVINGE VANDVÆRK]</td>\n",
       "      <td>0</td>\n",
       "    </tr>\n",
       "    <tr>\n",
       "      <th>...</th>\n",
       "      <td>...</td>\n",
       "      <td>...</td>\n",
       "      <td>...</td>\n",
       "      <td>...</td>\n",
       "      <td>...</td>\n",
       "      <td>...</td>\n",
       "      <td>...</td>\n",
       "      <td>...</td>\n",
       "      <td>...</td>\n",
       "    </tr>\n",
       "    <tr>\n",
       "      <th>1031502</th>\n",
       "      <td>0</td>\n",
       "      <td>13570</td>\n",
       "      <td>580</td>\n",
       "      <td></td>\n",
       "      <td>-</td>\n",
       "      <td>0</td>\n",
       "      <td>Privatpersoner eller interessentskab</td>\n",
       "      <td>[]</td>\n",
       "      <td>0</td>\n",
       "    </tr>\n",
       "    <tr>\n",
       "      <th>1031503</th>\n",
       "      <td>0</td>\n",
       "      <td>141287</td>\n",
       "      <td>779</td>\n",
       "      <td></td>\n",
       "      <td>-</td>\n",
       "      <td>0</td>\n",
       "      <td>Privatpersoner eller interessentskab</td>\n",
       "      <td>[]</td>\n",
       "      <td>0</td>\n",
       "    </tr>\n",
       "    <tr>\n",
       "      <th>1031504</th>\n",
       "      <td>0</td>\n",
       "      <td>4809</td>\n",
       "      <td>810</td>\n",
       "      <td></td>\n",
       "      <td>-</td>\n",
       "      <td>0</td>\n",
       "      <td>Privatpersoner eller interessentskab</td>\n",
       "      <td>[]</td>\n",
       "      <td>0</td>\n",
       "    </tr>\n",
       "    <tr>\n",
       "      <th>1031505</th>\n",
       "      <td>0</td>\n",
       "      <td>128600</td>\n",
       "      <td>615</td>\n",
       "      <td></td>\n",
       "      <td>-</td>\n",
       "      <td>0</td>\n",
       "      <td>Aktie-, anpart- eller andet selskab (undtagen ...</td>\n",
       "      <td>[]</td>\n",
       "      <td>0</td>\n",
       "    </tr>\n",
       "    <tr>\n",
       "      <th>1031506</th>\n",
       "      <td>0</td>\n",
       "      <td>451454</td>\n",
       "      <td>461</td>\n",
       "      <td></td>\n",
       "      <td>-</td>\n",
       "      <td>0</td>\n",
       "      <td>Privatpersoner eller interessentskab</td>\n",
       "      <td>[]</td>\n",
       "      <td>0</td>\n",
       "    </tr>\n",
       "  </tbody>\n",
       "</table>\n",
       "<p>1031507 rows × 9 columns</p>\n",
       "</div>"
      ],
      "text/plain": [
       "         recordedArea  esrPropertyNumber  municipalityCode appertmentNumber  \\\n",
       "0                   0             981498               751                    \n",
       "1                   0             134998               265                    \n",
       "2                   0               4216               376                    \n",
       "3                  64             496120               101               83   \n",
       "4                   0             153129               219                    \n",
       "...               ...                ...               ...              ...   \n",
       "1031502             0              13570               580                    \n",
       "1031503             0             141287               779                    \n",
       "1031504             0               4809               810                    \n",
       "1031505             0             128600               615                    \n",
       "1031506             0             451454               461                    \n",
       "\n",
       "        multipleAppartmentNumber esrArticleCode  \\\n",
       "0                              -              0   \n",
       "1                              -              0   \n",
       "2                              -              0   \n",
       "3                              -              2   \n",
       "4                              -              0   \n",
       "...                          ...            ...   \n",
       "1031502                        -              0   \n",
       "1031503                        -              0   \n",
       "1031504                        -              0   \n",
       "1031505                        -              0   \n",
       "1031506                        -              0   \n",
       "\n",
       "                                             ownerShipCode  \\\n",
       "0                     Privatpersoner eller interessentskab   \n",
       "1                     Privatpersoner eller interessentskab   \n",
       "2                     Privatpersoner eller interessentskab   \n",
       "3                     Privatpersoner eller interessentskab   \n",
       "4                     Privatpersoner eller interessentskab   \n",
       "...                                                    ...   \n",
       "1031502               Privatpersoner eller interessentskab   \n",
       "1031503               Privatpersoner eller interessentskab   \n",
       "1031504               Privatpersoner eller interessentskab   \n",
       "1031505  Aktie-, anpart- eller andet selskab (undtagen ...   \n",
       "1031506               Privatpersoner eller interessentskab   \n",
       "\n",
       "                       notes  swimmingPool_dummy_variable  \n",
       "0                         []                            0  \n",
       "1                         []                            0  \n",
       "2                         []                            0  \n",
       "3                         []                            0  \n",
       "4        [SKÆVINGE VANDVÆRK]                            0  \n",
       "...                      ...                          ...  \n",
       "1031502                   []                            0  \n",
       "1031503                   []                            0  \n",
       "1031504                   []                            0  \n",
       "1031505                   []                            0  \n",
       "1031506                   []                            0  \n",
       "\n",
       "[1031507 rows x 9 columns]"
      ]
     },
     "execution_count": 57,
     "metadata": {},
     "output_type": "execute_result"
    }
   ],
   "source": [
    "data_ownershipInfo.iloc[:,17:29]"
   ]
  },
  {
   "cell_type": "markdown",
   "metadata": {},
   "source": [
    "# ---- Create swimming pool dummy variable based on values in Notes column"
   ]
  },
  {
   "cell_type": "code",
   "execution_count": 6,
   "metadata": {},
   "outputs": [],
   "source": [
    "data_ownershipInfo['ownerShipInfo_swimmingPool_dummy'] = 0"
   ]
  },
  {
   "cell_type": "code",
   "execution_count": 8,
   "metadata": {},
   "outputs": [],
   "source": [
    "swimming_keyWord = ['swimmingpool','svømmepool','svømmebassin']\n",
    "def swimming_dummy(x):\n",
    "    swimming = False\n",
    "    try:\n",
    "        if isinstance(x, list):\n",
    "            for list_item in x:\n",
    "                list_string = list_item.lower()\n",
    "\n",
    "                if any(keyword in list_string for keyword in swimming_keyWord):\n",
    "                    swimming = True\n",
    "                    break\n",
    "                \n",
    "            if swimming:\n",
    "                return 1\n",
    "            else:\n",
    "                return 0\n",
    "\n",
    "        else:\n",
    "            return 0\n",
    "    except (ValueError, SyntaxError) as e:\n",
    "        print(f\"Error decoding JSON: {e}\")\n",
    "        return None\n",
    "\n",
    "# Apply the decoding function to the specified column\n",
    "data_ownershipInfo['ownerShipInfo_swimmingPool_dummy'] = data_ownershipInfo['notes'].apply(swimming_dummy)"
   ]
  },
  {
   "cell_type": "code",
   "execution_count": 9,
   "metadata": {},
   "outputs": [
    {
     "data": {
      "text/plain": [
       "ownerShipInfo_swimmingPool_dummy\n",
       "0    1030855\n",
       "1        652\n",
       "Name: count, dtype: int64"
      ]
     },
     "execution_count": 9,
     "metadata": {},
     "output_type": "execute_result"
    }
   ],
   "source": [
    "data_ownershipInfo['ownerShipInfo_swimmingPool_dummy'].value_counts()"
   ]
  },
  {
   "cell_type": "markdown",
   "metadata": {},
   "source": [
    "#### ------- create variable: greenhouse Dummy"
   ]
  },
  {
   "cell_type": "code",
   "execution_count": 10,
   "metadata": {},
   "outputs": [],
   "source": [
    "data_ownershipInfo['ownershipInfo_greehouse_dummy_variable'] = 0  "
   ]
  },
  {
   "cell_type": "code",
   "execution_count": 11,
   "metadata": {},
   "outputs": [],
   "source": [
    "def greenhouse_dummy(x):\n",
    "    swimming = False\n",
    "    try:\n",
    "        if isinstance(x, list):\n",
    "            for list_item in x:\n",
    "                list_string = list_item.lower()\n",
    "\n",
    "                if 'drivhus' in list_string:\n",
    "                    swimming = True\n",
    "                    break\n",
    "                \n",
    "            if swimming:\n",
    "                return 1\n",
    "            else:\n",
    "                return 0\n",
    "\n",
    "        else:\n",
    "            return 0\n",
    "    except (ValueError, SyntaxError) as e:\n",
    "        print(f\"Error decoding JSON: {e}\")\n",
    "        return None\n",
    "\n",
    "# Apply the decoding function to the specified column\n",
    "data_ownershipInfo['ownershipInfo_greehouse_dummy_variable'] = data_ownershipInfo['notes'].apply(greenhouse_dummy)"
   ]
  },
  {
   "cell_type": "code",
   "execution_count": 12,
   "metadata": {},
   "outputs": [
    {
     "data": {
      "text/plain": [
       "ownershipInfo_greehouse_dummy_variable\n",
       "0    1029217\n",
       "1       2290\n",
       "Name: count, dtype: int64"
      ]
     },
     "execution_count": 12,
     "metadata": {},
     "output_type": "execute_result"
    }
   ],
   "source": [
    "data_ownershipInfo['ownershipInfo_greehouse_dummy_variable'].value_counts()"
   ]
  },
  {
   "cell_type": "markdown",
   "metadata": {},
   "source": [
    "# -------- Change Column names for the NEW COLUMNS :"
   ]
  },
  {
   "cell_type": "code",
   "execution_count": null,
   "metadata": {},
   "outputs": [],
   "source": [
    "data_unitInfo['heatingCode'].value_counts()"
   ]
  },
  {
   "cell_type": "code",
   "execution_count": 13,
   "metadata": {},
   "outputs": [
    {
     "name": "stdout",
     "output_type": "stream",
     "text": [
      "<class 'pandas.core.frame.DataFrame'>\n",
      "RangeIndex: 1031507 entries, 0 to 1031506\n",
      "Data columns (total 27 columns):\n",
      " #   Column                                  Non-Null Count    Dtype \n",
      "---  ------                                  --------------    ----- \n",
      " 0   RowID_MAIN_boliga_ROW_ID_unitID         1031507 non-null  object\n",
      " 1   RowID_propertyCode_bfeCode              1031507 non-null  int64 \n",
      " 2   RowID_municipalityCode                  1031507 non-null  int64 \n",
      " 3   RowID_propertyCode_esrCode              1031507 non-null  int64 \n",
      " 4   Address_info_addressString              1031507 non-null  object\n",
      " 5   Address_info_streetString               1031507 non-null  object\n",
      " 6   Address_info_houseNumber                1031507 non-null  object\n",
      " 7   Address_info_floorString                270077 non-null   object\n",
      " 8   Address_info_sideDoorNumber             215286 non-null   object\n",
      " 9   Address_info_zipString_code_and_name    1031507 non-null  object\n",
      " 10  Address_info_zipCode                    1031507 non-null  int64 \n",
      " 11  Feature_dummy_isApartment               1031507 non-null  bool  \n",
      " 12  Feature_categorical_propertyTypeNumber  1031507 non-null  int64 \n",
      " 13  Feature_Floor_level_of_property         270077 non-null   object\n",
      " 14  Feature_category_propertyTypeName       1031507 non-null  object\n",
      " 15  Feature_dummy_property_is_on_sale       1031507 non-null  bool  \n",
      " 16  RAW_dictionary_ownerShipInfo            1031507 non-null  object\n",
      " 17  recordedArea                            1031507 non-null  int64 \n",
      " 18  esrPropertyNumber                       1031507 non-null  int64 \n",
      " 19  municipalityCode                        1031507 non-null  int64 \n",
      " 20  appertmentNumber                        1031507 non-null  object\n",
      " 21  multipleAppartmentNumber                1031507 non-null  object\n",
      " 22  esrArticleCode                          1031507 non-null  object\n",
      " 23  ownerShipInfo_ownerShipCode             1031507 non-null  object\n",
      " 24  notes                                   1031507 non-null  object\n",
      " 25  ownerShipInfo_swimmingPool_dummy        1031507 non-null  int64 \n",
      " 26  ownershipInfo_greehouse_dummy_variable  1031507 non-null  int64 \n",
      "dtypes: bool(2), int64(10), object(15)\n",
      "memory usage: 198.7+ MB\n"
     ]
    }
   ],
   "source": [
    "change_column_names = {\n",
    "    'ownerShipCode' : 'ownerShipInfo_ownerShipCode',\n",
    "    # 'swimmingPool_dummy_variable' : 'ownerShipInfo_swimmingPool_dummy_variable'\n",
    "}\n",
    "\n",
    "data_ownershipInfo = data_ownershipInfo.rename(columns=change_column_names)\n",
    "data_ownershipInfo.info()"
   ]
  },
  {
   "cell_type": "markdown",
   "metadata": {},
   "source": [
    "## ------ Save the result "
   ]
  },
  {
   "cell_type": "code",
   "execution_count": 14,
   "metadata": {},
   "outputs": [],
   "source": [
    "sub_columns = [\n",
    "    'RowID_MAIN_boliga_ROW_ID_unitID',\n",
    "    'ownerShipInfo_ownerShipCode',\n",
    "    'ownerShipInfo_swimmingPool_dummy',\n",
    "    'ownershipInfo_greehouse_dummy_variable'\n",
    "]\n",
    "\n",
    "path=r'D:\\Thesis\\Properties\\Denmark\\RE_due_scraping_properties\\Boliga_dk\\Creating_main_dataset_for_sales_data\\Data_split\\5_ownerShipInfo\\Ready\\Boliga_propertySales_ownerShipInfo_READY.csv'\n",
    "\n",
    "data_ownershipInfo[sub_columns].to_csv(path, encoding='utf-8', index=False)"
   ]
  }
 ],
 "metadata": {
  "kernelspec": {
   "display_name": "base",
   "language": "python",
   "name": "python3"
  },
  "language_info": {
   "codemirror_mode": {
    "name": "ipython",
    "version": 3
   },
   "file_extension": ".py",
   "mimetype": "text/x-python",
   "name": "python",
   "nbconvert_exporter": "python",
   "pygments_lexer": "ipython3",
   "version": "3.11.4"
  }
 },
 "nbformat": 4,
 "nbformat_minor": 2
}
