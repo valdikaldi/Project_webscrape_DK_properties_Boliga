{
 "cells": [
  {
   "cell_type": "code",
   "execution_count": 1,
   "metadata": {},
   "outputs": [],
   "source": [
    "import pandas as pd \n",
    "import ast\n",
    "import json\n",
    "from pandas import json_normalize"
   ]
  },
  {
   "cell_type": "markdown",
   "metadata": {},
   "source": [
    ".\n",
    "## ==================================================\n",
    "# Boliga_propertySales_cadastralInfos.csv\n",
    "## ==================================================\n",
    "."
   ]
  },
  {
   "cell_type": "markdown",
   "metadata": {},
   "source": [
    "## ----- read in the file : "
   ]
  },
  {
   "cell_type": "code",
   "execution_count": 2,
   "metadata": {},
   "outputs": [
    {
     "name": "stdout",
     "output_type": "stream",
     "text": [
      "<class 'pandas.core.frame.DataFrame'>\n",
      "RangeIndex: 1031507 entries, 0 to 1031506\n",
      "Data columns (total 17 columns):\n",
      " #   Column                                  Non-Null Count    Dtype \n",
      "---  ------                                  --------------    ----- \n",
      " 0   RowID_MAIN_boliga_ROW_ID_unitID         1031507 non-null  object\n",
      " 1   RowID_propertyCode_bfeCode              1031507 non-null  int64 \n",
      " 2   RowID_municipalityCode                  1031507 non-null  int64 \n",
      " 3   RowID_propertyCode_esrCode              1031507 non-null  int64 \n",
      " 4   Address_info_addressString              1031507 non-null  object\n",
      " 5   Address_info_streetString               1031507 non-null  object\n",
      " 6   Address_info_houseNumber                1031507 non-null  object\n",
      " 7   Address_info_floorString                270077 non-null   object\n",
      " 8   Address_info_sideDoorNumber             215286 non-null   object\n",
      " 9   Address_info_zipString_code_and_name    1031507 non-null  object\n",
      " 10  Address_info_zipCode                    1031507 non-null  int64 \n",
      " 11  Feature_dummy_isApartment               1031507 non-null  bool  \n",
      " 12  Feature_categorical_propertyTypeNumber  1031507 non-null  int64 \n",
      " 13  Feature_Floor_level_of_property         270077 non-null   object\n",
      " 14  Feature_category_propertyTypeName       1031507 non-null  object\n",
      " 15  Feature_dummy_property_is_on_sale       1031507 non-null  bool  \n",
      " 16  RAW_dictionary_cadastralInfos           1031507 non-null  object\n",
      "dtypes: bool(2), int64(5), object(10)\n",
      "memory usage: 120.0+ MB\n"
     ]
    }
   ],
   "source": [
    "path = r'D:\\Thesis\\Properties\\Denmark\\RE_due_scraping_properties\\Boliga_dk\\Creating_main_dataset_for_sales_data\\Data_split\\7_cadastralInfos\\Boliga_propertySales_cadastralInfos.csv'\n",
    "data_cadastralInfo = pd.read_csv(path, encoding='utf-8',low_memory=False)\n",
    "data_cadastralInfo.info()"
   ]
  },
  {
   "cell_type": "markdown",
   "metadata": {},
   "source": [
    "### --------- Convert \"RAW_dictionary_cadastralInfos\" column to dictionary object                "
   ]
  },
  {
   "cell_type": "code",
   "execution_count": 3,
   "metadata": {},
   "outputs": [],
   "source": [
    "def decode_json(x):\n",
    "    try:\n",
    "        if isinstance(x, str) and x.strip() != \"\" and not pd.isna(x):\n",
    "            return ast.literal_eval(x)\n",
    "            # Alternatively, you can use json.loads as follows:\n",
    "            # return json.loads(x.replace(\"'\", '\"'))\n",
    "        else:\n",
    "            return x\n",
    "    except (ValueError, SyntaxError) as e:\n",
    "        print(f\"Error decoding JSON: {e}\")\n",
    "        return None\n",
    "\n",
    "# Apply the decoding function to the specified column\n",
    "data_cadastralInfo['RAW_dictionary_cadastralInfos'] = data_cadastralInfo['RAW_dictionary_cadastralInfos'].apply(decode_json)\n"
   ]
  },
  {
   "cell_type": "code",
   "execution_count": null,
   "metadata": {},
   "outputs": [],
   "source": [
    "data_cadastralInfo['RAW_dictionary_cadastralInfos'][14585]"
   ]
  },
  {
   "cell_type": "markdown",
   "metadata": {},
   "source": [
    "## --- Count number of items in the list i.e. number of dictionaries in the list of  RAW_dictionary_cadastralInfos- to make sure they are all balance "
   ]
  },
  {
   "cell_type": "code",
   "execution_count": 4,
   "metadata": {},
   "outputs": [
    {
     "name": "stdout",
     "output_type": "stream",
     "text": [
      "14585\n",
      "19746\n",
      "33241\n",
      "33505\n",
      "33510\n",
      "38567\n",
      "101792\n",
      "112933\n",
      "113105\n",
      "113106\n",
      "113107\n",
      "121175\n",
      "132046\n",
      "132852\n",
      "132861\n",
      "136559\n",
      "136565\n",
      "139085\n",
      "144349\n",
      "167003\n",
      "180623\n",
      "229233\n",
      "242588\n",
      "286038\n",
      "286196\n",
      "361448\n",
      "370992\n",
      "377105\n",
      "381584\n",
      "383697\n",
      "389440\n",
      "402836\n",
      "402838\n",
      "403052\n",
      "403065\n",
      "422393\n",
      "429742\n",
      "433980\n",
      "438642\n",
      "440295\n",
      "441591\n",
      "453845\n",
      "454037\n",
      "464673\n",
      "464675\n",
      "475205\n",
      "485357\n",
      "487219\n",
      "533075\n",
      "533147\n",
      "533569\n",
      "533571\n",
      "533600\n",
      "533602\n",
      "533603\n",
      "533782\n",
      "539388\n",
      "555935\n",
      "557680\n",
      "576847\n",
      "594409\n",
      "594410\n",
      "594418\n",
      "598400\n",
      "602077\n",
      "610268\n",
      "610474\n",
      "617458\n",
      "627845\n",
      "628161\n",
      "650669\n",
      "670241\n",
      "679514\n",
      "679515\n",
      "686503\n",
      "686626\n",
      "687960\n",
      "687961\n",
      "690728\n",
      "690729\n",
      "699213\n",
      "701322\n",
      "703309\n",
      "703316\n",
      "703317\n",
      "703384\n",
      "703387\n",
      "703391\n",
      "703411\n",
      "703434\n",
      "711998\n",
      "717742\n",
      "728728\n",
      "742715\n",
      "745207\n",
      "747190\n",
      "759012\n",
      "770172\n",
      "786836\n",
      "791094\n",
      "808772\n",
      "813474\n",
      "824893\n",
      "826533\n",
      "826625\n",
      "826633\n",
      "827606\n",
      "827607\n",
      "827608\n",
      "837652\n",
      "844146\n",
      "851295\n",
      "851455\n",
      "856245\n",
      "856246\n",
      "856247\n",
      "856292\n",
      "856613\n",
      "858688\n",
      "859107\n",
      "861799\n",
      "883630\n",
      "901202\n",
      "901203\n",
      "901872\n",
      "903247\n",
      "903316\n",
      "903319\n",
      "917871\n",
      "917872\n",
      "923745\n",
      "929658\n",
      "933045\n",
      "934849\n",
      "934984\n",
      "936564\n",
      "942304\n",
      "952973\n",
      "953079\n",
      "961908\n",
      "967768\n",
      "980330\n",
      "985750\n",
      "988267\n",
      "988376\n",
      "988380\n",
      "998651\n",
      "1008230\n",
      "1012410\n",
      "1018251\n",
      "1018291\n",
      "1026070\n"
     ]
    },
    {
     "data": {
      "text/plain": [
       "{0,\n",
       " 1,\n",
       " 2,\n",
       " 3,\n",
       " 4,\n",
       " 5,\n",
       " 6,\n",
       " 7,\n",
       " 8,\n",
       " 9,\n",
       " 10,\n",
       " 11,\n",
       " 12,\n",
       " 13,\n",
       " 14,\n",
       " 15,\n",
       " 16,\n",
       " 17,\n",
       " 18,\n",
       " 19,\n",
       " 20,\n",
       " 21,\n",
       " 22,\n",
       " 23,\n",
       " 24,\n",
       " 25,\n",
       " 26,\n",
       " 27,\n",
       " 28,\n",
       " 29,\n",
       " 30,\n",
       " 31,\n",
       " 32,\n",
       " 33,\n",
       " 34,\n",
       " 35,\n",
       " 36,\n",
       " 38,\n",
       " 39,\n",
       " 40,\n",
       " 41,\n",
       " 45,\n",
       " 46,\n",
       " 47,\n",
       " 49,\n",
       " 51,\n",
       " 52,\n",
       " 54,\n",
       " 56,\n",
       " 58,\n",
       " 61,\n",
       " 63,\n",
       " 67,\n",
       " 69,\n",
       " 72,\n",
       " 74,\n",
       " 76,\n",
       " 80,\n",
       " 89,\n",
       " 90,\n",
       " 116,\n",
       " 205}"
      ]
     },
     "execution_count": 4,
     "metadata": {},
     "output_type": "execute_result"
    }
   ],
   "source": [
    "def count_objects(x):\n",
    "    global global_counter\n",
    "    global_counter+=1\n",
    "\n",
    "    if isinstance(x,list) and x!='':\n",
    "        length = len(x)\n",
    "        if length == 15:\n",
    "            print(global_counter)\n",
    "        return countlist.append(length)\n",
    "\n",
    "countlist = []\n",
    "global_counter=-1\n",
    "# Apply the decoding function to the specified column\n",
    "data_cadastralInfo['RAW_dictionary_cadastralInfos'].apply(count_objects)\n",
    "\n",
    "set(countlist)"
   ]
  },
  {
   "cell_type": "markdown",
   "metadata": {},
   "source": [
    "## ---- Create column Number_of_cadestalsInfos (in order to get an overview of number of cadestrals per property )"
   ]
  },
  {
   "cell_type": "code",
   "execution_count": 5,
   "metadata": {},
   "outputs": [
    {
     "data": {
      "text/plain": [
       "0          [{'cadestralNumber': '58ab', 'area': 562, 'roa...\n",
       "1          [{'cadestralNumber': '4gd', 'area': 217, 'road...\n",
       "2          [{'cadestralNumber': '386', 'area': 343, 'road...\n",
       "3                                                         []\n",
       "4          [{'cadestralNumber': '9nx', 'area': 103, 'road...\n",
       "                                 ...                        \n",
       "1031502    [{'cadestralNumber': '207', 'area': 1084, 'roa...\n",
       "1031503    [{'cadestralNumber': '11aø', 'area': 1023, 'ro...\n",
       "1031504    [{'cadestralNumber': '2fø', 'area': 750, 'road...\n",
       "1031505    [{'cadestralNumber': '2dp', 'area': 6735, 'roa...\n",
       "1031506    [{'cadestralNumber': '8aq', 'area': 646, 'road...\n",
       "Name: RAW_dictionary_cadastralInfos, Length: 1031507, dtype: object"
      ]
     },
     "execution_count": 5,
     "metadata": {},
     "output_type": "execute_result"
    }
   ],
   "source": [
    "data_cadastralInfo['RAW_dictionary_cadastralInfos']"
   ]
  },
  {
   "cell_type": "code",
   "execution_count": 6,
   "metadata": {},
   "outputs": [],
   "source": [
    "data_cadastralInfo['Number_of_cadestalsInfos_dictionaries'] = 0"
   ]
  },
  {
   "cell_type": "code",
   "execution_count": 7,
   "metadata": {},
   "outputs": [],
   "source": [
    "def count_objects(x):\n",
    "    global global_counter\n",
    "    global_counter+=1\n",
    "\n",
    "    if isinstance(x,list) and x!='':\n",
    "        length = len(x)\n",
    "        return length\n",
    "    else:\n",
    "        return 0\n",
    "\n",
    "# Apply the decoding function to the specified column\n",
    "data_cadastralInfo['Number_of_cadestalsInfos_dictionaries'] = data_cadastralInfo['RAW_dictionary_cadastralInfos'].apply(count_objects)"
   ]
  },
  {
   "cell_type": "code",
   "execution_count": null,
   "metadata": {},
   "outputs": [],
   "source": [
    "data_cadastralInfo['Number_of_cadestalsInfos_dictionaries'].value_counts()"
   ]
  },
  {
   "cell_type": "code",
   "execution_count": 8,
   "metadata": {},
   "outputs": [
    {
     "data": {
      "text/plain": [
       "145        [{'cadestralNumber': '7ae', 'area': 731, 'road...\n",
       "260        [{'cadestralNumber': '12z', 'area': 552, 'road...\n",
       "329        [{'cadestralNumber': '30b', 'area': 87046, 'ro...\n",
       "568        [{'cadestralNumber': '22a', 'area': 275048, 'r...\n",
       "693        [{'cadestralNumber': '87bk', 'area': 393, 'roa...\n",
       "                                 ...                        \n",
       "1031333    [{'cadestralNumber': '4b', 'area': 49737, 'roa...\n",
       "1031364    [{'cadestralNumber': '91a', 'area': 254, 'road...\n",
       "1031377    [{'cadestralNumber': '10c', 'area': 4841, 'roa...\n",
       "1031416    [{'cadestralNumber': '91a', 'area': 254, 'road...\n",
       "1031419    [{'cadestralNumber': '91a', 'area': 254, 'road...\n",
       "Name: RAW_dictionary_cadastralInfos, Length: 10431, dtype: object"
      ]
     },
     "execution_count": 8,
     "metadata": {},
     "output_type": "execute_result"
    }
   ],
   "source": [
    "data_cadastralInfo[data_cadastralInfo['Number_of_cadestalsInfos_dictionaries']==3]['RAW_dictionary_cadastralInfos']"
   ]
  },
  {
   "cell_type": "code",
   "execution_count": null,
   "metadata": {},
   "outputs": [],
   "source": [
    "data_cadastralInfo['RAW_dictionary_cadastralInfos'][1031377]"
   ]
  },
  {
   "cell_type": "code",
   "execution_count": null,
   "metadata": {},
   "outputs": [],
   "source": [
    "data_cadastralInfo['RowID_MAIN_boliga_ROW_ID_unitID'][1031377]"
   ]
  },
  {
   "cell_type": "markdown",
   "metadata": {},
   "source": [
    "# ------ I will NOT NORMALIZE THE COLUMN \"RAW_dictionary_cadastralInfos\" \n",
    "#### Majority have 1 OR 0 ITEMS  but there are many with multiple land parts \n",
    "\n",
    "#### here is the plan, create the following variables :\n",
    "* Number_of_cadestalsInfos_dictionaries (WHICH i HAVE ALREADY MADE UP THERE)\n",
    "* Total_land_size_grundArea"
   ]
  },
  {
   "cell_type": "code",
   "execution_count": null,
   "metadata": {},
   "outputs": [],
   "source": [
    "# # normalize the column \n",
    "# normalized_data = json_normalize(data_cadastralInfo['RAW_dictionary_cadastralInfos'])\n",
    "\n",
    "# # concatenate the normalized data and the original dataset\n",
    "# data_cadastralInfo = pd.concat([data_cadastralInfo, normalized_data], axis=1)\n",
    "\n",
    "# data_cadastralInfo.info()"
   ]
  },
  {
   "cell_type": "code",
   "execution_count": 9,
   "metadata": {},
   "outputs": [
    {
     "data": {
      "text/plain": [
       "0          [{'cadestralNumber': '58ab', 'area': 562, 'roa...\n",
       "1          [{'cadestralNumber': '4gd', 'area': 217, 'road...\n",
       "2          [{'cadestralNumber': '386', 'area': 343, 'road...\n",
       "3                                                         []\n",
       "4          [{'cadestralNumber': '9nx', 'area': 103, 'road...\n",
       "                                 ...                        \n",
       "1031502    [{'cadestralNumber': '207', 'area': 1084, 'roa...\n",
       "1031503    [{'cadestralNumber': '11aø', 'area': 1023, 'ro...\n",
       "1031504    [{'cadestralNumber': '2fø', 'area': 750, 'road...\n",
       "1031505    [{'cadestralNumber': '2dp', 'area': 6735, 'roa...\n",
       "1031506    [{'cadestralNumber': '8aq', 'area': 646, 'road...\n",
       "Name: RAW_dictionary_cadastralInfos, Length: 1031507, dtype: object"
      ]
     },
     "execution_count": 9,
     "metadata": {},
     "output_type": "execute_result"
    }
   ],
   "source": [
    "data_cadastralInfo['RAW_dictionary_cadastralInfos']"
   ]
  },
  {
   "cell_type": "markdown",
   "metadata": {},
   "source": [
    "# ------ CREATE VARIABLE: **Total_land_size_grundArea**"
   ]
  },
  {
   "cell_type": "code",
   "execution_count": 10,
   "metadata": {},
   "outputs": [],
   "source": [
    "data_cadastralInfo['Total_land_size_with_property_grundArea'] = 0"
   ]
  },
  {
   "cell_type": "code",
   "execution_count": 11,
   "metadata": {},
   "outputs": [],
   "source": [
    "def total_land_size(dictionary_list):\n",
    "    temp_total_size = 0\n",
    "\n",
    "    try:\n",
    "        if isinstance(dictionary_list, list) and dictionary_list !='' and dictionary_list != []:\n",
    "            for dictionary_item in dictionary_list:\n",
    "                temp_area = dictionary_item['area']\n",
    "\n",
    "                # add area size to variable\n",
    "                temp_total_size += temp_area\n",
    "            \n",
    "            # once for loop is done return result \n",
    "            return temp_total_size\n",
    "        # if empty list then return zero\n",
    "        else:\n",
    "            return temp_total_size\n",
    "\n",
    "    except (ValueError, SyntaxError) as e:\n",
    "        print(f\"Error decoding JSON: {e}\")\n",
    "        return temp_total_size\n",
    "\n",
    "# Apply the decoding function to the specified column\n",
    "data_cadastralInfo['Total_land_size_with_property_grundArea'] = data_cadastralInfo['RAW_dictionary_cadastralInfos'].apply(total_land_size)"
   ]
  },
  {
   "cell_type": "code",
   "execution_count": 12,
   "metadata": {},
   "outputs": [
    {
     "data": {
      "text/plain": [
       "0           562\n",
       "1           217\n",
       "2           343\n",
       "3             0\n",
       "4           103\n",
       "           ... \n",
       "1031502    1084\n",
       "1031503    1023\n",
       "1031504     750\n",
       "1031505    6735\n",
       "1031506     646\n",
       "Name: Total_land_size_with_property_grundArea, Length: 1031507, dtype: int64"
      ]
     },
     "execution_count": 12,
     "metadata": {},
     "output_type": "execute_result"
    }
   ],
   "source": [
    "data_cadastralInfo['Total_land_size_with_property_grundArea']"
   ]
  },
  {
   "cell_type": "code",
   "execution_count": null,
   "metadata": {},
   "outputs": [],
   "source": [
    "data_cadastralInfo[data_cadastralInfo['Total_land_size_with_property_grundArea']==750]['RowID_MAIN_boliga_ROW_ID_unitID']"
   ]
  },
  {
   "cell_type": "code",
   "execution_count": 14,
   "metadata": {},
   "outputs": [
    {
     "name": "stdout",
     "output_type": "stream",
     "text": [
      "<class 'pandas.core.frame.DataFrame'>\n",
      "RangeIndex: 1031507 entries, 0 to 1031506\n",
      "Data columns (total 19 columns):\n",
      " #   Column                                   Non-Null Count    Dtype \n",
      "---  ------                                   --------------    ----- \n",
      " 0   RowID_MAIN_boliga_ROW_ID_unitID          1031507 non-null  object\n",
      " 1   RowID_propertyCode_bfeCode               1031507 non-null  int64 \n",
      " 2   RowID_municipalityCode                   1031507 non-null  int64 \n",
      " 3   RowID_propertyCode_esrCode               1031507 non-null  int64 \n",
      " 4   Address_info_addressString               1031507 non-null  object\n",
      " 5   Address_info_streetString                1031507 non-null  object\n",
      " 6   Address_info_houseNumber                 1031507 non-null  object\n",
      " 7   Address_info_floorString                 270077 non-null   object\n",
      " 8   Address_info_sideDoorNumber              215286 non-null   object\n",
      " 9   Address_info_zipString_code_and_name     1031507 non-null  object\n",
      " 10  Address_info_zipCode                     1031507 non-null  int64 \n",
      " 11  Feature_dummy_isApartment                1031507 non-null  bool  \n",
      " 12  Feature_categorical_propertyTypeNumber   1031507 non-null  int64 \n",
      " 13  Feature_Floor_level_of_property          270077 non-null   object\n",
      " 14  Feature_category_propertyTypeName        1031507 non-null  object\n",
      " 15  Feature_dummy_property_is_on_sale        1031507 non-null  bool  \n",
      " 16  RAW_dictionary_cadastralInfos            1031507 non-null  object\n",
      " 17  Number_of_cadestalsInfos_dictionaries    1031507 non-null  int64 \n",
      " 18  Total_land_size_with_property_grundArea  1031507 non-null  int64 \n",
      "dtypes: bool(2), int64(7), object(10)\n",
      "memory usage: 135.8+ MB\n"
     ]
    }
   ],
   "source": [
    "data_cadastralInfo.info()"
   ]
  },
  {
   "cell_type": "markdown",
   "metadata": {},
   "source": [
    "# -------- Change Column names for the NEW COLUMNS :"
   ]
  },
  {
   "cell_type": "code",
   "execution_count": 15,
   "metadata": {},
   "outputs": [
    {
     "name": "stdout",
     "output_type": "stream",
     "text": [
      "<class 'pandas.core.frame.DataFrame'>\n",
      "RangeIndex: 1031507 entries, 0 to 1031506\n",
      "Data columns (total 19 columns):\n",
      " #   Column                                                  Non-Null Count    Dtype \n",
      "---  ------                                                  --------------    ----- \n",
      " 0   RowID_MAIN_boliga_ROW_ID_unitID                         1031507 non-null  object\n",
      " 1   RowID_propertyCode_bfeCode                              1031507 non-null  int64 \n",
      " 2   RowID_municipalityCode                                  1031507 non-null  int64 \n",
      " 3   RowID_propertyCode_esrCode                              1031507 non-null  int64 \n",
      " 4   Address_info_addressString                              1031507 non-null  object\n",
      " 5   Address_info_streetString                               1031507 non-null  object\n",
      " 6   Address_info_houseNumber                                1031507 non-null  object\n",
      " 7   Address_info_floorString                                270077 non-null   object\n",
      " 8   Address_info_sideDoorNumber                             215286 non-null   object\n",
      " 9   Address_info_zipString_code_and_name                    1031507 non-null  object\n",
      " 10  Address_info_zipCode                                    1031507 non-null  int64 \n",
      " 11  Feature_dummy_isApartment                               1031507 non-null  bool  \n",
      " 12  Feature_categorical_propertyTypeNumber                  1031507 non-null  int64 \n",
      " 13  Feature_Floor_level_of_property                         270077 non-null   object\n",
      " 14  Feature_category_propertyTypeName                       1031507 non-null  object\n",
      " 15  Feature_dummy_property_is_on_sale                       1031507 non-null  bool  \n",
      " 16  RAW_dictionary_cadastralInfos                           1031507 non-null  object\n",
      " 17  cadestalsInfos_Number_of_cadestalsInfos_dictionaries    1031507 non-null  int64 \n",
      " 18  cadestalsInfos_Total_land_size_with_property_grundArea  1031507 non-null  int64 \n",
      "dtypes: bool(2), int64(7), object(10)\n",
      "memory usage: 135.8+ MB\n"
     ]
    }
   ],
   "source": [
    "change_column_names = {\n",
    "    'Number_of_cadestalsInfos_dictionaries' : 'cadestalsInfos_Number_of_cadestalsInfos_dictionaries',\n",
    "    'Total_land_size_with_property_grundArea': 'cadestalsInfos_Total_land_size_with_property_grundArea'\n",
    "}\n",
    "\n",
    "data_cadastralInfo = data_cadastralInfo.rename(columns=change_column_names)\n",
    "data_cadastralInfo.info()"
   ]
  },
  {
   "cell_type": "markdown",
   "metadata": {},
   "source": [
    "## ------ Save the result "
   ]
  },
  {
   "cell_type": "code",
   "execution_count": 16,
   "metadata": {},
   "outputs": [],
   "source": [
    "sub_columns = [\n",
    "    'RowID_MAIN_boliga_ROW_ID_unitID',\n",
    "    'cadestalsInfos_Number_of_cadestalsInfos_dictionaries',    \n",
    "    'cadestalsInfos_Total_land_size_with_property_grundArea',  \n",
    "]\n",
    "\n",
    "path=r'D:\\Thesis\\Properties\\Denmark\\RE_due_scraping_properties\\Boliga_dk\\Creating_main_dataset_for_sales_data\\Data_split\\7_cadastralInfos\\Ready\\Boliga_propertySales_CadastralInfo.csv'\n",
    "\n",
    "data_cadastralInfo[sub_columns].to_csv(path, encoding='utf-8', index=False)"
   ]
  }
 ],
 "metadata": {
  "kernelspec": {
   "display_name": "base",
   "language": "python",
   "name": "python3"
  },
  "language_info": {
   "codemirror_mode": {
    "name": "ipython",
    "version": 3
   },
   "file_extension": ".py",
   "mimetype": "text/x-python",
   "name": "python",
   "nbconvert_exporter": "python",
   "pygments_lexer": "ipython3",
   "version": "3.11.4"
  }
 },
 "nbformat": 4,
 "nbformat_minor": 2
}
