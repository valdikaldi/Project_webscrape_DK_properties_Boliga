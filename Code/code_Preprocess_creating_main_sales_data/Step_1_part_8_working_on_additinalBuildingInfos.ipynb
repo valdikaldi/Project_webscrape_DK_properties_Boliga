{
 "cells": [
  {
   "cell_type": "code",
   "execution_count": 2,
   "metadata": {},
   "outputs": [],
   "source": [
    "import pandas as pd \n",
    "import ast\n",
    "import json\n",
    "from pandas import json_normalize"
   ]
  },
  {
   "cell_type": "markdown",
   "metadata": {},
   "source": [
    ".\n",
    "## ==================================================\n",
    "# Boliga_propertySales_additinalBuildingInfos.csv\n",
    "## ==================================================\n",
    "."
   ]
  },
  {
   "cell_type": "markdown",
   "metadata": {},
   "source": [
    "## ----- read in the file : "
   ]
  },
  {
   "cell_type": "code",
   "execution_count": 3,
   "metadata": {},
   "outputs": [
    {
     "name": "stdout",
     "output_type": "stream",
     "text": [
      "<class 'pandas.core.frame.DataFrame'>\n",
      "RangeIndex: 1031507 entries, 0 to 1031506\n",
      "Data columns (total 17 columns):\n",
      " #   Column                                  Non-Null Count    Dtype \n",
      "---  ------                                  --------------    ----- \n",
      " 0   RowID_MAIN_boliga_ROW_ID_unitID         1031507 non-null  object\n",
      " 1   RowID_propertyCode_bfeCode              1031507 non-null  int64 \n",
      " 2   RowID_municipalityCode                  1031507 non-null  int64 \n",
      " 3   RowID_propertyCode_esrCode              1031507 non-null  int64 \n",
      " 4   Address_info_addressString              1031507 non-null  object\n",
      " 5   Address_info_streetString               1031507 non-null  object\n",
      " 6   Address_info_houseNumber                1031507 non-null  object\n",
      " 7   Address_info_floorString                270077 non-null   object\n",
      " 8   Address_info_sideDoorNumber             215286 non-null   object\n",
      " 9   Address_info_zipString_code_and_name    1031507 non-null  object\n",
      " 10  Address_info_zipCode                    1031507 non-null  int64 \n",
      " 11  Feature_dummy_isApartment               1031507 non-null  bool  \n",
      " 12  Feature_categorical_propertyTypeNumber  1031507 non-null  int64 \n",
      " 13  Feature_Floor_level_of_property         270077 non-null   object\n",
      " 14  Feature_category_propertyTypeName       1031507 non-null  object\n",
      " 15  Feature_dummy_property_is_on_sale       1031507 non-null  bool  \n",
      " 16  RAW_dictionary_additionalBuldingInfos   1031507 non-null  object\n",
      "dtypes: bool(2), int64(5), object(10)\n",
      "memory usage: 120.0+ MB\n"
     ]
    }
   ],
   "source": [
    "path = r'D:\\Thesis\\Properties\\Denmark\\RE_due_scraping_properties\\Boliga_dk\\Creating_main_dataset_for_sales_data\\Data_split\\8_additinalBuildingInfos\\Boliga_propertySales_additinalBuildingInfos.csv'\n",
    "data_additionarBuildingInfo = pd.read_csv(path, encoding='utf-8',low_memory=False)\n",
    "data_additionarBuildingInfo.info()"
   ]
  },
  {
   "cell_type": "markdown",
   "metadata": {},
   "source": [
    "### --------- Convert \"RAW_dictionary_cadastralInfos\" column to dictionary object                "
   ]
  },
  {
   "cell_type": "code",
   "execution_count": 4,
   "metadata": {},
   "outputs": [],
   "source": [
    "def decode_json(x):\n",
    "    try:\n",
    "        if isinstance(x, str) and x.strip() != \"\" and not pd.isna(x):\n",
    "            return ast.literal_eval(x)\n",
    "            # Alternatively, you can use json.loads as follows:\n",
    "            # return json.loads(x.replace(\"'\", '\"'))\n",
    "        else:\n",
    "            return x\n",
    "    except (ValueError, SyntaxError) as e:\n",
    "        print(f\"Error decoding JSON: {e}\")\n",
    "        return None\n",
    "\n",
    "# Apply the decoding function to the specified column\n",
    "data_additionarBuildingInfo['RAW_dictionary_additionalBuldingInfos'] = data_additionarBuildingInfo['RAW_dictionary_additionalBuldingInfos'].apply(decode_json)\n"
   ]
  },
  {
   "cell_type": "code",
   "execution_count": 5,
   "metadata": {},
   "outputs": [
    {
     "data": {
      "text/plain": [
       "0          [{'buildingNumber': 3, 'buildingUsage': 'Carpo...\n",
       "1          [{'buildingNumber': 2, 'buildingUsage': 'Udhus...\n",
       "2          [{'buildingNumber': 3, 'buildingUsage': 'Udhus...\n",
       "3                                                         []\n",
       "4                                                         []\n",
       "                                 ...                        \n",
       "1031502    [{'buildingNumber': 2, 'buildingUsage': 'Carpo...\n",
       "1031503    [{'buildingNumber': 3, 'buildingUsage': 'Udhus...\n",
       "1031504    [{'buildingNumber': 2, 'buildingUsage': 'Garag...\n",
       "1031505    [{'buildingNumber': 1, 'buildingUsage': 'Bygni...\n",
       "1031506    [{'buildingNumber': 2, 'buildingUsage': 'Udhus...\n",
       "Name: RAW_dictionary_additionalBuldingInfos, Length: 1031507, dtype: object"
      ]
     },
     "execution_count": 5,
     "metadata": {},
     "output_type": "execute_result"
    }
   ],
   "source": [
    "data_additionarBuildingInfo['RAW_dictionary_additionalBuldingInfos'] "
   ]
  },
  {
   "cell_type": "markdown",
   "metadata": {},
   "source": [
    "## --- Count number of items in the list i.e. number of dictionaries in the list of  RAW_dictionary_cadastralInfos- to make sure they are all balance "
   ]
  },
  {
   "cell_type": "code",
   "execution_count": 7,
   "metadata": {},
   "outputs": [
    {
     "data": {
      "text/plain": [
       "{0,\n",
       " 1,\n",
       " 2,\n",
       " 3,\n",
       " 4,\n",
       " 5,\n",
       " 6,\n",
       " 7,\n",
       " 8,\n",
       " 9,\n",
       " 10,\n",
       " 11,\n",
       " 12,\n",
       " 13,\n",
       " 14,\n",
       " 15,\n",
       " 16,\n",
       " 17,\n",
       " 18,\n",
       " 19,\n",
       " 20,\n",
       " 21,\n",
       " 22,\n",
       " 23,\n",
       " 24,\n",
       " 25,\n",
       " 26,\n",
       " 27,\n",
       " 28,\n",
       " 29,\n",
       " 30,\n",
       " 31,\n",
       " 32,\n",
       " 33,\n",
       " 34,\n",
       " 35,\n",
       " 36,\n",
       " 37,\n",
       " 38,\n",
       " 39,\n",
       " 40,\n",
       " 41,\n",
       " 42,\n",
       " 43,\n",
       " 44,\n",
       " 45,\n",
       " 46,\n",
       " 47,\n",
       " 48,\n",
       " 49,\n",
       " 50,\n",
       " 51,\n",
       " 52,\n",
       " 53,\n",
       " 54,\n",
       " 55,\n",
       " 56,\n",
       " 57,\n",
       " 58,\n",
       " 59,\n",
       " 60,\n",
       " 61,\n",
       " 62,\n",
       " 63,\n",
       " 64,\n",
       " 65,\n",
       " 66,\n",
       " 67,\n",
       " 68,\n",
       " 69,\n",
       " 71,\n",
       " 72,\n",
       " 73,\n",
       " 74,\n",
       " 75,\n",
       " 76,\n",
       " 79,\n",
       " 80,\n",
       " 81,\n",
       " 83,\n",
       " 84,\n",
       " 85,\n",
       " 93,\n",
       " 98,\n",
       " 99,\n",
       " 103,\n",
       " 105,\n",
       " 106,\n",
       " 109,\n",
       " 110,\n",
       " 111,\n",
       " 112,\n",
       " 119,\n",
       " 121,\n",
       " 122,\n",
       " 123,\n",
       " 131,\n",
       " 145,\n",
       " 153,\n",
       " 156,\n",
       " 158,\n",
       " 159,\n",
       " 163,\n",
       " 166,\n",
       " 192,\n",
       " 193,\n",
       " 232,\n",
       " 233,\n",
       " 237,\n",
       " 305,\n",
       " 311,\n",
       " 325,\n",
       " 326,\n",
       " 342,\n",
       " 343}"
      ]
     },
     "execution_count": 7,
     "metadata": {},
     "output_type": "execute_result"
    }
   ],
   "source": [
    "def count_objects(x):\n",
    "    global global_counter\n",
    "    global_counter+=1\n",
    "\n",
    "    if isinstance(x,list) and x!='':\n",
    "        length = len(x)\n",
    "        # if length == 15:\n",
    "        #     print(global_counter)\n",
    "        return countlist.append(length)\n",
    "\n",
    "countlist = []\n",
    "global_counter=-1\n",
    "# Apply the decoding function to the specified column\n",
    "data_additionarBuildingInfo['RAW_dictionary_additionalBuldingInfos'].apply(count_objects)\n",
    "\n",
    "set(countlist)"
   ]
  },
  {
   "cell_type": "markdown",
   "metadata": {},
   "source": [
    "## ---- Get the unique BuildingsUsage names "
   ]
  },
  {
   "cell_type": "code",
   "execution_count": 15,
   "metadata": {},
   "outputs": [],
   "source": [
    "list_buildingUsage = []\n",
    "for item_list in data_additionarBuildingInfo['RAW_dictionary_additionalBuldingInfos']:\n",
    "\n",
    "    if isinstance(item_list,list) and item_list != '' and item_list != []:\n",
    "\n",
    "        for item_dictionary in item_list:\n",
    "\n",
    "            temp_buildingusage = item_dictionary['buildingUsage']\n",
    "            list_buildingUsage.append(temp_buildingusage)"
   ]
  },
  {
   "cell_type": "code",
   "execution_count": 19,
   "metadata": {},
   "outputs": [
    {
     "name": "stdout",
     "output_type": "stream",
     "text": [
      "313208 : Carport\n",
      "565221 : Udhus\n",
      "237012 : Garage\n",
      "4226 : Bygning til kontor\n",
      "7353 : Værksted\n",
      "24126 : Dobbelthus\n",
      "25633 : Drivhus\n",
      "50464 : Tiloversbleven landbrugsbygning\n",
      "4032 : Stuehus til landbrugsejendom\n",
      "10661 : Ukendt bygning\n",
      "14888 : Stald til kvæg, får mv.\n",
      "35289 : Maskinhus,  garage mv.\n",
      "3720 : Lade til halm, hø mv.\n",
      "18961 : Anden bygning til landbrug mv.\n",
      "982 : Hotel, kro eller konferencecenter med overnatning\n",
      "556 : Anden bygning til serviceerhverv\n",
      "54347 : Fritliggende enfamiliehus\n",
      "3301 : Bygning til detailhandel\n",
      "251 : Tankstation\n",
      "15746 : Fritliggende overdækning\n",
      "2151 : Fritliggende udestue\n",
      "11955 : Bygning til lager\n",
      "16548 : Stald til svin\n",
      "16276 : Lade til foder, afgrøder mv.\n",
      "2134 : Stald til fjerkræ\n",
      "7822 : (UDFASES) Bygning til erhvervsmæssig produktion vedrørende landbrug, gartneri, råstofudvinding o. lign\n",
      "2198 : Anden bygning til fritidsformål\n",
      "2112 : Bygning til træning og opstaldning af heste\n",
      "1551 : Bygning med ferielejligheder til erhvervsmæssig udlejning\n",
      "2373 : Anden bygning til helårsbeboelse\n",
      "2210 : Anneks i tilknytning til helårsbolig.\n",
      "811 : Sommerhus\n",
      "1641 : Bygning til industri uden integreret produktionsapparat\n",
      "958 : Privat servicevirksomhed som frisør, vaskeri, netcafé mv.\n",
      "1302 : Væksthus\n",
      "38787 : Etagebolig-bygning, flerfamiliehus eller to-familiehus\n",
      "633 : Forsamlingshus\n",
      "2825 : Bygning til parkering- og transportanlæg\n",
      "3902 : Bygning til parkering af flere end to køretøjer i tilknytning til boliger\n",
      "211 : Faldefærdig bygning\n",
      "241 : (UDFASES) Bygning til kontor, handel, lager, herunder offentlig administration\n",
      "21 : (UDFASES) Bygning til daginstitution\n",
      "916 : Anden bygning til produktion\n",
      "48 : (UDFASES) Bygning til hotel, restaurant, vaskeri, frisør og anden servicevirksomhed\n",
      "642 : Bygning til energidistribution\n",
      "1390 : Anden bygning til undervisning og forskning\n",
      "219 : Daginstitution\n",
      "144 : Anneks i tilknytning til fritids- og sommerhus\n",
      "111 : Andet transportanlæg\n",
      "1315 : Restaurant, café og konferencecenter uden overnatning\n",
      "573 : Kolonihavehus\n",
      "119 : Bed & breakfast mv.\n",
      "221 : (UDFASES) Bygning til erhvervsmæssig produktion vedrørende industri, håndværk m.v. (fabrik, værksted o.lign.)\n",
      "96644 : Række-, kæde- og klyngehus\n",
      "44065 : (UDFASES) Række-, kæde-, eller dobbelthus (lodret adskillelse mellem enhederne).\n",
      "4353 : Minkhal\n",
      "157 : (UDFASES) Anden bygning til landbrug, industri etc.\n",
      "130 : Anden bygning til energiproduktion og forsyning\n",
      "587 : Anden bygning til kontor, handel og lager\n",
      "34 : Universitet\n",
      "408 : Anden bygning til institutionsformål\n",
      "183 : Bygning til energiproduktion\n",
      "195 : Anden bygning til idrætformål\n",
      "256 : Anden bygning til ferieformål\n",
      "437 : Sammenbygget enfamiliehus\n",
      "56 : (UDFASES) Bygning til feriekoloni, vandrehjem o.lign. bortset fra sommerhus\n",
      "35 : Bygning med ferielejligheder til eget brug\n",
      "242 : Bygning til vandforsyning\n",
      "31 : (UDFASES) Transport- og garageanlæg (fragtmandshal, lufthavnsbygning, banegårdsbygning, parkeringshus). Garage med plads til et eller to køretøjer registreres med anvendelseskode 910\n",
      "4658 : Kollegium\n",
      "52 : (UDFASES) Bygning til undervisning og forskning (skole, gymnasium, forskningslabratorium o.lign.).\n",
      "192 : Sundhedscenter, lægehus, fødeklinik mv.\n",
      "466 : Feriecenter, center til campingplads mv.\n",
      "125 : Anden bygning til kulturelle formål\n",
      "173 : Bygning til industri med integreret produktionsapparat\n",
      "425 : Boligbygning til døgninstitution\n",
      "39 : Bygning til håndtering af affald og spildevand\n",
      "11 : (UDFASES) Bygning til biograf, teater, erhvervsmæssig udstilling, bibliotek, museum, kirke o. lign.\n",
      "241 : Grundskole\n",
      "78 : Servicefunktion på døgninstitution\n",
      "142 : Museum\n",
      "187 : Klubhus i forbindelse med fritid og idræt\n",
      "15 : Svømmehal\n",
      "3 : Havneanlæg\n",
      "92 : Anden bygning til sundhedsformål\n",
      "105 : Biograf, teater, koncertsted mv.\n",
      "15 : Bygning til jernbane- og busdrift\n",
      "32 : Idrætshal\n",
      "50 : Forlystelsespark\n",
      "35 : Kirke eller anden bygning til trosudøvelse for statsanerkendte trossamfund\n",
      "14 : (UDFASES) Bygning til anden institution, herunder kaserne, fængsel o. lign.\n",
      "65 : (UDFASES) Anden bygning til transport, handel etc\n",
      "32 : (UDFASES) Bygning til hospital, sygehjem, fødeklinik o. lign.\n",
      "69 : (UDFASES) El-, gas-, vand- eller varmeværk, forbrændingsanstalt m.v.\n",
      "16 : Bygning til luftfart\n",
      "220 : Fritliggende enfamiliehus i tæt-lav bebyggelse\n",
      "12 : (UDFASES) Bygning i forbindelse med idrætsudøvelse (klubhus, idrætshal, svømmehal o. lign.)\n",
      "4 : Tribune i forbindelse med stadion\n",
      "6 : Kaserne\n",
      "5 : Hospice, behandlingshjem mv.\n",
      "75 : Hospital og sygehus\n"
     ]
    }
   ],
   "source": [
    "from collections import Counter\n",
    "\n",
    "# Use Counter to count the frequency of each item in the list\n",
    "item_frequency = Counter(list_buildingUsage)\n",
    "\n",
    "# Display the frequency of each item\n",
    "for item, count in item_frequency.items():\n",
    "    print(f\"{count} : {item}\")"
   ]
  },
  {
   "cell_type": "code",
   "execution_count": 16,
   "metadata": {},
   "outputs": [
    {
     "data": {
      "text/plain": [
       "{'(UDFASES) Anden bygning til landbrug, industri etc.',\n",
       " '(UDFASES) Anden bygning til transport, handel etc',\n",
       " '(UDFASES) Bygning i forbindelse med idrætsudøvelse (klubhus, idrætshal, svømmehal o. lign.)',\n",
       " '(UDFASES) Bygning til anden institution, herunder kaserne, fængsel o. lign.',\n",
       " '(UDFASES) Bygning til biograf, teater, erhvervsmæssig udstilling, bibliotek, museum, kirke o. lign.',\n",
       " '(UDFASES) Bygning til daginstitution',\n",
       " '(UDFASES) Bygning til erhvervsmæssig produktion vedrørende industri, håndværk m.v. (fabrik, værksted o.lign.)',\n",
       " '(UDFASES) Bygning til erhvervsmæssig produktion vedrørende landbrug, gartneri, råstofudvinding o. lign',\n",
       " '(UDFASES) Bygning til feriekoloni, vandrehjem o.lign. bortset fra sommerhus',\n",
       " '(UDFASES) Bygning til hospital, sygehjem, fødeklinik o. lign.',\n",
       " '(UDFASES) Bygning til hotel, restaurant, vaskeri, frisør og anden servicevirksomhed',\n",
       " '(UDFASES) Bygning til kontor, handel, lager, herunder offentlig administration',\n",
       " '(UDFASES) Bygning til undervisning og forskning (skole, gymnasium, forskningslabratorium o.lign.).',\n",
       " '(UDFASES) El-, gas-, vand- eller varmeværk, forbrændingsanstalt m.v.',\n",
       " '(UDFASES) Række-, kæde-, eller dobbelthus (lodret adskillelse mellem enhederne).',\n",
       " '(UDFASES) Transport- og garageanlæg (fragtmandshal, lufthavnsbygning, banegårdsbygning, parkeringshus). Garage med plads til et eller to køretøjer registreres med anvendelseskode 910',\n",
       " 'Anden bygning til energiproduktion og forsyning',\n",
       " 'Anden bygning til ferieformål',\n",
       " 'Anden bygning til fritidsformål',\n",
       " 'Anden bygning til helårsbeboelse',\n",
       " 'Anden bygning til idrætformål',\n",
       " 'Anden bygning til institutionsformål',\n",
       " 'Anden bygning til kontor, handel og lager',\n",
       " 'Anden bygning til kulturelle formål',\n",
       " 'Anden bygning til landbrug mv.',\n",
       " 'Anden bygning til produktion',\n",
       " 'Anden bygning til serviceerhverv',\n",
       " 'Anden bygning til sundhedsformål',\n",
       " 'Anden bygning til undervisning og forskning',\n",
       " 'Andet transportanlæg',\n",
       " 'Anneks i tilknytning til fritids- og sommerhus',\n",
       " 'Anneks i tilknytning til helårsbolig.',\n",
       " 'Bed & breakfast mv.',\n",
       " 'Biograf, teater, koncertsted mv.',\n",
       " 'Boligbygning til døgninstitution',\n",
       " 'Bygning med ferielejligheder til eget brug',\n",
       " 'Bygning med ferielejligheder til erhvervsmæssig udlejning',\n",
       " 'Bygning til detailhandel',\n",
       " 'Bygning til energidistribution',\n",
       " 'Bygning til energiproduktion',\n",
       " 'Bygning til håndtering af affald og spildevand',\n",
       " 'Bygning til industri med integreret produktionsapparat',\n",
       " 'Bygning til industri uden integreret produktionsapparat',\n",
       " 'Bygning til jernbane- og busdrift',\n",
       " 'Bygning til kontor',\n",
       " 'Bygning til lager',\n",
       " 'Bygning til luftfart',\n",
       " 'Bygning til parkering af flere end to køretøjer i tilknytning til boliger',\n",
       " 'Bygning til parkering- og transportanlæg',\n",
       " 'Bygning til træning og opstaldning af heste',\n",
       " 'Bygning til vandforsyning',\n",
       " 'Carport',\n",
       " 'Daginstitution',\n",
       " 'Dobbelthus',\n",
       " 'Drivhus',\n",
       " 'Etagebolig-bygning, flerfamiliehus eller to-familiehus',\n",
       " 'Faldefærdig bygning',\n",
       " 'Feriecenter, center til campingplads mv.',\n",
       " 'Forlystelsespark',\n",
       " 'Forsamlingshus',\n",
       " 'Fritliggende enfamiliehus',\n",
       " 'Fritliggende enfamiliehus i tæt-lav bebyggelse',\n",
       " 'Fritliggende overdækning',\n",
       " 'Fritliggende udestue',\n",
       " 'Garage',\n",
       " 'Grundskole',\n",
       " 'Havneanlæg',\n",
       " 'Hospice, behandlingshjem mv.',\n",
       " 'Hospital og sygehus',\n",
       " 'Hotel, kro eller konferencecenter med overnatning',\n",
       " 'Idrætshal',\n",
       " 'Kaserne',\n",
       " 'Kirke eller anden bygning til trosudøvelse for statsanerkendte trossamfund',\n",
       " 'Klubhus i forbindelse med fritid og idræt',\n",
       " 'Kollegium',\n",
       " 'Kolonihavehus',\n",
       " 'Lade til foder, afgrøder mv.',\n",
       " 'Lade til halm, hø mv.',\n",
       " 'Maskinhus,  garage mv.',\n",
       " 'Minkhal',\n",
       " 'Museum',\n",
       " 'Privat servicevirksomhed som frisør, vaskeri, netcafé mv.',\n",
       " 'Restaurant, café og konferencecenter uden overnatning',\n",
       " 'Række-, kæde- og klyngehus',\n",
       " 'Sammenbygget enfamiliehus',\n",
       " 'Servicefunktion på døgninstitution',\n",
       " 'Sommerhus',\n",
       " 'Stald til fjerkræ',\n",
       " 'Stald til kvæg, får mv.',\n",
       " 'Stald til svin',\n",
       " 'Stuehus til landbrugsejendom',\n",
       " 'Sundhedscenter, lægehus, fødeklinik mv.',\n",
       " 'Svømmehal',\n",
       " 'Tankstation',\n",
       " 'Tiloversbleven landbrugsbygning',\n",
       " 'Tribune i forbindelse med stadion',\n",
       " 'Udhus',\n",
       " 'Ukendt bygning',\n",
       " 'Universitet',\n",
       " 'Væksthus',\n",
       " 'Værksted'}"
      ]
     },
     "execution_count": 16,
     "metadata": {},
     "output_type": "execute_result"
    }
   ],
   "source": [
    "set(list_buildingUsage)"
   ]
  },
  {
   "cell_type": "code",
   "execution_count": 27,
   "metadata": {},
   "outputs": [
    {
     "name": "stdout",
     "output_type": "stream",
     "text": [
      "21570\n",
      "21571\n",
      "21572\n",
      "21574\n",
      "21575\n",
      "21576\n",
      "21577\n",
      "21579\n",
      "21582\n",
      "21585\n",
      "61578\n",
      "193138\n",
      "193289\n",
      "193290\n",
      "193295\n",
      "193296\n",
      "238274\n",
      "352363\n",
      "403886\n",
      "484991\n",
      "516012\n",
      "516012\n",
      "576348\n",
      "589549\n",
      "618075\n",
      "619822\n",
      "627003\n",
      "784802\n",
      "856829\n",
      "920140\n",
      "942302\n"
     ]
    }
   ],
   "source": [
    "index_counter = -1\n",
    "for item_list in data_additionarBuildingInfo['RAW_dictionary_additionalBuldingInfos']:\n",
    "    index_counter += 1\n",
    "\n",
    "    if isinstance(item_list,list) and item_list != '' and item_list != []:\n",
    "\n",
    "        for item_dictionary in item_list:\n",
    "\n",
    "            temp_buildingusage = item_dictionary['buildingUsage']\n",
    "            \n",
    "            if temp_buildingusage == '(UDFASES) Transport- og garageanlæg (fragtmandshal, lufthavnsbygning, banegårdsbygning, parkeringshus). Garage med plads til et eller to køretøjer registreres med anvendelseskode 910':\n",
    "                print(index_counter)"
   ]
  },
  {
   "cell_type": "code",
   "execution_count": 28,
   "metadata": {},
   "outputs": [
    {
     "data": {
      "text/plain": [
       "'e101d05a-7ef5-4e29-b6be-207f591fe6f7'"
      ]
     },
     "execution_count": 28,
     "metadata": {},
     "output_type": "execute_result"
    }
   ],
   "source": [
    "data_additionarBuildingInfo['RowID_MAIN_boliga_ROW_ID_unitID'][21570]"
   ]
  },
  {
   "cell_type": "markdown",
   "metadata": {},
   "source": [
    "## ---  COUNT NUMBER OF Udhus ! "
   ]
  },
  {
   "cell_type": "code",
   "execution_count": 48,
   "metadata": {},
   "outputs": [],
   "source": [
    "index_counter = -1\n",
    "udhus_counter_list = []\n",
    "for item_list in data_additionarBuildingInfo['RAW_dictionary_additionalBuldingInfos']:\n",
    "    index_counter += 1\n",
    "    udhus_counter = 0\n",
    "\n",
    "    if isinstance(item_list,list) and item_list != '' and item_list != []:\n",
    "\n",
    "        for item_dictionary in item_list:\n",
    "\n",
    "            temp_buildingusage = item_dictionary['buildingUsage']\n",
    "            \n",
    "            if temp_buildingusage == 'Udhus':\n",
    "                udhus_counter +=1\n",
    "        \n",
    "        udhus_counter_list.append(udhus_counter)\n",
    "\n"
   ]
  },
  {
   "cell_type": "code",
   "execution_count": 49,
   "metadata": {},
   "outputs": [
    {
     "name": "stdout",
     "output_type": "stream",
     "text": [
      "properties with 0 nr. of udhus : frequency= 371246 : \n",
      "properties with 1 nr. of udhus : frequency= 234673 : \n",
      "properties with 2 nr. of udhus : frequency= 44492 : \n",
      "properties with 5 nr. of udhus : frequency= 1632 : \n",
      "properties with 3 nr. of udhus : frequency= 11190 : \n",
      "properties with 42 nr. of udhus : frequency= 77 : \n",
      "properties with 99 nr. of udhus : frequency= 45 : \n",
      "properties with 4 nr. of udhus : frequency= 4156 : \n",
      "properties with 110 nr. of udhus : frequency= 37 : \n",
      "properties with 6 nr. of udhus : frequency= 1065 : \n",
      "properties with 8 nr. of udhus : frequency= 579 : \n",
      "properties with 86 nr. of udhus : frequency= 40 : \n",
      "properties with 65 nr. of udhus : frequency= 60 : \n",
      "properties with 7 nr. of udhus : frequency= 435 : \n",
      "properties with 22 nr. of udhus : frequency= 6 : \n",
      "properties with 74 nr. of udhus : frequency= 20 : \n",
      "properties with 124 nr. of udhus : frequency= 49 : \n",
      "properties with 16 nr. of udhus : frequency= 239 : \n",
      "properties with 10 nr. of udhus : frequency= 345 : \n",
      "properties with 9 nr. of udhus : frequency= 270 : \n",
      "properties with 111 nr. of udhus : frequency= 6 : \n",
      "properties with 57 nr. of udhus : frequency= 4 : \n",
      "properties with 38 nr. of udhus : frequency= 75 : \n",
      "properties with 17 nr. of udhus : frequency= 71 : \n",
      "properties with 79 nr. of udhus : frequency= 13 : \n",
      "properties with 52 nr. of udhus : frequency= 100 : \n",
      "properties with 40 nr. of udhus : frequency= 129 : \n",
      "properties with 21 nr. of udhus : frequency= 94 : \n",
      "properties with 34 nr. of udhus : frequency= 58 : \n",
      "properties with 14 nr. of udhus : frequency= 329 : \n",
      "properties with 18 nr. of udhus : frequency= 135 : \n",
      "properties with 24 nr. of udhus : frequency= 142 : \n",
      "properties with 47 nr. of udhus : frequency= 47 : \n",
      "properties with 62 nr. of udhus : frequency= 148 : \n",
      "properties with 20 nr. of udhus : frequency= 165 : \n",
      "properties with 25 nr. of udhus : frequency= 81 : \n",
      "properties with 13 nr. of udhus : frequency= 216 : \n",
      "properties with 32 nr. of udhus : frequency= 81 : \n",
      "properties with 49 nr. of udhus : frequency= 49 : \n",
      "properties with 23 nr. of udhus : frequency= 138 : \n",
      "properties with 50 nr. of udhus : frequency= 75 : \n",
      "properties with 29 nr. of udhus : frequency= 57 : \n",
      "properties with 11 nr. of udhus : frequency= 221 : \n",
      "properties with 19 nr. of udhus : frequency= 107 : \n",
      "properties with 12 nr. of udhus : frequency= 492 : \n",
      "properties with 51 nr. of udhus : frequency= 108 : \n",
      "properties with 48 nr. of udhus : frequency= 47 : \n",
      "properties with 37 nr. of udhus : frequency= 37 : \n",
      "properties with 33 nr. of udhus : frequency= 78 : \n",
      "properties with 27 nr. of udhus : frequency= 106 : \n",
      "properties with 31 nr. of udhus : frequency= 91 : \n",
      "properties with 55 nr. of udhus : frequency= 55 : \n",
      "properties with 15 nr. of udhus : frequency= 126 : \n",
      "properties with 30 nr. of udhus : frequency= 95 : \n",
      "properties with 39 nr. of udhus : frequency= 38 : \n",
      "properties with 35 nr. of udhus : frequency= 89 : \n",
      "properties with 77 nr. of udhus : frequency= 77 : \n",
      "properties with 73 nr. of udhus : frequency= 73 : \n",
      "properties with 41 nr. of udhus : frequency= 82 : \n",
      "properties with 66 nr. of udhus : frequency= 66 : \n",
      "properties with 26 nr. of udhus : frequency= 26 : \n",
      "properties with 60 nr. of udhus : frequency= 60 : \n",
      "properties with 43 nr. of udhus : frequency= 80 : \n",
      "properties with 44 nr. of udhus : frequency= 46 : \n"
     ]
    }
   ],
   "source": [
    "# Use Counter to count the frequency of each item in the list\n",
    "item_frequency = Counter(udhus_counter_list)\n",
    "\n",
    "# Display the frequency of each item\n",
    "for item, count in item_frequency.items():\n",
    "    print(f\"properties with {item} nr. of udhus : frequency= {count} : \")"
   ]
  },
  {
   "cell_type": "markdown",
   "metadata": {},
   "source": [
    "# ------ I will NOT NORMALIZE THE COLUMN \"RAW_dictionary_cadastralInfos\" \n",
    "#### Majority have 1 OR 0 ITEMS  but there are many with multiple land parts \n",
    "\n",
    ".\n",
    "\n",
    "# The plan : create the following variables: \n",
    "* create dummy if exists, count number of instances, total size \n",
    "    * Carport\n",
    "    * Udhus\n",
    "    * Garage\n",
    "    * Drivhus\n",
    "    * Maskinhus,  garage mv.\n",
    "    * Fritliggende overdækning\n",
    "    * Fritliggende udestue\n",
    "    * Bygning til lager\n",
    "    * Væksthus\n",
    "    * Bygning til parkering- og transportanlæg\n",
    "    * Bygning til parkering af flere end to køretøjer i tilknytning til boliger\n",
    "    * (UDFASES) Transport- og garageanlæg (fragtmandshal, lufthavnsbygning, banegårdsbygning, parkeringshus). Garage med plads til et eller to køretøjer    * registreres med anvendelseskode 910\n",
    "    * Svømmehal\n"
   ]
  },
  {
   "cell_type": "code",
   "execution_count": null,
   "metadata": {},
   "outputs": [],
   "source": [
    "# # normalize the column \n",
    "# normalized_data = json_normalize(data_cadastralInfo['RAW_dictionary_cadastralInfos'])\n",
    "\n",
    "# # concatenate the normalized data and the original dataset\n",
    "# data_cadastralInfo = pd.concat([data_cadastralInfo, normalized_data], axis=1)\n",
    "\n",
    "# data_cadastralInfo.info()"
   ]
  },
  {
   "cell_type": "code",
   "execution_count": 50,
   "metadata": {},
   "outputs": [
    {
     "data": {
      "text/plain": [
       "[{'buildingNumber': 4,\n",
       "  'buildingUsage': 'Lade til foder, afgrøder mv.',\n",
       "  'constructionYear': 1936,\n",
       "  'floorQuantity': 1,\n",
       "  'latesstRebuildYear': 1966,\n",
       "  'buildingArea': 120,\n",
       "  'businessArea': 120,\n",
       "  'livingArea': 120,\n",
       "  'conservationCode': '-',\n",
       "  'conservationWorthy': '-',\n",
       "  'heatingSupplyCode': 'Ingen varmeinstallation',\n",
       "  'outerWalls': 'Mursten',\n",
       "  'roof': 'Metal'},\n",
       " {'buildingNumber': 3,\n",
       "  'buildingUsage': 'Stald til kvæg, får mv.',\n",
       "  'constructionYear': 1975,\n",
       "  'floorQuantity': 1,\n",
       "  'latesstRebuildYear': 1993,\n",
       "  'buildingArea': 147,\n",
       "  'businessArea': 147,\n",
       "  'livingArea': 147,\n",
       "  'conservationCode': '-',\n",
       "  'conservationWorthy': '-',\n",
       "  'heatingSupplyCode': 'Ingen varmeinstallation',\n",
       "  'outerWalls': 'Mursten',\n",
       "  'roof': 'Fibercement herunder asbest'},\n",
       " {'buildingNumber': 2,\n",
       "  'buildingUsage': 'Stald til kvæg, får mv.',\n",
       "  'constructionYear': 1936,\n",
       "  'floorQuantity': 1,\n",
       "  'latesstRebuildYear': 1983,\n",
       "  'buildingArea': 245,\n",
       "  'businessArea': 245,\n",
       "  'livingArea': 245,\n",
       "  'conservationCode': '-',\n",
       "  'conservationWorthy': '-',\n",
       "  'heatingSupplyCode': 'Ingen varmeinstallation',\n",
       "  'outerWalls': 'Mursten',\n",
       "  'roof': 'Metal'},\n",
       " {'buildingNumber': 5,\n",
       "  'buildingUsage': 'Maskinhus,  garage mv.',\n",
       "  'constructionYear': 1974,\n",
       "  'floorQuantity': 1,\n",
       "  'latesstRebuildYear': 0,\n",
       "  'buildingArea': 224,\n",
       "  'businessArea': 224,\n",
       "  'livingArea': 224,\n",
       "  'conservationCode': '-',\n",
       "  'conservationWorthy': '-',\n",
       "  'heatingSupplyCode': 'Ingen varmeinstallation',\n",
       "  'outerWalls': 'Metal',\n",
       "  'roof': 'Fibercement herunder asbest'},\n",
       " {'buildingNumber': 6,\n",
       "  'buildingUsage': 'Garage',\n",
       "  'constructionYear': 1984,\n",
       "  'floorQuantity': 0,\n",
       "  'latesstRebuildYear': 0,\n",
       "  'buildingArea': 0,\n",
       "  'businessArea': 0,\n",
       "  'livingArea': 28,\n",
       "  'conservationCode': '-',\n",
       "  'conservationWorthy': '-',\n",
       "  'heatingSupplyCode': '-',\n",
       "  'outerWalls': 'Andet materiale',\n",
       "  'roof': 'Andet materiale'}]"
      ]
     },
     "execution_count": 50,
     "metadata": {},
     "output_type": "execute_result"
    }
   ],
   "source": [
    "data_additionarBuildingInfo['RAW_dictionary_additionalBuldingInfos'][4856]"
   ]
  },
  {
   "cell_type": "code",
   "execution_count": 51,
   "metadata": {},
   "outputs": [
    {
     "data": {
      "text/plain": [
       "'948aa560-a8ce-4995-8e3e-869887c4b366'"
      ]
     },
     "execution_count": 51,
     "metadata": {},
     "output_type": "execute_result"
    }
   ],
   "source": [
    "data_additionarBuildingInfo['RowID_MAIN_boliga_ROW_ID_unitID'][4856]"
   ]
  },
  {
   "cell_type": "code",
   "execution_count": 52,
   "metadata": {},
   "outputs": [
    {
     "name": "stdout",
     "output_type": "stream",
     "text": [
      "<class 'pandas.core.frame.DataFrame'>\n",
      "RangeIndex: 1031507 entries, 0 to 1031506\n",
      "Data columns (total 17 columns):\n",
      " #   Column                                  Non-Null Count    Dtype \n",
      "---  ------                                  --------------    ----- \n",
      " 0   RowID_MAIN_boliga_ROW_ID_unitID         1031507 non-null  object\n",
      " 1   RowID_propertyCode_bfeCode              1031507 non-null  int64 \n",
      " 2   RowID_municipalityCode                  1031507 non-null  int64 \n",
      " 3   RowID_propertyCode_esrCode              1031507 non-null  int64 \n",
      " 4   Address_info_addressString              1031507 non-null  object\n",
      " 5   Address_info_streetString               1031507 non-null  object\n",
      " 6   Address_info_houseNumber                1031507 non-null  object\n",
      " 7   Address_info_floorString                270077 non-null   object\n",
      " 8   Address_info_sideDoorNumber             215286 non-null   object\n",
      " 9   Address_info_zipString_code_and_name    1031507 non-null  object\n",
      " 10  Address_info_zipCode                    1031507 non-null  int64 \n",
      " 11  Feature_dummy_isApartment               1031507 non-null  bool  \n",
      " 12  Feature_categorical_propertyTypeNumber  1031507 non-null  int64 \n",
      " 13  Feature_Floor_level_of_property         270077 non-null   object\n",
      " 14  Feature_category_propertyTypeName       1031507 non-null  object\n",
      " 15  Feature_dummy_property_is_on_sale       1031507 non-null  bool  \n",
      " 16  RAW_dictionary_additionalBuldingInfos   1031507 non-null  object\n",
      "dtypes: bool(2), int64(5), object(10)\n",
      "memory usage: 120.0+ MB\n"
     ]
    }
   ],
   "source": [
    "data_additionarBuildingInfo.info()"
   ]
  },
  {
   "cell_type": "markdown",
   "metadata": {},
   "source": [
    "# ----- METHODS TO : CREATING DUMMIES, COUNTING AND TOTAL LIVING_AREA ---"
   ]
  },
  {
   "cell_type": "code",
   "execution_count": 95,
   "metadata": {},
   "outputs": [],
   "source": [
    "\n",
    "############################################################################################ METHOD: Create Dummy\n",
    "def dummy_exists(dictionary_list, BUILDING_CATEGORY_NAME):\n",
    "    temp_dummy_exists = 0\n",
    "    try:\n",
    "        if isinstance(dictionary_list, list) and dictionary_list !='' and dictionary_list != []:\n",
    "            for dictionary_item in dictionary_list:\n",
    "                temp_buildingUsage = dictionary_item['buildingUsage'].lower()\n",
    "\n",
    "                for BUILDING_CATEGORY in BUILDING_CATEGORY_NAME:\n",
    "                     if temp_buildingUsage == BUILDING_CATEGORY.lower():\n",
    "                         return 1\n",
    "                \n",
    "        # if empty list then return zero\n",
    "        # else:\n",
    "        #     return temp_dummy_exists\n",
    "\n",
    "    except (ValueError, SyntaxError) as e:\n",
    "        print(f\"Error decoding JSON: {e}\")\n",
    "        # return temp_dummy_exists\n",
    "    \n",
    "\n",
    "############################################################################################ METHOD: Count how many of the category exists on property\n",
    "def count_category(dictionary_list, BUILDING_CATEGORY_NAME):\n",
    "    temp_category_count = 0\n",
    "    try:\n",
    "        if isinstance(dictionary_list, list) and dictionary_list !='' and dictionary_list != []:\n",
    "            for dictionary_item in dictionary_list:\n",
    "                temp_buildingUsage = dictionary_item['buildingUsage'].lower()\n",
    "\n",
    "                for BUILDING_CATEGORY in BUILDING_CATEGORY_NAME:\n",
    "                     if temp_buildingUsage == BUILDING_CATEGORY.lower():\n",
    "                        temp_category_count+=1\n",
    "            \n",
    "            # return result after forloop\n",
    "            return temp_category_count\n",
    "                \n",
    "        # if empty list then return zero\n",
    "        # else:\n",
    "            # return temp_category_count\n",
    "\n",
    "    except (ValueError, SyntaxError) as e:\n",
    "        print(f\"Error decoding JSON: {e}\")\n",
    "        # return temp_category_count\n",
    "    \n",
    "############################################################################################ METHOD: Total living size area of all same category that exists on property (size of carport 1 + carport 2)\n",
    "def total_category_size(dictionary_list, BUILDING_CATEGORY_NAME):\n",
    "    temp_category_total_livingArea = 0\n",
    "    try:\n",
    "        if isinstance(dictionary_list, list) and dictionary_list !='' and dictionary_list != []:\n",
    "            for dictionary_item in dictionary_list:\n",
    "                temp_buildingUsage = dictionary_item['buildingUsage'].lower()\n",
    "\n",
    "                for BUILDING_CATEGORY in BUILDING_CATEGORY_NAME:\n",
    "                     if temp_buildingUsage == BUILDING_CATEGORY.lower():\n",
    "                        temp_category_total_livingArea+= dictionary_item['livingArea']\n",
    "            \n",
    "            # return result after forloop\n",
    "            return temp_category_total_livingArea\n",
    "                \n",
    "        # if empty list then return zero\n",
    "        # else:\n",
    "            # return temp_category_total_livingArea\n",
    "\n",
    "    except (ValueError, SyntaxError) as e:\n",
    "        print(f\"Error decoding JSON: {e}\")\n",
    "        # return temp_category_total_livingArea\n"
   ]
  },
  {
   "cell_type": "markdown",
   "metadata": {},
   "source": [
    "# --------------------- VARIABLES FOR : **Carport** ---------------------------------"
   ]
  },
  {
   "cell_type": "code",
   "execution_count": 82,
   "metadata": {},
   "outputs": [],
   "source": [
    "category_carport = ['carport']"
   ]
  },
  {
   "cell_type": "code",
   "execution_count": null,
   "metadata": {},
   "outputs": [],
   "source": [
    "additionarBuildingInfo_Carport_Exists_dummy\n",
    "0.0    356438\n",
    "1.0    248165\n",
    "Name: count, dtype: int64"
   ]
  },
  {
   "cell_type": "markdown",
   "metadata": {},
   "source": [
    "### ------ CREATE VARIABLE DUMMY VARIABLE - IF Carport EXISTS"
   ]
  },
  {
   "cell_type": "code",
   "execution_count": 84,
   "metadata": {},
   "outputs": [
    {
     "data": {
      "text/plain": [
       "additionarBuildingInfo_Carport_Exists_dummy\n",
       "0.0    783342\n",
       "1.0    248165\n",
       "Name: count, dtype: int64"
      ]
     },
     "execution_count": 84,
     "metadata": {},
     "output_type": "execute_result"
    }
   ],
   "source": [
    "data_additionarBuildingInfo['additionarBuildingInfo_Carport_Exists_dummy'] = 0\n",
    "data_additionarBuildingInfo['additionarBuildingInfo_Carport_Exists_dummy'] = data_additionarBuildingInfo['RAW_dictionary_additionalBuldingInfos'].apply(dummy_exists, args=(category_carport,))\n",
    "# replace na with zero \n",
    "data_additionarBuildingInfo['additionarBuildingInfo_Carport_Exists_dummy'] = data_additionarBuildingInfo['additionarBuildingInfo_Carport_Exists_dummy'].fillna(0)\n",
    "\n",
    "data_additionarBuildingInfo['additionarBuildingInfo_Carport_Exists_dummy'].value_counts()"
   ]
  },
  {
   "cell_type": "markdown",
   "metadata": {},
   "source": [
    "### ------ CREATE VARIABLE COUNT VARIABLE - NUMBER OF CARPORTS "
   ]
  },
  {
   "cell_type": "code",
   "execution_count": 85,
   "metadata": {},
   "outputs": [
    {
     "data": {
      "text/plain": [
       "additionarBuildingInfo_numberOf_Carports_on_property\n",
       "0.0     783342\n",
       "1.0     239011\n",
       "2.0       5827\n",
       "3.0        366\n",
       "4.0        366\n",
       "6.0        185\n",
       "12.0       175\n",
       "22.0       171\n",
       "15.0       141\n",
       "5.0        119\n",
       "8.0         97\n",
       "13.0        95\n",
       "47.0        94\n",
       "11.0        91\n",
       "9.0         90\n",
       "24.0        89\n",
       "20.0        82\n",
       "75.0        75\n",
       "25.0        72\n",
       "10.0        69\n",
       "7.0         65\n",
       "53.0        61\n",
       "39.0        57\n",
       "18.0        54\n",
       "26.0        52\n",
       "16.0        52\n",
       "50.0        49\n",
       "17.0        49\n",
       "19.0        49\n",
       "27.0        47\n",
       "46.0        46\n",
       "57.0        45\n",
       "41.0        41\n",
       "31.0        40\n",
       "59.0        37\n",
       "36.0        36\n",
       "34.0        34\n",
       "33.0        33\n",
       "30.0        31\n",
       "14.0        28\n",
       "23.0        23\n",
       "21.0        21\n",
       "Name: count, dtype: int64"
      ]
     },
     "execution_count": 85,
     "metadata": {},
     "output_type": "execute_result"
    }
   ],
   "source": [
    "data_additionarBuildingInfo['additionarBuildingInfo_numberOf_Carports_on_property'] = 0\n",
    "data_additionarBuildingInfo['additionarBuildingInfo_numberOf_Carports_on_property'] = data_additionarBuildingInfo['RAW_dictionary_additionalBuldingInfos'].apply(count_category, args=(category_carport,))\n",
    "# replace na with zero \n",
    "data_additionarBuildingInfo['additionarBuildingInfo_numberOf_Carports_on_property'] = data_additionarBuildingInfo['additionarBuildingInfo_numberOf_Carports_on_property'].fillna(0)\n",
    "\n",
    "# show result\n",
    "data_additionarBuildingInfo['additionarBuildingInfo_numberOf_Carports_on_property'].value_counts()"
   ]
  },
  {
   "cell_type": "markdown",
   "metadata": {},
   "source": [
    "### ------ CREATE VARIABLE TOTAL SIZE OF CATEGORY (e.g. carport) VARIABLE - sums up all the sizes of a category (carport 1 + carport 2)"
   ]
  },
  {
   "cell_type": "code",
   "execution_count": 86,
   "metadata": {},
   "outputs": [
    {
     "data": {
      "text/plain": [
       "additionarBuildingInfo_Carport_Total_size_sumedUp\n",
       "0.0      783347\n",
       "20.0      11519\n",
       "24.0      10063\n",
       "18.0       9564\n",
       "30.0       9535\n",
       "          ...  \n",
       "198.0         1\n",
       "185.0         1\n",
       "391.0         1\n",
       "177.0         1\n",
       "265.0         1\n",
       "Name: count, Length: 289, dtype: int64"
      ]
     },
     "execution_count": 86,
     "metadata": {},
     "output_type": "execute_result"
    }
   ],
   "source": [
    "data_additionarBuildingInfo['additionarBuildingInfo_Carport_Total_size_sumedUp'] = 0\n",
    "data_additionarBuildingInfo['additionarBuildingInfo_Carport_Total_size_sumedUp'] = data_additionarBuildingInfo['RAW_dictionary_additionalBuldingInfos'].apply(total_category_size, args=(category_carport,))\n",
    "# replace na with zero \n",
    "data_additionarBuildingInfo['additionarBuildingInfo_Carport_Total_size_sumedUp'] = data_additionarBuildingInfo['additionarBuildingInfo_Carport_Total_size_sumedUp'].fillna(0)\n",
    "\n",
    "# display result\n",
    "data_additionarBuildingInfo['additionarBuildingInfo_Carport_Total_size_sumedUp'].value_counts()"
   ]
  },
  {
   "cell_type": "markdown",
   "metadata": {},
   "source": [
    "# --------------------- VARIABLES FOR : **Udhus (outhouse)** ---------------------------------"
   ]
  },
  {
   "cell_type": "code",
   "execution_count": 89,
   "metadata": {},
   "outputs": [
    {
     "name": "stdout",
     "output_type": "stream",
     "text": [
      "############ dummy:\n"
     ]
    },
    {
     "data": {
      "text/plain": [
       "additionarBuildingInfo_Outhouse_Exists_dummy\n",
       "0.0    727684\n",
       "1.0    303823\n",
       "Name: count, dtype: int64"
      ]
     },
     "metadata": {},
     "output_type": "display_data"
    },
    {
     "name": "stdout",
     "output_type": "stream",
     "text": [
      "############ frequency/Count:\n"
     ]
    },
    {
     "data": {
      "text/plain": [
       "additionarBuildingInfo_numberOf_Outhouse_on_property\n",
       "0.0      727684\n",
       "1.0      234673\n",
       "2.0       44492\n",
       "3.0       11190\n",
       "4.0        4156\n",
       "          ...  \n",
       "74.0         20\n",
       "79.0         13\n",
       "111.0         6\n",
       "22.0          6\n",
       "57.0          4\n",
       "Name: count, Length: 64, dtype: int64"
      ]
     },
     "metadata": {},
     "output_type": "display_data"
    },
    {
     "name": "stdout",
     "output_type": "stream",
     "text": [
      "############ total size:\n"
     ]
    },
    {
     "data": {
      "text/plain": [
       "additionarBuildingInfo_Outhouse_Total_size_sumedUp\n",
       "0.0       727698\n",
       "10.0       15362\n",
       "12.0       12613\n",
       "6.0        12077\n",
       "9.0        10917\n",
       "           ...  \n",
       "993.0          1\n",
       "831.0          1\n",
       "2045.0         1\n",
       "1426.0         1\n",
       "1832.0         1\n",
       "Name: count, Length: 1326, dtype: int64"
      ]
     },
     "metadata": {},
     "output_type": "display_data"
    }
   ],
   "source": [
    "category = ['udhus']\n",
    "\n",
    "# ------------------------- DUMMY IF CATEGORY EXISTS\n",
    "data_additionarBuildingInfo['additionarBuildingInfo_Outhouse_Exists_dummy'] = 0\n",
    "data_additionarBuildingInfo['additionarBuildingInfo_Outhouse_Exists_dummy'] = data_additionarBuildingInfo['RAW_dictionary_additionalBuldingInfos'].apply(dummy_exists, args=(category,))\n",
    "# replace na with zero \n",
    "data_additionarBuildingInfo['additionarBuildingInfo_Outhouse_Exists_dummy'] = data_additionarBuildingInfo['additionarBuildingInfo_Outhouse_Exists_dummy'].fillna(0)\n",
    "print('############ dummy:')\n",
    "display(data_additionarBuildingInfo['additionarBuildingInfo_Outhouse_Exists_dummy'].value_counts())\n",
    "\n",
    "\n",
    "# ------------------------- COUNT OF TOTAL NUMBER OF THE CATEGORY ON PROPERTY\n",
    "data_additionarBuildingInfo['additionarBuildingInfo_numberOf_Outhouse_on_property'] = 0\n",
    "data_additionarBuildingInfo['additionarBuildingInfo_numberOf_Outhouse_on_property'] = data_additionarBuildingInfo['RAW_dictionary_additionalBuldingInfos'].apply(count_category, args=(category,))\n",
    "# replace na with zero \n",
    "data_additionarBuildingInfo['additionarBuildingInfo_numberOf_Outhouse_on_property'] = data_additionarBuildingInfo['additionarBuildingInfo_numberOf_Outhouse_on_property'].fillna(0)\n",
    "\n",
    "print('############ frequency/Count:')\n",
    "display(data_additionarBuildingInfo['additionarBuildingInfo_numberOf_Outhouse_on_property'].value_counts())\n",
    "\n",
    "# ------------------------- TOTAL SIZE OF CATEGORY\n",
    "data_additionarBuildingInfo['additionarBuildingInfo_Outhouse_Total_size_sumedUp'] = 0\n",
    "data_additionarBuildingInfo['additionarBuildingInfo_Outhouse_Total_size_sumedUp'] = data_additionarBuildingInfo['RAW_dictionary_additionalBuldingInfos'].apply(total_category_size, args=(category,))\n",
    "# replace na with zero \n",
    "data_additionarBuildingInfo['additionarBuildingInfo_Outhouse_Total_size_sumedUp'] = data_additionarBuildingInfo['additionarBuildingInfo_Outhouse_Total_size_sumedUp'].fillna(0)\n",
    "\n",
    "print('############ total size:')\n",
    "display(data_additionarBuildingInfo['additionarBuildingInfo_Outhouse_Total_size_sumedUp'].value_counts())"
   ]
  },
  {
   "cell_type": "markdown",
   "metadata": {},
   "source": [
    "# --------------------- VARIABLES FOR : **Garage** ---------------------------------"
   ]
  },
  {
   "cell_type": "code",
   "execution_count": 96,
   "metadata": {},
   "outputs": [
    {
     "name": "stdout",
     "output_type": "stream",
     "text": [
      "############ dummy:\n"
     ]
    },
    {
     "data": {
      "text/plain": [
       "additionarBuildingInfo_Garage_Exists_dummy\n",
       "0.0    782460\n",
       "1.0    249047\n",
       "Name: count, dtype: int64"
      ]
     },
     "metadata": {},
     "output_type": "display_data"
    },
    {
     "name": "stdout",
     "output_type": "stream",
     "text": [
      "############ frequency/Count:\n"
     ]
    },
    {
     "data": {
      "text/plain": [
       "additionarBuildingInfo_numberOf_Garage_on_property\n",
       "0.0     782460\n",
       "1.0     232715\n",
       "2.0      12395\n",
       "3.0       2560\n",
       "4.0        770\n",
       "5.0        263\n",
       "6.0        172\n",
       "8.0         75\n",
       "11.0        42\n",
       "7.0         27\n",
       "18.0        18\n",
       "10.0         5\n",
       "9.0          3\n",
       "17.0         1\n",
       "20.0         1\n",
       "Name: count, dtype: int64"
      ]
     },
     "metadata": {},
     "output_type": "display_data"
    },
    {
     "name": "stdout",
     "output_type": "stream",
     "text": [
      "############ total size:\n"
     ]
    },
    {
     "data": {
      "text/plain": [
       "additionarBuildingInfo_Garage_Total_size_sumedUp\n",
       "0.0       782468\n",
       "20.0       10662\n",
       "30.0       10156\n",
       "32.0       10021\n",
       "24.0        9141\n",
       "           ...  \n",
       "2201.0         1\n",
       "1887.0         1\n",
       "2070.0         1\n",
       "2967.0         1\n",
       "2515.0         1\n",
       "Name: count, Length: 1906, dtype: int64"
      ]
     },
     "metadata": {},
     "output_type": "display_data"
    }
   ],
   "source": [
    "category = [\n",
    "    'Garage',\n",
    "    'Maskinhus,  garage mv.'\n",
    "]\n",
    "\n",
    "# ------------------------- DUMMY IF CATEGORY EXISTS\n",
    "data_additionarBuildingInfo['additionarBuildingInfo_Garage_Exists_dummy'] = 0\n",
    "data_additionarBuildingInfo['additionarBuildingInfo_Garage_Exists_dummy'] = data_additionarBuildingInfo['RAW_dictionary_additionalBuldingInfos'].apply(dummy_exists, args=(category,))\n",
    "# replace na with zero \n",
    "data_additionarBuildingInfo['additionarBuildingInfo_Garage_Exists_dummy'] = data_additionarBuildingInfo['additionarBuildingInfo_Garage_Exists_dummy'].fillna(0)\n",
    "print('############ dummy:')\n",
    "display(data_additionarBuildingInfo['additionarBuildingInfo_Garage_Exists_dummy'].value_counts())\n",
    "\n",
    "\n",
    "# ------------------------- COUNT OF TOTAL NUMBER OF THE CATEGORY ON PROPERTY\n",
    "data_additionarBuildingInfo['additionarBuildingInfo_numberOf_Garage_on_property'] = 0\n",
    "data_additionarBuildingInfo['additionarBuildingInfo_numberOf_Garage_on_property'] = data_additionarBuildingInfo['RAW_dictionary_additionalBuldingInfos'].apply(count_category, args=(category,))\n",
    "# replace na with zero \n",
    "data_additionarBuildingInfo['additionarBuildingInfo_numberOf_Garage_on_property'] = data_additionarBuildingInfo['additionarBuildingInfo_numberOf_Garage_on_property'].fillna(0)\n",
    "\n",
    "print('############ frequency/Count:')\n",
    "display(data_additionarBuildingInfo['additionarBuildingInfo_numberOf_Garage_on_property'].value_counts())\n",
    "\n",
    "# ------------------------- TOTAL SIZE OF CATEGORY\n",
    "data_additionarBuildingInfo['additionarBuildingInfo_Garage_Total_size_sumedUp'] = 0\n",
    "data_additionarBuildingInfo['additionarBuildingInfo_Garage_Total_size_sumedUp'] = data_additionarBuildingInfo['RAW_dictionary_additionalBuldingInfos'].apply(total_category_size, args=(category,))\n",
    "# replace na with zero \n",
    "data_additionarBuildingInfo['additionarBuildingInfo_Garage_Total_size_sumedUp'] = data_additionarBuildingInfo['additionarBuildingInfo_Garage_Total_size_sumedUp'].fillna(0)\n",
    "\n",
    "print('############ total size:')\n",
    "display(data_additionarBuildingInfo['additionarBuildingInfo_Garage_Total_size_sumedUp'].value_counts())"
   ]
  },
  {
   "cell_type": "markdown",
   "metadata": {},
   "source": [
    "# --------------------- VARIABLES FOR : **GreenHouse** ---------------------------------"
   ]
  },
  {
   "cell_type": "code",
   "execution_count": 98,
   "metadata": {},
   "outputs": [
    {
     "name": "stdout",
     "output_type": "stream",
     "text": [
      "############ dummy:\n"
     ]
    },
    {
     "data": {
      "text/plain": [
       "additionarBuildingInfo_GreenHouse_Exists_dummy\n",
       "0.0    1007109\n",
       "1.0      24398\n",
       "Name: count, dtype: int64"
      ]
     },
     "metadata": {},
     "output_type": "display_data"
    },
    {
     "name": "stdout",
     "output_type": "stream",
     "text": [
      "############ frequency/Count:\n"
     ]
    },
    {
     "data": {
      "text/plain": [
       "additionarBuildingInfo_numberOf_GreenHouse_on_property\n",
       "0.0     1007109\n",
       "1.0       23206\n",
       "2.0         902\n",
       "3.0          93\n",
       "6.0          92\n",
       "4.0          26\n",
       "22.0         24\n",
       "5.0          23\n",
       "9.0           9\n",
       "11.0          5\n",
       "8.0           4\n",
       "7.0           4\n",
       "12.0          4\n",
       "10.0          3\n",
       "38.0          1\n",
       "17.0          1\n",
       "18.0          1\n",
       "Name: count, dtype: int64"
      ]
     },
     "metadata": {},
     "output_type": "display_data"
    },
    {
     "name": "stdout",
     "output_type": "stream",
     "text": [
      "############ total size:\n"
     ]
    },
    {
     "data": {
      "text/plain": [
       "additionarBuildingInfo_GreenHouse_Total_size_sumedUp\n",
       "0.0       1007109\n",
       "10.0         4552\n",
       "9.0          2819\n",
       "8.0          1988\n",
       "6.0          1824\n",
       "           ...   \n",
       "960.0           1\n",
       "1190.0          1\n",
       "866.0           1\n",
       "156.0           1\n",
       "1480.0          1\n",
       "Name: count, Length: 405, dtype: int64"
      ]
     },
     "metadata": {},
     "output_type": "display_data"
    }
   ],
   "source": [
    "category = [\n",
    " 'Drivhus',\n",
    " 'Væksthus'\n",
    "]\n",
    "\n",
    "variable_name = 'GreenHouse'\n",
    "\n",
    "# ------------------------- DUMMY IF CATEGORY EXISTS\n",
    "dummy_name = f'additionarBuildingInfo_{variable_name}_Exists_dummy'\n",
    "\n",
    "data_additionarBuildingInfo[dummy_name] = 0\n",
    "data_additionarBuildingInfo[dummy_name] = data_additionarBuildingInfo['RAW_dictionary_additionalBuldingInfos'].apply(dummy_exists, args=(category,))\n",
    "# replace na with zero \n",
    "data_additionarBuildingInfo[dummy_name] = data_additionarBuildingInfo[dummy_name].fillna(0)\n",
    "print('############ dummy:')\n",
    "display(data_additionarBuildingInfo[dummy_name].value_counts())\n",
    "\n",
    "\n",
    "# ------------------------- COUNT OF TOTAL NUMBER OF THE CATEGORY ON PROPERTY\n",
    "count_name = f'additionarBuildingInfo_numberOf_{variable_name}_on_property'\n",
    "\n",
    "data_additionarBuildingInfo[count_name] = 0\n",
    "data_additionarBuildingInfo[count_name] = data_additionarBuildingInfo['RAW_dictionary_additionalBuldingInfos'].apply(count_category, args=(category,))\n",
    "# replace na with zero \n",
    "data_additionarBuildingInfo[count_name] = data_additionarBuildingInfo[count_name].fillna(0)\n",
    "\n",
    "print('############ frequency/Count:')\n",
    "display(data_additionarBuildingInfo[count_name].value_counts())\n",
    "\n",
    "# ------------------------- TOTAL SIZE OF CATEGORY\n",
    "size_name = f'additionarBuildingInfo_{variable_name}_Total_size_sumedUp'\n",
    "\n",
    "data_additionarBuildingInfo[size_name] = 0\n",
    "data_additionarBuildingInfo[size_name] = data_additionarBuildingInfo['RAW_dictionary_additionalBuldingInfos'].apply(total_category_size, args=(category,))\n",
    "# replace na with zero \n",
    "data_additionarBuildingInfo[size_name] = data_additionarBuildingInfo[size_name].fillna(0)\n",
    "\n",
    "print('############ total size:')\n",
    "display(data_additionarBuildingInfo[size_name].value_counts())"
   ]
  },
  {
   "cell_type": "markdown",
   "metadata": {},
   "source": [
    "# --------------------- VARIABLES FOR : **Detached roof covering** ---------------------------------"
   ]
  },
  {
   "cell_type": "code",
   "execution_count": 99,
   "metadata": {},
   "outputs": [
    {
     "name": "stdout",
     "output_type": "stream",
     "text": [
      "############ dummy:\n"
     ]
    },
    {
     "data": {
      "text/plain": [
       "additionarBuildingInfo_DetachedRoofCovering_Exists_dummy\n",
       "0.0    1017943\n",
       "1.0      13564\n",
       "Name: count, dtype: int64"
      ]
     },
     "metadata": {},
     "output_type": "display_data"
    },
    {
     "name": "stdout",
     "output_type": "stream",
     "text": [
      "############ frequency/Count:\n"
     ]
    },
    {
     "data": {
      "text/plain": [
       "additionarBuildingInfo_numberOf_DetachedRoofCovering_on_property\n",
       "0.0     1017943\n",
       "1.0       11960\n",
       "2.0        1308\n",
       "3.0         145\n",
       "5.0         113\n",
       "4.0          32\n",
       "6.0           5\n",
       "12.0          1\n",
       "Name: count, dtype: int64"
      ]
     },
     "metadata": {},
     "output_type": "display_data"
    },
    {
     "name": "stdout",
     "output_type": "stream",
     "text": [
      "############ total size:\n"
     ]
    },
    {
     "data": {
      "text/plain": [
       "additionarBuildingInfo_DetachedRoofCovering_Total_size_sumedUp\n",
       "0.0      1017943\n",
       "15.0         729\n",
       "10.0         723\n",
       "12.0         714\n",
       "9.0          607\n",
       "          ...   \n",
       "400.0          1\n",
       "107.0          1\n",
       "570.0          1\n",
       "137.0          1\n",
       "230.0          1\n",
       "Name: count, Length: 236, dtype: int64"
      ]
     },
     "metadata": {},
     "output_type": "display_data"
    }
   ],
   "source": [
    "category = [\n",
    "    'Fritliggende overdækning'\n",
    "]\n",
    "\n",
    "variable_name = 'DetachedRoofCovering'\n",
    "\n",
    "# ------------------------- DUMMY IF CATEGORY EXISTS\n",
    "dummy_name = f'additionarBuildingInfo_{variable_name}_Exists_dummy'\n",
    "\n",
    "data_additionarBuildingInfo[dummy_name] = 0\n",
    "data_additionarBuildingInfo[dummy_name] = data_additionarBuildingInfo['RAW_dictionary_additionalBuldingInfos'].apply(dummy_exists, args=(category,))\n",
    "# replace na with zero \n",
    "data_additionarBuildingInfo[dummy_name] = data_additionarBuildingInfo[dummy_name].fillna(0)\n",
    "print('############ dummy:')\n",
    "display(data_additionarBuildingInfo[dummy_name].value_counts())\n",
    "\n",
    "\n",
    "# ------------------------- COUNT OF TOTAL NUMBER OF THE CATEGORY ON PROPERTY\n",
    "count_name = f'additionarBuildingInfo_numberOf_{variable_name}_on_property'\n",
    "\n",
    "data_additionarBuildingInfo[count_name] = 0\n",
    "data_additionarBuildingInfo[count_name] = data_additionarBuildingInfo['RAW_dictionary_additionalBuldingInfos'].apply(count_category, args=(category,))\n",
    "# replace na with zero \n",
    "data_additionarBuildingInfo[count_name] = data_additionarBuildingInfo[count_name].fillna(0)\n",
    "\n",
    "print('############ frequency/Count:')\n",
    "display(data_additionarBuildingInfo[count_name].value_counts())\n",
    "\n",
    "# ------------------------- TOTAL SIZE OF CATEGORY\n",
    "size_name = f'additionarBuildingInfo_{variable_name}_Total_size_sumedUp'\n",
    "\n",
    "data_additionarBuildingInfo[size_name] = 0\n",
    "data_additionarBuildingInfo[size_name] = data_additionarBuildingInfo['RAW_dictionary_additionalBuldingInfos'].apply(total_category_size, args=(category,))\n",
    "# replace na with zero \n",
    "data_additionarBuildingInfo[size_name] = data_additionarBuildingInfo[size_name].fillna(0)\n",
    "\n",
    "print('############ total size:')\n",
    "display(data_additionarBuildingInfo[size_name].value_counts())"
   ]
  },
  {
   "cell_type": "markdown",
   "metadata": {},
   "source": [
    "# --------------------- VARIABLES FOR : **Detached conservatory** ---------------------------------"
   ]
  },
  {
   "cell_type": "code",
   "execution_count": 100,
   "metadata": {},
   "outputs": [
    {
     "name": "stdout",
     "output_type": "stream",
     "text": [
      "############ dummy:\n"
     ]
    },
    {
     "data": {
      "text/plain": [
       "additionarBuildingInfo_DetachedConservatory_Exists_dummy\n",
       "0.0    1029379\n",
       "1.0       2128\n",
       "Name: count, dtype: int64"
      ]
     },
     "metadata": {},
     "output_type": "display_data"
    },
    {
     "name": "stdout",
     "output_type": "stream",
     "text": [
      "############ frequency/Count:\n"
     ]
    },
    {
     "data": {
      "text/plain": [
       "additionarBuildingInfo_numberOf_DetachedConservatory_on_property\n",
       "0.0    1029379\n",
       "1.0       2105\n",
       "2.0         23\n",
       "Name: count, dtype: int64"
      ]
     },
     "metadata": {},
     "output_type": "display_data"
    },
    {
     "name": "stdout",
     "output_type": "stream",
     "text": [
      "############ total size:\n"
     ]
    },
    {
     "data": {
      "text/plain": [
       "additionarBuildingInfo_DetachedConservatory_Total_size_sumedUp\n",
       "0.0      1029379\n",
       "10.0         193\n",
       "9.0          153\n",
       "12.0         133\n",
       "20.0         127\n",
       "          ...   \n",
       "115.0          1\n",
       "56.0           1\n",
       "93.0           1\n",
       "92.0           1\n",
       "206.0          1\n",
       "Name: count, Length: 88, dtype: int64"
      ]
     },
     "metadata": {},
     "output_type": "display_data"
    }
   ],
   "source": [
    "category = [\n",
    "     'Fritliggende udestue'\n",
    "]\n",
    "\n",
    "\n",
    "variable_name = 'DetachedConservatory'\n",
    "\n",
    "# ------------------------- DUMMY IF CATEGORY EXISTS\n",
    "dummy_name = f'additionarBuildingInfo_{variable_name}_Exists_dummy'\n",
    "\n",
    "data_additionarBuildingInfo[dummy_name] = 0\n",
    "data_additionarBuildingInfo[dummy_name] = data_additionarBuildingInfo['RAW_dictionary_additionalBuldingInfos'].apply(dummy_exists, args=(category,))\n",
    "# replace na with zero \n",
    "data_additionarBuildingInfo[dummy_name] = data_additionarBuildingInfo[dummy_name].fillna(0)\n",
    "print('############ dummy:')\n",
    "display(data_additionarBuildingInfo[dummy_name].value_counts())\n",
    "\n",
    "\n",
    "# ------------------------- COUNT OF TOTAL NUMBER OF THE CATEGORY ON PROPERTY\n",
    "count_name = f'additionarBuildingInfo_numberOf_{variable_name}_on_property'\n",
    "\n",
    "data_additionarBuildingInfo[count_name] = 0\n",
    "data_additionarBuildingInfo[count_name] = data_additionarBuildingInfo['RAW_dictionary_additionalBuldingInfos'].apply(count_category, args=(category,))\n",
    "# replace na with zero \n",
    "data_additionarBuildingInfo[count_name] = data_additionarBuildingInfo[count_name].fillna(0)\n",
    "\n",
    "print('############ frequency/Count:')\n",
    "display(data_additionarBuildingInfo[count_name].value_counts())\n",
    "\n",
    "# ------------------------- TOTAL SIZE OF CATEGORY\n",
    "size_name = f'additionarBuildingInfo_{variable_name}_Total_size_sumedUp'\n",
    "\n",
    "data_additionarBuildingInfo[size_name] = 0\n",
    "data_additionarBuildingInfo[size_name] = data_additionarBuildingInfo['RAW_dictionary_additionalBuldingInfos'].apply(total_category_size, args=(category,))\n",
    "# replace na with zero \n",
    "data_additionarBuildingInfo[size_name] = data_additionarBuildingInfo[size_name].fillna(0)\n",
    "\n",
    "print('############ total size:')\n",
    "display(data_additionarBuildingInfo[size_name].value_counts())"
   ]
  },
  {
   "cell_type": "markdown",
   "metadata": {},
   "source": [
    "# --------------------- VARIABLES FOR : ** Building for storage** ---------------------------------"
   ]
  },
  {
   "cell_type": "code",
   "execution_count": 101,
   "metadata": {},
   "outputs": [
    {
     "name": "stdout",
     "output_type": "stream",
     "text": [
      "############ dummy:\n"
     ]
    },
    {
     "data": {
      "text/plain": [
       "additionarBuildingInfo_StorageBuilding_Exists_dummy\n",
       "0.0    1023162\n",
       "1.0       8345\n",
       "Name: count, dtype: int64"
      ]
     },
     "metadata": {},
     "output_type": "display_data"
    },
    {
     "name": "stdout",
     "output_type": "stream",
     "text": [
      "############ frequency/Count:\n"
     ]
    },
    {
     "data": {
      "text/plain": [
       "additionarBuildingInfo_numberOf_StorageBuilding_on_property\n",
       "0.0     1023162\n",
       "1.0        6295\n",
       "2.0        1238\n",
       "3.0         464\n",
       "4.0         190\n",
       "5.0          66\n",
       "6.0          51\n",
       "7.0          20\n",
       "16.0          5\n",
       "9.0           4\n",
       "8.0           4\n",
       "13.0          3\n",
       "12.0          2\n",
       "17.0          2\n",
       "11.0          1\n",
       "Name: count, dtype: int64"
      ]
     },
     "metadata": {},
     "output_type": "display_data"
    },
    {
     "name": "stdout",
     "output_type": "stream",
     "text": [
      "############ total size:\n"
     ]
    },
    {
     "data": {
      "text/plain": [
       "additionarBuildingInfo_StorageBuilding_Total_size_sumedUp\n",
       "0.0       1023162\n",
       "15.0          256\n",
       "60.0          137\n",
       "56.0           93\n",
       "130.0          86\n",
       "           ...   \n",
       "1921.0          1\n",
       "1462.0          1\n",
       "1015.0          1\n",
       "2902.0          1\n",
       "2400.0          1\n",
       "Name: count, Length: 1289, dtype: int64"
      ]
     },
     "metadata": {},
     "output_type": "display_data"
    }
   ],
   "source": [
    "category = [\n",
    "     'Bygning til lager'\n",
    "]\n",
    "\n",
    "\n",
    "variable_name = 'StorageBuilding'\n",
    "\n",
    "# ------------------------- DUMMY IF CATEGORY EXISTS\n",
    "dummy_name = f'additionarBuildingInfo_{variable_name}_Exists_dummy'\n",
    "\n",
    "data_additionarBuildingInfo[dummy_name] = 0\n",
    "data_additionarBuildingInfo[dummy_name] = data_additionarBuildingInfo['RAW_dictionary_additionalBuldingInfos'].apply(dummy_exists, args=(category,))\n",
    "# replace na with zero \n",
    "data_additionarBuildingInfo[dummy_name] = data_additionarBuildingInfo[dummy_name].fillna(0)\n",
    "print('############ dummy:')\n",
    "display(data_additionarBuildingInfo[dummy_name].value_counts())\n",
    "\n",
    "\n",
    "# ------------------------- COUNT OF TOTAL NUMBER OF THE CATEGORY ON PROPERTY\n",
    "count_name = f'additionarBuildingInfo_numberOf_{variable_name}_on_property'\n",
    "\n",
    "data_additionarBuildingInfo[count_name] = 0\n",
    "data_additionarBuildingInfo[count_name] = data_additionarBuildingInfo['RAW_dictionary_additionalBuldingInfos'].apply(count_category, args=(category,))\n",
    "# replace na with zero \n",
    "data_additionarBuildingInfo[count_name] = data_additionarBuildingInfo[count_name].fillna(0)\n",
    "\n",
    "print('############ frequency/Count:')\n",
    "display(data_additionarBuildingInfo[count_name].value_counts())\n",
    "\n",
    "# ------------------------- TOTAL SIZE OF CATEGORY\n",
    "size_name = f'additionarBuildingInfo_{variable_name}_Total_size_sumedUp'\n",
    "\n",
    "data_additionarBuildingInfo[size_name] = 0\n",
    "data_additionarBuildingInfo[size_name] = data_additionarBuildingInfo['RAW_dictionary_additionalBuldingInfos'].apply(total_category_size, args=(category,))\n",
    "# replace na with zero \n",
    "data_additionarBuildingInfo[size_name] = data_additionarBuildingInfo[size_name].fillna(0)\n",
    "\n",
    "print('############ total size:')\n",
    "display(data_additionarBuildingInfo[size_name].value_counts())"
   ]
  },
  {
   "cell_type": "code",
   "execution_count": null,
   "metadata": {},
   "outputs": [],
   "source": [
    "# --------------------- VARIABLES FOR : ** ** ---------------------------------"
   ]
  },
  {
   "cell_type": "code",
   "execution_count": 102,
   "metadata": {},
   "outputs": [
    {
     "name": "stdout",
     "output_type": "stream",
     "text": [
      "############ dummy:\n"
     ]
    },
    {
     "data": {
      "text/plain": [
       "additionarBuildingInfo_ParkingSpace_Exists_dummy\n",
       "0.0    1025770\n",
       "1.0       5737\n",
       "Name: count, dtype: int64"
      ]
     },
     "metadata": {},
     "output_type": "display_data"
    },
    {
     "name": "stdout",
     "output_type": "stream",
     "text": [
      "############ frequency/Count:\n"
     ]
    },
    {
     "data": {
      "text/plain": [
       "additionarBuildingInfo_numberOf_ParkingSpace_on_property\n",
       "0.0    1025770\n",
       "1.0       4904\n",
       "2.0        701\n",
       "3.0        107\n",
       "5.0         12\n",
       "6.0          8\n",
       "4.0          4\n",
       "7.0          1\n",
       "Name: count, dtype: int64"
      ]
     },
     "metadata": {},
     "output_type": "display_data"
    },
    {
     "name": "stdout",
     "output_type": "stream",
     "text": [
      "############ total size:\n"
     ]
    },
    {
     "data": {
      "text/plain": [
       "additionarBuildingInfo_ParkingSpace_Total_size_sumedUp\n",
       "0.0      1025770\n",
       "80.0         113\n",
       "140.0         98\n",
       "147.0         93\n",
       "81.0          92\n",
       "          ...   \n",
       "656.0          1\n",
       "721.0          1\n",
       "346.0          1\n",
       "489.0          1\n",
       "800.0          1\n",
       "Name: count, Length: 535, dtype: int64"
      ]
     },
     "metadata": {},
     "output_type": "display_data"
    }
   ],
   "source": [
    "category = [\n",
    " 'Bygning til parkering- og transportanlæg',\n",
    " 'Bygning til parkering af flere end to køretøjer i tilknytning til boliger',\n",
    " '(UDFASES) Transport- og garageanlæg (fragtmandshal, lufthavnsbygning, banegårdsbygning, parkeringshus). Garage med plads til et eller to køretøjer registreres med anvendelseskode 910',\n",
    "]\n",
    "\n",
    "variable_name = 'ParkingSpace'\n",
    "\n",
    "# ------------------------- DUMMY IF CATEGORY EXISTS\n",
    "dummy_name = f'additionarBuildingInfo_{variable_name}_Exists_dummy'\n",
    "\n",
    "data_additionarBuildingInfo[dummy_name] = 0\n",
    "data_additionarBuildingInfo[dummy_name] = data_additionarBuildingInfo['RAW_dictionary_additionalBuldingInfos'].apply(dummy_exists, args=(category,))\n",
    "# replace na with zero \n",
    "data_additionarBuildingInfo[dummy_name] = data_additionarBuildingInfo[dummy_name].fillna(0)\n",
    "print('############ dummy:')\n",
    "display(data_additionarBuildingInfo[dummy_name].value_counts())\n",
    "\n",
    "\n",
    "# ------------------------- COUNT OF TOTAL NUMBER OF THE CATEGORY ON PROPERTY\n",
    "count_name = f'additionarBuildingInfo_numberOf_{variable_name}_on_property'\n",
    "\n",
    "data_additionarBuildingInfo[count_name] = 0\n",
    "data_additionarBuildingInfo[count_name] = data_additionarBuildingInfo['RAW_dictionary_additionalBuldingInfos'].apply(count_category, args=(category,))\n",
    "# replace na with zero \n",
    "data_additionarBuildingInfo[count_name] = data_additionarBuildingInfo[count_name].fillna(0)\n",
    "\n",
    "print('############ frequency/Count:')\n",
    "display(data_additionarBuildingInfo[count_name].value_counts())\n",
    "\n",
    "# ------------------------- TOTAL SIZE OF CATEGORY\n",
    "size_name = f'additionarBuildingInfo_{variable_name}_Total_size_sumedUp'\n",
    "\n",
    "data_additionarBuildingInfo[size_name] = 0\n",
    "data_additionarBuildingInfo[size_name] = data_additionarBuildingInfo['RAW_dictionary_additionalBuldingInfos'].apply(total_category_size, args=(category,))\n",
    "# replace na with zero \n",
    "data_additionarBuildingInfo[size_name] = data_additionarBuildingInfo[size_name].fillna(0)\n",
    "\n",
    "print('############ total size:')\n",
    "display(data_additionarBuildingInfo[size_name].value_counts())"
   ]
  },
  {
   "cell_type": "markdown",
   "metadata": {},
   "source": [
    "# --------------------- VARIABLES FOR : **SwimmingPool** ---------------------------------"
   ]
  },
  {
   "cell_type": "code",
   "execution_count": 103,
   "metadata": {},
   "outputs": [
    {
     "name": "stdout",
     "output_type": "stream",
     "text": [
      "############ dummy:\n"
     ]
    },
    {
     "data": {
      "text/plain": [
       "additionarBuildingInfo_SwimmingPool_Exists_dummy\n",
       "0.0    1031492\n",
       "1.0         15\n",
       "Name: count, dtype: int64"
      ]
     },
     "metadata": {},
     "output_type": "display_data"
    },
    {
     "name": "stdout",
     "output_type": "stream",
     "text": [
      "############ frequency/Count:\n"
     ]
    },
    {
     "data": {
      "text/plain": [
       "additionarBuildingInfo_numberOf_SwimmingPool_on_property\n",
       "0.0    1031492\n",
       "1.0         15\n",
       "Name: count, dtype: int64"
      ]
     },
     "metadata": {},
     "output_type": "display_data"
    },
    {
     "name": "stdout",
     "output_type": "stream",
     "text": [
      "############ total size:\n"
     ]
    },
    {
     "data": {
      "text/plain": [
       "additionarBuildingInfo_SwimmingPool_Total_size_sumedUp\n",
       "0.0      1031492\n",
       "244.0          4\n",
       "451.0          4\n",
       "138.0          2\n",
       "668.0          2\n",
       "386.0          1\n",
       "326.0          1\n",
       "85.0           1\n",
       "Name: count, dtype: int64"
      ]
     },
     "metadata": {},
     "output_type": "display_data"
    }
   ],
   "source": [
    "category = [\n",
    " 'Svømmehal'\n",
    "]\n",
    "\n",
    "variable_name = 'SwimmingPool'\n",
    "\n",
    "# ------------------------- DUMMY IF CATEGORY EXISTS\n",
    "dummy_name = f'additionarBuildingInfo_{variable_name}_Exists_dummy'\n",
    "\n",
    "data_additionarBuildingInfo[dummy_name] = 0\n",
    "data_additionarBuildingInfo[dummy_name] = data_additionarBuildingInfo['RAW_dictionary_additionalBuldingInfos'].apply(dummy_exists, args=(category,))\n",
    "# replace na with zero \n",
    "data_additionarBuildingInfo[dummy_name] = data_additionarBuildingInfo[dummy_name].fillna(0)\n",
    "print('############ dummy:')\n",
    "display(data_additionarBuildingInfo[dummy_name].value_counts())\n",
    "\n",
    "\n",
    "# ------------------------- COUNT OF TOTAL NUMBER OF THE CATEGORY ON PROPERTY\n",
    "count_name = f'additionarBuildingInfo_numberOf_{variable_name}_on_property'\n",
    "\n",
    "data_additionarBuildingInfo[count_name] = 0\n",
    "data_additionarBuildingInfo[count_name] = data_additionarBuildingInfo['RAW_dictionary_additionalBuldingInfos'].apply(count_category, args=(category,))\n",
    "# replace na with zero \n",
    "data_additionarBuildingInfo[count_name] = data_additionarBuildingInfo[count_name].fillna(0)\n",
    "\n",
    "print('############ frequency/Count:')\n",
    "display(data_additionarBuildingInfo[count_name].value_counts())\n",
    "\n",
    "# ------------------------- TOTAL SIZE OF CATEGORY\n",
    "size_name = f'additionarBuildingInfo_{variable_name}_Total_size_sumedUp'\n",
    "\n",
    "data_additionarBuildingInfo[size_name] = 0\n",
    "data_additionarBuildingInfo[size_name] = data_additionarBuildingInfo['RAW_dictionary_additionalBuldingInfos'].apply(total_category_size, args=(category,))\n",
    "# replace na with zero \n",
    "data_additionarBuildingInfo[size_name] = data_additionarBuildingInfo[size_name].fillna(0)\n",
    "\n",
    "print('############ total size:')\n",
    "display(data_additionarBuildingInfo[size_name].value_counts())"
   ]
  },
  {
   "cell_type": "markdown",
   "metadata": {},
   "source": [
    "# ---- create variable Total_additionalBuildings_count : counts the total number of buildings on property "
   ]
  },
  {
   "cell_type": "code",
   "execution_count": 105,
   "metadata": {},
   "outputs": [
    {
     "name": "stdout",
     "output_type": "stream",
     "text": [
      "############ frequency/Count:\n"
     ]
    },
    {
     "data": {
      "text/plain": [
       "additionalBuildings_Total_additionalBuildings_count\n",
       "1.0      380746\n",
       "0.0      356438\n",
       "2.0      169417\n",
       "3.0       56442\n",
       "4.0       24696\n",
       "          ...  \n",
       "85.0          1\n",
       "65.0          1\n",
       "112.0         1\n",
       "109.0         1\n",
       "57.0          1\n",
       "Name: count, Length: 115, dtype: int64"
      ]
     },
     "metadata": {},
     "output_type": "display_data"
    }
   ],
   "source": [
    "\n",
    "############################################################################################ METHOD: Count how many of the category exists on property\n",
    "def count_buildings(dictionary_list):\n",
    "    temp_property_count = 0\n",
    "    try:\n",
    "        if isinstance(dictionary_list, list) and dictionary_list !='' and dictionary_list != []:\n",
    "            temp_property_count = len(dictionary_list)\n",
    "            \n",
    "            # return result after forloop\n",
    "            return temp_property_count\n",
    "                \n",
    "        # if empty list then return zero\n",
    "        # else:\n",
    "            # return temp_category_count\n",
    "\n",
    "    except (ValueError, SyntaxError) as e:\n",
    "        print(f\"Error decoding JSON: {e}\")\n",
    "        # return temp_category_count\n",
    "\n",
    "\n",
    "\n",
    "# ------------------------- COUNT OF TOTAL NUMBER OF THE CATEGORY ON PROPERTY\n",
    "count_name = f'additionalBuildings_Total_additionalBuildings_count'\n",
    "\n",
    "data_additionarBuildingInfo[count_name] = 0\n",
    "data_additionarBuildingInfo[count_name] = data_additionarBuildingInfo['RAW_dictionary_additionalBuldingInfos'].apply(count_buildings)\n",
    "# replace na with zero \n",
    "data_additionarBuildingInfo[count_name] = data_additionarBuildingInfo[count_name].fillna(0)\n",
    "\n",
    "print('############ frequency/Count:')\n",
    "display(data_additionarBuildingInfo[count_name].value_counts())\n"
   ]
  },
  {
   "cell_type": "code",
   "execution_count": 106,
   "metadata": {},
   "outputs": [
    {
     "name": "stdout",
     "output_type": "stream",
     "text": [
      "<class 'pandas.core.frame.DataFrame'>\n",
      "RangeIndex: 1031507 entries, 0 to 1031506\n",
      "Data columns (total 45 columns):\n",
      " #   Column                                                            Non-Null Count    Dtype  \n",
      "---  ------                                                            --------------    -----  \n",
      " 0   RowID_MAIN_boliga_ROW_ID_unitID                                   1031507 non-null  object \n",
      " 1   RowID_propertyCode_bfeCode                                        1031507 non-null  int64  \n",
      " 2   RowID_municipalityCode                                            1031507 non-null  int64  \n",
      " 3   RowID_propertyCode_esrCode                                        1031507 non-null  int64  \n",
      " 4   Address_info_addressString                                        1031507 non-null  object \n",
      " 5   Address_info_streetString                                         1031507 non-null  object \n",
      " 6   Address_info_houseNumber                                          1031507 non-null  object \n",
      " 7   Address_info_floorString                                          270077 non-null   object \n",
      " 8   Address_info_sideDoorNumber                                       215286 non-null   object \n",
      " 9   Address_info_zipString_code_and_name                              1031507 non-null  object \n",
      " 10  Address_info_zipCode                                              1031507 non-null  int64  \n",
      " 11  Feature_dummy_isApartment                                         1031507 non-null  bool   \n",
      " 12  Feature_categorical_propertyTypeNumber                            1031507 non-null  int64  \n",
      " 13  Feature_Floor_level_of_property                                   270077 non-null   object \n",
      " 14  Feature_category_propertyTypeName                                 1031507 non-null  object \n",
      " 15  Feature_dummy_property_is_on_sale                                 1031507 non-null  bool   \n",
      " 16  RAW_dictionary_additionalBuldingInfos                             1031507 non-null  object \n",
      " 17  additionarBuildingInfo_Carport_Exists_dummy                       1031507 non-null  float64\n",
      " 18  additionarBuildingInfo_numberOf_Carports_on_property              1031507 non-null  float64\n",
      " 19  additionarBuildingInfo_Carport_Total_size_sumedUp                 1031507 non-null  float64\n",
      " 20  additionarBuildingInfo_Outhouse_Exists_dummy                      1031507 non-null  float64\n",
      " 21  additionarBuildingInfo_numberOf_Outhouse_on_property              1031507 non-null  float64\n",
      " 22  additionarBuildingInfo_Outhouse_Total_size_sumedUp                1031507 non-null  float64\n",
      " 23  additionarBuildingInfo_Garage_Exists_dummy                        1031507 non-null  float64\n",
      " 24  additionarBuildingInfo_numberOf_Garage_on_property                1031507 non-null  float64\n",
      " 25  additionarBuildingInfo_Garage_Total_size_sumedUp                  1031507 non-null  float64\n",
      " 26  additionarBuildingInfo_GreenHouse_Exists_dummy                    1031507 non-null  float64\n",
      " 27  additionarBuildingInfo_numberOf_GreenHouse_on_property            1031507 non-null  float64\n",
      " 28  additionarBuildingInfo_GreenHouse_Total_size_sumedUp              1031507 non-null  float64\n",
      " 29  additionarBuildingInfo_DetachedRoofCovering_Exists_dummy          1031507 non-null  float64\n",
      " 30  additionarBuildingInfo_numberOf_DetachedRoofCovering_on_property  1031507 non-null  float64\n",
      " 31  additionarBuildingInfo_DetachedRoofCovering_Total_size_sumedUp    1031507 non-null  float64\n",
      " 32  additionarBuildingInfo_DetachedConservatory_Exists_dummy          1031507 non-null  float64\n",
      " 33  additionarBuildingInfo_numberOf_DetachedConservatory_on_property  1031507 non-null  float64\n",
      " 34  additionarBuildingInfo_DetachedConservatory_Total_size_sumedUp    1031507 non-null  float64\n",
      " 35  additionarBuildingInfo_StorageBuilding_Exists_dummy               1031507 non-null  float64\n",
      " 36  additionarBuildingInfo_numberOf_StorageBuilding_on_property       1031507 non-null  float64\n",
      " 37  additionarBuildingInfo_StorageBuilding_Total_size_sumedUp         1031507 non-null  float64\n",
      " 38  additionarBuildingInfo_ParkingSpace_Exists_dummy                  1031507 non-null  float64\n",
      " 39  additionarBuildingInfo_numberOf_ParkingSpace_on_property          1031507 non-null  float64\n",
      " 40  additionarBuildingInfo_ParkingSpace_Total_size_sumedUp            1031507 non-null  float64\n",
      " 41  additionarBuildingInfo_SwimmingPool_Exists_dummy                  1031507 non-null  float64\n",
      " 42  additionarBuildingInfo_numberOf_SwimmingPool_on_property          1031507 non-null  float64\n",
      " 43  additionarBuildingInfo_SwimmingPool_Total_size_sumedUp            1031507 non-null  float64\n",
      " 44  additionalBuildings_Total_additionalBuildings_count               1031507 non-null  float64\n",
      "dtypes: bool(2), float64(28), int64(5), object(10)\n",
      "memory usage: 340.4+ MB\n"
     ]
    }
   ],
   "source": [
    "data_additionarBuildingInfo.info()"
   ]
  },
  {
   "cell_type": "markdown",
   "metadata": {},
   "source": [
    "# -------- Change Column names for the NEW COLUMNS :"
   ]
  },
  {
   "cell_type": "code",
   "execution_count": null,
   "metadata": {},
   "outputs": [],
   "source": [
    "# change_column_names = {\n",
    "#     'Number_of_cadestalsInfos_dictionaries' : 'cadestalsInfos_Number_of_cadestalsInfos_dictionaries',\n",
    "#     'Total_land_size_with_property_grundArea': 'cadestalsInfos_Total_land_size_with_property_grundArea'\n",
    "# }\n",
    "\n",
    "# data_cadastralInfo = data_cadastralInfo.rename(columns=change_column_names)\n",
    "# data_cadastralInfo.info()"
   ]
  },
  {
   "cell_type": "markdown",
   "metadata": {},
   "source": [
    "## ------ Save the result "
   ]
  },
  {
   "cell_type": "code",
   "execution_count": 108,
   "metadata": {},
   "outputs": [],
   "source": [
    "sub_columns = [\n",
    "    'RowID_MAIN_boliga_ROW_ID_unitID', \n",
    "\n",
    "    'additionarBuildingInfo_Carport_Exists_dummy',\n",
    "    'additionarBuildingInfo_numberOf_Carports_on_property',\n",
    "    'additionarBuildingInfo_Carport_Total_size_sumedUp',\n",
    "    'additionarBuildingInfo_Outhouse_Exists_dummy',\n",
    "    'additionarBuildingInfo_numberOf_Outhouse_on_property',\n",
    "    'additionarBuildingInfo_Outhouse_Total_size_sumedUp',\n",
    "    'additionarBuildingInfo_Garage_Exists_dummy',\n",
    "    'additionarBuildingInfo_numberOf_Garage_on_property',\n",
    "    'additionarBuildingInfo_Garage_Total_size_sumedUp',\n",
    "    'additionarBuildingInfo_GreenHouse_Exists_dummy',\n",
    "    'additionarBuildingInfo_numberOf_GreenHouse_on_property',\n",
    "    'additionarBuildingInfo_GreenHouse_Total_size_sumedUp',\n",
    "    'additionarBuildingInfo_DetachedRoofCovering_Exists_dummy',\n",
    "    'additionarBuildingInfo_numberOf_DetachedRoofCovering_on_property',\n",
    "    'additionarBuildingInfo_DetachedRoofCovering_Total_size_sumedUp',\n",
    "    'additionarBuildingInfo_DetachedConservatory_Exists_dummy',\n",
    "    'additionarBuildingInfo_numberOf_DetachedConservatory_on_property',\n",
    "    'additionarBuildingInfo_DetachedConservatory_Total_size_sumedUp',\n",
    "    'additionarBuildingInfo_StorageBuilding_Exists_dummy',\n",
    "    'additionarBuildingInfo_numberOf_StorageBuilding_on_property',\n",
    "    'additionarBuildingInfo_StorageBuilding_Total_size_sumedUp',\n",
    "    'additionarBuildingInfo_ParkingSpace_Exists_dummy',\n",
    "    'additionarBuildingInfo_numberOf_ParkingSpace_on_property',\n",
    "    'additionarBuildingInfo_ParkingSpace_Total_size_sumedUp',\n",
    "    'additionarBuildingInfo_SwimmingPool_Exists_dummy',\n",
    "    'additionarBuildingInfo_numberOf_SwimmingPool_on_property',\n",
    "    'additionarBuildingInfo_SwimmingPool_Total_size_sumedUp',\n",
    "    'additionalBuildings_Total_additionalBuildings_count'\n",
    "]\n",
    "\n",
    "path=r'D:\\Thesis\\Properties\\Denmark\\RE_due_scraping_properties\\Boliga_dk\\Creating_main_dataset_for_sales_data\\Data_split\\8_additinalBuildingInfos\\Ready\\Boliga_propertySales_AdditionalBuildingInfos.csv'\n",
    "\n",
    "data_additionarBuildingInfo[sub_columns].to_csv(path, encoding='utf-8', index=False)"
   ]
  },
  {
   "cell_type": "code",
   "execution_count": 107,
   "metadata": {},
   "outputs": [
    {
     "name": "stdout",
     "output_type": "stream",
     "text": [
      "<class 'pandas.core.frame.DataFrame'>\n",
      "RangeIndex: 1031507 entries, 0 to 1031506\n",
      "Data columns (total 45 columns):\n",
      " #   Column                                                            Non-Null Count    Dtype  \n",
      "---  ------                                                            --------------    -----  \n",
      " 0   RowID_MAIN_boliga_ROW_ID_unitID                                   1031507 non-null  object \n",
      " 1   RowID_propertyCode_bfeCode                                        1031507 non-null  int64  \n",
      " 2   RowID_municipalityCode                                            1031507 non-null  int64  \n",
      " 3   RowID_propertyCode_esrCode                                        1031507 non-null  int64  \n",
      " 4   Address_info_addressString                                        1031507 non-null  object \n",
      " 5   Address_info_streetString                                         1031507 non-null  object \n",
      " 6   Address_info_houseNumber                                          1031507 non-null  object \n",
      " 7   Address_info_floorString                                          270077 non-null   object \n",
      " 8   Address_info_sideDoorNumber                                       215286 non-null   object \n",
      " 9   Address_info_zipString_code_and_name                              1031507 non-null  object \n",
      " 10  Address_info_zipCode                                              1031507 non-null  int64  \n",
      " 11  Feature_dummy_isApartment                                         1031507 non-null  bool   \n",
      " 12  Feature_categorical_propertyTypeNumber                            1031507 non-null  int64  \n",
      " 13  Feature_Floor_level_of_property                                   270077 non-null   object \n",
      " 14  Feature_category_propertyTypeName                                 1031507 non-null  object \n",
      " 15  Feature_dummy_property_is_on_sale                                 1031507 non-null  bool   \n",
      " 16  RAW_dictionary_additionalBuldingInfos                             1031507 non-null  object \n",
      " 17  additionarBuildingInfo_Carport_Exists_dummy                       1031507 non-null  float64\n",
      " 18  additionarBuildingInfo_numberOf_Carports_on_property              1031507 non-null  float64\n",
      " 19  additionarBuildingInfo_Carport_Total_size_sumedUp                 1031507 non-null  float64\n",
      " 20  additionarBuildingInfo_Outhouse_Exists_dummy                      1031507 non-null  float64\n",
      " 21  additionarBuildingInfo_numberOf_Outhouse_on_property              1031507 non-null  float64\n",
      " 22  additionarBuildingInfo_Outhouse_Total_size_sumedUp                1031507 non-null  float64\n",
      " 23  additionarBuildingInfo_Garage_Exists_dummy                        1031507 non-null  float64\n",
      " 24  additionarBuildingInfo_numberOf_Garage_on_property                1031507 non-null  float64\n",
      " 25  additionarBuildingInfo_Garage_Total_size_sumedUp                  1031507 non-null  float64\n",
      " 26  additionarBuildingInfo_GreenHouse_Exists_dummy                    1031507 non-null  float64\n",
      " 27  additionarBuildingInfo_numberOf_GreenHouse_on_property            1031507 non-null  float64\n",
      " 28  additionarBuildingInfo_GreenHouse_Total_size_sumedUp              1031507 non-null  float64\n",
      " 29  additionarBuildingInfo_DetachedRoofCovering_Exists_dummy          1031507 non-null  float64\n",
      " 30  additionarBuildingInfo_numberOf_DetachedRoofCovering_on_property  1031507 non-null  float64\n",
      " 31  additionarBuildingInfo_DetachedRoofCovering_Total_size_sumedUp    1031507 non-null  float64\n",
      " 32  additionarBuildingInfo_DetachedConservatory_Exists_dummy          1031507 non-null  float64\n",
      " 33  additionarBuildingInfo_numberOf_DetachedConservatory_on_property  1031507 non-null  float64\n",
      " 34  additionarBuildingInfo_DetachedConservatory_Total_size_sumedUp    1031507 non-null  float64\n",
      " 35  additionarBuildingInfo_StorageBuilding_Exists_dummy               1031507 non-null  float64\n",
      " 36  additionarBuildingInfo_numberOf_StorageBuilding_on_property       1031507 non-null  float64\n",
      " 37  additionarBuildingInfo_StorageBuilding_Total_size_sumedUp         1031507 non-null  float64\n",
      " 38  additionarBuildingInfo_ParkingSpace_Exists_dummy                  1031507 non-null  float64\n",
      " 39  additionarBuildingInfo_numberOf_ParkingSpace_on_property          1031507 non-null  float64\n",
      " 40  additionarBuildingInfo_ParkingSpace_Total_size_sumedUp            1031507 non-null  float64\n",
      " 41  additionarBuildingInfo_SwimmingPool_Exists_dummy                  1031507 non-null  float64\n",
      " 42  additionarBuildingInfo_numberOf_SwimmingPool_on_property          1031507 non-null  float64\n",
      " 43  additionarBuildingInfo_SwimmingPool_Total_size_sumedUp            1031507 non-null  float64\n",
      " 44  additionalBuildings_Total_additionalBuildings_count               1031507 non-null  float64\n",
      "dtypes: bool(2), float64(28), int64(5), object(10)\n",
      "memory usage: 340.4+ MB\n"
     ]
    }
   ],
   "source": [
    "data_additionarBuildingInfo.info()"
   ]
  }
 ],
 "metadata": {
  "kernelspec": {
   "display_name": "base",
   "language": "python",
   "name": "python3"
  },
  "language_info": {
   "codemirror_mode": {
    "name": "ipython",
    "version": 3
   },
   "file_extension": ".py",
   "mimetype": "text/x-python",
   "name": "python",
   "nbconvert_exporter": "python",
   "pygments_lexer": "ipython3",
   "version": "3.11.4"
  }
 },
 "nbformat": 4,
 "nbformat_minor": 2
}
