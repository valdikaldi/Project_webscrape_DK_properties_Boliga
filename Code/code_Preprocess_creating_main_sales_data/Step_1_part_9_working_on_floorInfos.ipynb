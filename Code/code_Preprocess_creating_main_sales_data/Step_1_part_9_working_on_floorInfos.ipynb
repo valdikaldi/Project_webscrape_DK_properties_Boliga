{
 "cells": [
  {
   "cell_type": "code",
   "execution_count": null,
   "metadata": {},
   "outputs": [],
   "source": [
    "import pandas as pd \n",
    "import ast\n",
    "import json\n",
    "from pandas import json_normalize"
   ]
  },
  {
   "cell_type": "markdown",
   "metadata": {},
   "source": [
    ".\n",
    "## ==================================================\n",
    "# Boliga_propertySales_additinalBuildingInfos.csv\n",
    "## ==================================================\n",
    "."
   ]
  },
  {
   "cell_type": "markdown",
   "metadata": {},
   "source": [
    "## ----- read in the file : "
   ]
  },
  {
   "cell_type": "code",
   "execution_count": null,
   "metadata": {},
   "outputs": [],
   "source": [
    "path = r'D:\\Thesis\\Properties\\Denmark\\RE_due_scraping_properties\\Boliga_dk\\Creating_main_dataset_for_sales_data\\Data_split\\9_floorInfos\\Boliga_propertySales_floorInfos.csv'\n",
    "data_floorInfos = pd.read_csv(path, encoding='utf-8',low_memory=False)\n",
    "data_floorInfos.info()"
   ]
  },
  {
   "cell_type": "markdown",
   "metadata": {},
   "source": [
    "### --------- Convert \"RAW_dictionary_cadastralInfos\" column to dictionary object                "
   ]
  },
  {
   "cell_type": "code",
   "execution_count": null,
   "metadata": {},
   "outputs": [],
   "source": [
    "def decode_json(x):\n",
    "    try:\n",
    "        if isinstance(x, str) and x.strip() != \"\" and not pd.isna(x):\n",
    "            return ast.literal_eval(x)\n",
    "            # Alternatively, you can use json.loads as follows:\n",
    "            # return json.loads(x.replace(\"'\", '\"'))\n",
    "        else:\n",
    "            return x\n",
    "    except (ValueError, SyntaxError) as e:\n",
    "        print(f\"Error decoding JSON: {e}\")\n",
    "        return None\n",
    "\n",
    "# Apply the decoding function to the specified column\n",
    "data_floorInfos['RAW_dictionary_floorInfos'] = data_floorInfos['RAW_dictionary_floorInfos'].apply(decode_json)\n"
   ]
  },
  {
   "cell_type": "code",
   "execution_count": null,
   "metadata": {},
   "outputs": [],
   "source": [
    "data_floorInfos['RAW_dictionary_floorInfos'][1031505]"
   ]
  },
  {
   "cell_type": "markdown",
   "metadata": {},
   "source": [
    "## --- Count number of items in the list i.e. number of dictionaries in the list of  RAW_dictionary_cadastralInfos- to make sure they are all balance "
   ]
  },
  {
   "cell_type": "code",
   "execution_count": null,
   "metadata": {},
   "outputs": [],
   "source": [
    "def count_objects(x):\n",
    "    global global_counter\n",
    "    global_counter+=1\n",
    "\n",
    "    if isinstance(x,list) and x!='':\n",
    "        length = len(x)\n",
    "        # if length == 15:\n",
    "        #     print(global_counter)\n",
    "        return countlist.append(length)\n",
    "\n",
    "countlist = []\n",
    "global_counter=-1\n",
    "# Apply the decoding function to the specified column\n",
    "data_floorInfos['RAW_dictionary_floorInfos'].apply(count_objects)\n",
    "\n",
    "set(countlist)"
   ]
  },
  {
   "cell_type": "code",
   "execution_count": null,
   "metadata": {},
   "outputs": [],
   "source": [
    "data_floorInfos.info()"
   ]
  },
  {
   "cell_type": "markdown",
   "metadata": {},
   "source": [
    "## ----  Get the number of unique \"designations\" in the dictionaries of the floorinfos"
   ]
  },
  {
   "cell_type": "code",
   "execution_count": null,
   "metadata": {},
   "outputs": [],
   "source": [
    "data_floorInfos['RAW_dictionary_floorInfos']"
   ]
  },
  {
   "cell_type": "code",
   "execution_count": null,
   "metadata": {},
   "outputs": [],
   "source": [
    "list_buildingUsage = []\n",
    "for item_list in data_floorInfos['RAW_dictionary_floorInfos']:\n",
    "\n",
    "    if isinstance(item_list,list) and item_list != '' and item_list != []:\n",
    "\n",
    "        for item_dictionary in item_list:\n",
    "\n",
    "            temp_buildingusage = item_dictionary['designation']\n",
    "            list_buildingUsage.append(temp_buildingusage)"
   ]
  },
  {
   "cell_type": "code",
   "execution_count": null,
   "metadata": {},
   "outputs": [],
   "source": [
    "from collections import Counter\n",
    "\n",
    "# Use Counter to count the frequency of each item in the list\n",
    "item_frequency = Counter(list_buildingUsage)\n",
    "\n",
    "# Display the frequency of each item\n",
    "for item, count in item_frequency.items():\n",
    "    print(f\"{count} : {item}\")"
   ]
  },
  {
   "cell_type": "code",
   "execution_count": null,
   "metadata": {},
   "outputs": [],
   "source": [
    "# -------- get row index of properties with given value: \n",
    "index_count = -1\n",
    "for item_list in data_floorInfos['RAW_dictionary_floorInfos']:\n",
    "    index_count+=1\n",
    "\n",
    "    if isinstance(item_list,list) and item_list != '' and item_list != []:\n",
    "\n",
    "        for item_dictionary in item_list:\n",
    "\n",
    "            temp_buildingusage = item_dictionary['basementLivingArea']\n",
    "\n",
    "            if temp_buildingusage == -39.0: #and item_dictionary['usedAtticArea']>0 and item_dictionary['highBasementArea']>0:\n",
    "                print(index_count)"
   ]
  },
  {
   "cell_type": "code",
   "execution_count": null,
   "metadata": {},
   "outputs": [],
   "source": [
    "print(data_floorInfos['RowID_MAIN_boliga_ROW_ID_unitID'][352344])"
   ]
  },
  {
   "cell_type": "code",
   "execution_count": null,
   "metadata": {},
   "outputs": [],
   "source": [
    "display(data_floorInfos['RAW_dictionary_floorInfos'][6546])"
   ]
  },
  {
   "cell_type": "code",
   "execution_count": null,
   "metadata": {},
   "outputs": [],
   "source": [
    "display(data_floorInfos['RAW_dictionary_floorInfos'][337371])"
   ]
  },
  {
   "cell_type": "markdown",
   "metadata": {},
   "source": [
    "# ------ I will NOT NORMALIZE THE COLUMN \"\" \n",
    "#### Majority have 1 OR 0 ITEMS  but there are many with multiple land parts \n",
    "\n",
    ".\n",
    "\n",
    "# The plan : create the following variables: \n",
    "* create following\n",
    "    * dummy_basement_exists\n",
    "    * total_size_of_basement\n",
    "    * basement_living_area\n"
   ]
  },
  {
   "cell_type": "code",
   "execution_count": null,
   "metadata": {},
   "outputs": [],
   "source": [
    "# # normalize the column \n",
    "# normalized_data = json_normalize(data_cadastralInfo['RAW_dictionary_cadastralInfos'])\n",
    "\n",
    "# # concatenate the normalized data and the original dataset\n",
    "# data_cadastralInfo = pd.concat([data_cadastralInfo, normalized_data], axis=1)\n",
    "\n",
    "# data_cadastralInfo.info()"
   ]
  },
  {
   "cell_type": "markdown",
   "metadata": {},
   "source": [
    "# ----- METHODS TO : CREATING DUMMIES, COUNTING AND TOTAL LIVING_AREA ---"
   ]
  },
  {
   "cell_type": "code",
   "execution_count": null,
   "metadata": {},
   "outputs": [],
   "source": [
    "\n",
    "############################################################################################ \n",
    "def dummy_exists(dictionary_list, BUILDING_CATEGORY_NAME):\n",
    "    temp_dummy_exists = 0\n",
    "    try:\n",
    "        if isinstance(dictionary_list, list) and dictionary_list !='' and dictionary_list != []:\n",
    "            for dictionary_item in dictionary_list:\n",
    "                temp_buildingUsage = dictionary_item['designation'].lower()\n",
    "\n",
    "                for BUILDING_CATEGORY in BUILDING_CATEGORY_NAME:\n",
    "                     if temp_buildingUsage == BUILDING_CATEGORY.lower():\n",
    "                         return 1\n",
    "                \n",
    "        # if empty list then return zero\n",
    "        # else:\n",
    "        #     return temp_dummy_exists\n",
    "\n",
    "    except (ValueError, SyntaxError) as e:\n",
    "        print(f\"Error decoding JSON: {e}\")\n",
    "        # return temp_dummy_exists\n",
    "    \n",
    "\n",
    "############################################################################################ \n",
    "def get_basement_totalarea(dictionary_list, BUILDING_CATEGORY_NAME):\n",
    "    temp_totalarea = 0\n",
    "    try:\n",
    "        if isinstance(dictionary_list, list) and dictionary_list !='' and dictionary_list != []:\n",
    "            for dictionary_item in dictionary_list:\n",
    "                temp_buildingUsage = dictionary_item['designation'].lower()\n",
    "\n",
    "                for BUILDING_CATEGORY in BUILDING_CATEGORY_NAME:\n",
    "                     if temp_buildingUsage == BUILDING_CATEGORY.lower():\n",
    "                        temp_totalarea+= dictionary_item['area']\n",
    "            \n",
    "            # return result after forloop\n",
    "            return temp_totalarea\n",
    "                \n",
    "        # if empty list then return zero\n",
    "        # else:\n",
    "            # return temp_category_count\n",
    "\n",
    "    except (ValueError, SyntaxError) as e:\n",
    "        print(f\"Error decoding JSON: {e}\")\n",
    "        # return temp_category_count\n",
    "    \n",
    "############################################################################################\n",
    "def get_basement_livingarea(dictionary_list, BUILDING_CATEGORY_NAME):\n",
    "    temp_livingarea = 0\n",
    "    try:\n",
    "        if isinstance(dictionary_list, list) and dictionary_list !='' and dictionary_list != []:\n",
    "            for dictionary_item in dictionary_list:\n",
    "                temp_buildingUsage = dictionary_item['designation'].lower()\n",
    "\n",
    "                for BUILDING_CATEGORY in BUILDING_CATEGORY_NAME:\n",
    "                     if temp_buildingUsage == BUILDING_CATEGORY.lower():\n",
    "                        temp_livingarea+= dictionary_item['basementLivingArea']\n",
    "            \n",
    "            # return result after forloop\n",
    "            return temp_livingarea\n",
    "                \n",
    "        # if empty list then return zero\n",
    "        # else:\n",
    "            # return temp_category_count\n",
    "\n",
    "    except (ValueError, SyntaxError) as e:\n",
    "        print(f\"Error decoding JSON: {e}\")\n",
    "        # return temp_category_count\n"
   ]
  },
  {
   "cell_type": "code",
   "execution_count": null,
   "metadata": {},
   "outputs": [],
   "source": [
    "data_floorInfos['RAW_dictionary_floorInfos'][123]"
   ]
  },
  {
   "cell_type": "markdown",
   "metadata": {},
   "source": [
    "# --------------------- VARIABLES basement dummy (does property have a basement yes/no or 1/0)"
   ]
  },
  {
   "cell_type": "code",
   "execution_count": null,
   "metadata": {},
   "outputs": [],
   "source": [
    "designation_value = ['KL']"
   ]
  },
  {
   "cell_type": "code",
   "execution_count": null,
   "metadata": {},
   "outputs": [],
   "source": [
    "\n",
    "# ------------------------- DUMMY IF CATEGORY EXISTS\n",
    "data_floorInfos['floorInfo_Basement_Exists_dummy'] = 0\n",
    "data_floorInfos['floorInfo_Basement_Exists_dummy'] = data_floorInfos['RAW_dictionary_floorInfos'].apply(dummy_exists, args=(designation_value,))\n",
    "# replace na with zero \n",
    "data_floorInfos['floorInfo_Basement_Exists_dummy'] = data_floorInfos['floorInfo_Basement_Exists_dummy'].fillna(0)\n",
    "print('############ dummy:')\n",
    "display(data_floorInfos['floorInfo_Basement_Exists_dummy'].value_counts())"
   ]
  },
  {
   "cell_type": "code",
   "execution_count": null,
   "metadata": {},
   "outputs": [],
   "source": [
    "# ------------------------- COUNT OF TOTAL NUMBER OF THE CATEGORY ON PROPERTY\n",
    "data_floorInfos['floorInfo_Basement_totalarea'] = 0\n",
    "data_floorInfos['floorInfo_Basement_totalarea'] = data_floorInfos['RAW_dictionary_floorInfos'].apply(get_basement_totalarea, args=(designation_value,))\n",
    "# replace na with zero \n",
    "data_floorInfos['floorInfo_Basement_totalarea'] = data_floorInfos['floorInfo_Basement_totalarea'].fillna(0)\n",
    "print('############ dummy:')\n",
    "display(data_floorInfos['floorInfo_Basement_totalarea'].value_counts())"
   ]
  },
  {
   "cell_type": "code",
   "execution_count": null,
   "metadata": {},
   "outputs": [],
   "source": [
    "# ------------------------- COUNT OF TOTAL NUMBER OF THE CATEGORY ON PROPERTY\n",
    "data_floorInfos['floorInfo_Basement_livingarea'] = 0\n",
    "data_floorInfos['floorInfo_Basement_livingarea'] = data_floorInfos['RAW_dictionary_floorInfos'].apply(get_basement_livingarea, args=(designation_value,))\n",
    "# replace na with zero \n",
    "data_floorInfos['floorInfo_Basement_livingarea'] = data_floorInfos['floorInfo_Basement_livingarea'].fillna(0)\n",
    "print('############ dummy:')\n",
    "display(data_floorInfos['floorInfo_Basement_livingarea'].value_counts())"
   ]
  },
  {
   "cell_type": "code",
   "execution_count": null,
   "metadata": {},
   "outputs": [],
   "source": []
  },
  {
   "cell_type": "markdown",
   "metadata": {},
   "source": [
    "# -------- Change Column names for the NEW COLUMNS :"
   ]
  },
  {
   "cell_type": "code",
   "execution_count": null,
   "metadata": {},
   "outputs": [],
   "source": [
    "# change_column_names = {\n",
    "#     'Number_of_cadestalsInfos_dictionaries' : 'cadestalsInfos_Number_of_cadestalsInfos_dictionaries',\n",
    "#     'Total_land_size_with_property_grundArea': 'cadestalsInfos_Total_land_size_with_property_grundArea'\n",
    "# }\n",
    "\n",
    "# data_cadastralInfo = data_cadastralInfo.rename(columns=change_column_names)\n",
    "# data_cadastralInfo.info()"
   ]
  },
  {
   "cell_type": "code",
   "execution_count": null,
   "metadata": {},
   "outputs": [],
   "source": [
    "data_floorInfos.info()"
   ]
  },
  {
   "cell_type": "markdown",
   "metadata": {},
   "source": [
    "## ------ Save the result "
   ]
  },
  {
   "cell_type": "code",
   "execution_count": null,
   "metadata": {},
   "outputs": [],
   "source": [
    "sub_columns = [\n",
    "    'RowID_MAIN_boliga_ROW_ID_unitID', \n",
    "\n",
    "    'floorInfo_Basement_Exists_dummy',\n",
    "    'floorInfo_Basement_totalarea',\n",
    "    'floorInfo_Basement_livingarea',\n",
    "]\n",
    "\n",
    "path=r'D:\\Thesis\\Properties\\Denmark\\RE_due_scraping_properties\\Boliga_dk\\Creating_main_dataset_for_sales_data\\Data_split\\9_floorInfos\\Ready\\Boliga_propertySales_floorInfos_Ready.csv'\n",
    "\n",
    "data_floorInfos[sub_columns].to_csv(path, encoding='utf-8', index=False)"
   ]
  },
  {
   "cell_type": "code",
   "execution_count": null,
   "metadata": {},
   "outputs": [],
   "source": [
    "data_additionarBuildingInfo.info()"
   ]
  }
 ],
 "metadata": {
  "kernelspec": {
   "display_name": "base",
   "language": "python",
   "name": "python3"
  },
  "language_info": {
   "codemirror_mode": {
    "name": "ipython",
    "version": 3
   },
   "file_extension": ".py",
   "mimetype": "text/x-python",
   "name": "python",
   "nbconvert_exporter": "python",
   "pygments_lexer": "ipython3",
   "version": "3.11.4"
  }
 },
 "nbformat": 4,
 "nbformat_minor": 2
}
